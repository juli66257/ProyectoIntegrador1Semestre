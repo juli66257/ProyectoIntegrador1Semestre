{
  "nbformat": 4,
  "nbformat_minor": 0,
  "metadata": {
    "colab": {
      "name": "data_modeling.ipynb",
      "provenance": [],
      "collapsed_sections": [
        "sIeVzD4ydlYd"
      ],
      "include_colab_link": true
    },
    "kernelspec": {
      "name": "python3",
      "display_name": "Python 3"
    },
    "language_info": {
      "name": "python"
    }
  },
  "cells": [
    {
      "cell_type": "markdown",
      "metadata": {
        "id": "view-in-github",
        "colab_type": "text"
      },
      "source": [
        "<a href=\"https://colab.research.google.com/github/juli66257/ProyectoIntegrador1Semestre/blob/main/Code/data_modeling.ipynb\" target=\"_parent\"><img src=\"https://colab.research.google.com/assets/colab-badge.svg\" alt=\"Open In Colab\"/></a>"
      ]
    },
    {
      "cell_type": "code",
      "execution_count": null,
      "metadata": {
        "colab": {
          "base_uri": "https://localhost:8080/"
        },
        "id": "X-pfq_Fs4wv7",
        "outputId": "8e5d1a80-ddd5-4a0d-dcc6-901a6243af27"
      },
      "outputs": [
        {
          "output_type": "stream",
          "name": "stdout",
          "text": [
            "Mounted at /content/drive\n"
          ]
        }
      ],
      "source": [
        "from google.colab import drive\n",
        "drive.mount('/content/drive')"
      ]
    },
    {
      "cell_type": "code",
      "source": [
        "%cd \"drive/Shareddrives/MSc Ciencia Datos/proyectointegrador/notebooks\"\n",
        "\n",
        "!pip install import_ipynb\n",
        "import import_ipynb\n",
        "from AWS_S3_Interaction import get_buckets_from_S3, upload_file_to_S3\n",
        "from AWS_S3_Interaction import delete_file_from_S3, download_from_S3"
      ],
      "metadata": {
        "colab": {
          "base_uri": "https://localhost:8080/"
        },
        "id": "OvBwUwjaOd_q",
        "outputId": "0992bb32-b016-4c34-df21-97b3312644d1"
      },
      "execution_count": null,
      "outputs": [
        {
          "output_type": "stream",
          "name": "stdout",
          "text": [
            "/content/drive/Shareddrives/MSc Ciencia Datos/proyectointegrador/notebooks\n",
            "Looking in indexes: https://pypi.org/simple, https://us-python.pkg.dev/colab-wheels/public/simple/\n",
            "Collecting import_ipynb\n",
            "  Downloading import_ipynb-0.1.4-py3-none-any.whl (4.1 kB)\n",
            "Requirement already satisfied: IPython in /usr/local/lib/python3.7/dist-packages (from import_ipynb) (5.5.0)\n",
            "Requirement already satisfied: nbformat in /usr/local/lib/python3.7/dist-packages (from import_ipynb) (5.4.0)\n",
            "Requirement already satisfied: simplegeneric>0.8 in /usr/local/lib/python3.7/dist-packages (from IPython->import_ipynb) (0.8.1)\n",
            "Requirement already satisfied: decorator in /usr/local/lib/python3.7/dist-packages (from IPython->import_ipynb) (4.4.2)\n",
            "Requirement already satisfied: traitlets>=4.2 in /usr/local/lib/python3.7/dist-packages (from IPython->import_ipynb) (5.1.1)\n",
            "Requirement already satisfied: pexpect in /usr/local/lib/python3.7/dist-packages (from IPython->import_ipynb) (4.8.0)\n",
            "Requirement already satisfied: pickleshare in /usr/local/lib/python3.7/dist-packages (from IPython->import_ipynb) (0.7.5)\n",
            "Requirement already satisfied: prompt-toolkit<2.0.0,>=1.0.4 in /usr/local/lib/python3.7/dist-packages (from IPython->import_ipynb) (1.0.18)\n",
            "Requirement already satisfied: setuptools>=18.5 in /usr/local/lib/python3.7/dist-packages (from IPython->import_ipynb) (57.4.0)\n",
            "Requirement already satisfied: pygments in /usr/local/lib/python3.7/dist-packages (from IPython->import_ipynb) (2.6.1)\n",
            "Requirement already satisfied: wcwidth in /usr/local/lib/python3.7/dist-packages (from prompt-toolkit<2.0.0,>=1.0.4->IPython->import_ipynb) (0.2.5)\n",
            "Requirement already satisfied: six>=1.9.0 in /usr/local/lib/python3.7/dist-packages (from prompt-toolkit<2.0.0,>=1.0.4->IPython->import_ipynb) (1.15.0)\n",
            "Requirement already satisfied: jsonschema>=2.6 in /usr/local/lib/python3.7/dist-packages (from nbformat->import_ipynb) (4.3.3)\n",
            "Requirement already satisfied: fastjsonschema in /usr/local/lib/python3.7/dist-packages (from nbformat->import_ipynb) (2.15.3)\n",
            "Requirement already satisfied: jupyter-core in /usr/local/lib/python3.7/dist-packages (from nbformat->import_ipynb) (4.10.0)\n",
            "Requirement already satisfied: importlib-resources>=1.4.0 in /usr/local/lib/python3.7/dist-packages (from jsonschema>=2.6->nbformat->import_ipynb) (5.7.1)\n",
            "Requirement already satisfied: attrs>=17.4.0 in /usr/local/lib/python3.7/dist-packages (from jsonschema>=2.6->nbformat->import_ipynb) (21.4.0)\n",
            "Requirement already satisfied: importlib-metadata in /usr/local/lib/python3.7/dist-packages (from jsonschema>=2.6->nbformat->import_ipynb) (4.11.4)\n",
            "Requirement already satisfied: pyrsistent!=0.17.0,!=0.17.1,!=0.17.2,>=0.14.0 in /usr/local/lib/python3.7/dist-packages (from jsonschema>=2.6->nbformat->import_ipynb) (0.18.1)\n",
            "Requirement already satisfied: typing-extensions in /usr/local/lib/python3.7/dist-packages (from jsonschema>=2.6->nbformat->import_ipynb) (4.2.0)\n",
            "Requirement already satisfied: zipp>=3.1.0 in /usr/local/lib/python3.7/dist-packages (from importlib-resources>=1.4.0->jsonschema>=2.6->nbformat->import_ipynb) (3.8.0)\n",
            "Requirement already satisfied: ptyprocess>=0.5 in /usr/local/lib/python3.7/dist-packages (from pexpect->IPython->import_ipynb) (0.7.0)\n",
            "Installing collected packages: import-ipynb\n",
            "Successfully installed import-ipynb-0.1.4\n",
            "importing Jupyter notebook from AWS_S3_Interaction.ipynb\n",
            "Looking in indexes: https://pypi.org/simple, https://us-python.pkg.dev/colab-wheels/public/simple/\n",
            "Collecting boto3\n",
            "  Downloading boto3-1.24.2-py3-none-any.whl (132 kB)\n",
            "\u001b[K     |████████████████████████████████| 132 kB 4.4 MB/s \n",
            "\u001b[?25hCollecting jmespath<2.0.0,>=0.7.1\n",
            "  Downloading jmespath-1.0.0-py3-none-any.whl (23 kB)\n",
            "Collecting s3transfer<0.7.0,>=0.6.0\n",
            "  Downloading s3transfer-0.6.0-py3-none-any.whl (79 kB)\n",
            "\u001b[K     |████████████████████████████████| 79 kB 5.5 MB/s \n",
            "\u001b[?25hCollecting botocore<1.28.0,>=1.27.2\n",
            "  Downloading botocore-1.27.2-py3-none-any.whl (8.8 MB)\n",
            "\u001b[K     |████████████████████████████████| 8.8 MB 46.7 MB/s \n",
            "\u001b[?25hCollecting urllib3<1.27,>=1.25.4\n",
            "  Downloading urllib3-1.26.9-py2.py3-none-any.whl (138 kB)\n",
            "\u001b[K     |████████████████████████████████| 138 kB 62.3 MB/s \n",
            "\u001b[?25hRequirement already satisfied: python-dateutil<3.0.0,>=2.1 in /usr/local/lib/python3.7/dist-packages (from botocore<1.28.0,>=1.27.2->boto3) (2.8.2)\n",
            "Requirement already satisfied: six>=1.5 in /usr/local/lib/python3.7/dist-packages (from python-dateutil<3.0.0,>=2.1->botocore<1.28.0,>=1.27.2->boto3) (1.15.0)\n",
            "Installing collected packages: urllib3, jmespath, botocore, s3transfer, boto3\n",
            "  Attempting uninstall: urllib3\n",
            "    Found existing installation: urllib3 1.24.3\n",
            "    Uninstalling urllib3-1.24.3:\n",
            "      Successfully uninstalled urllib3-1.24.3\n",
            "\u001b[31mERROR: pip's dependency resolver does not currently take into account all the packages that are installed. This behaviour is the source of the following dependency conflicts.\n",
            "requests 2.23.0 requires urllib3!=1.25.0,!=1.25.1,<1.26,>=1.21.1, but you have urllib3 1.26.9 which is incompatible.\n",
            "datascience 0.10.6 requires folium==0.2.1, but you have folium 0.8.3 which is incompatible.\u001b[0m\n",
            "Successfully installed boto3-1.24.2 botocore-1.27.2 jmespath-1.0.0 s3transfer-0.6.0 urllib3-1.26.9\n"
          ]
        }
      ]
    },
    {
      "cell_type": "markdown",
      "source": [
        "# **Clasificador de morosidad**"
      ],
      "metadata": {
        "id": "iP7wfHRlEf5E"
      }
    },
    {
      "cell_type": "code",
      "execution_count": null,
      "metadata": {
        "id": "mqcCSDm8cWcT"
      },
      "outputs": [],
      "source": [
        "import pandas as pd\n",
        "import numpy as np\n",
        "import seaborn as sns\n",
        "import matplotlib.pyplot as plt\n",
        "import warnings\n",
        "warnings.filterwarnings(\"ignore\")\n",
        "\n",
        "sns.set_context('notebook')\n",
        "\n",
        "pd.options.display.max_columns = None\n",
        "pd.options.display.max_rows= None"
      ]
    },
    {
      "cell_type": "code",
      "execution_count": null,
      "metadata": {
        "id": "EWndybrXhPe8"
      },
      "outputs": [],
      "source": [
        "from sklearn import preprocessing\n",
        "from numpy import array\n",
        "from numpy import argmax\n",
        "from sklearn.impute import KNNImputer\n",
        "from sklearn.preprocessing import LabelEncoder\n",
        "from sklearn.preprocessing import OneHotEncoder\n",
        "from sklearn.decomposition import PCA\n",
        "from sklearn.metrics import roc_curve\n",
        "from sklearn.tree import DecisionTreeClassifier\n",
        "from sklearn.svm import SVC\n",
        "from sklearn.linear_model import LogisticRegression\n",
        "from sklearn.ensemble import RandomForestClassifier\n",
        "from sklearn.metrics import accuracy_score, auc, RocCurveDisplay, matthews_corrcoef\n",
        "from sklearn.metrics import classification_report, plot_confusion_matrix, precision_score, recall_score, roc_curve\n",
        "from sklearn.model_selection import train_test_split, cross_validate, cross_val_score, GridSearchCV, RandomizedSearchCV\n",
        "import pickle"
      ]
    },
    {
      "cell_type": "code",
      "source": [
        "BUCKET_NAME = 'datalake-fraud-detection'"
      ],
      "metadata": {
        "id": "fO9R2_wvQA-0"
      },
      "execution_count": null,
      "outputs": []
    },
    {
      "cell_type": "code",
      "source": [
        "download_from_S3(\n",
        "    bucket = BUCKET_NAME,\n",
        "    object_name = 'TRUSTED-zone/data_w_o_outliers.csv',\n",
        "    file_path = '/content/drive/Shareddrives/MSc Ciencia Datos/proyectointegrador/data lake/data_w_o_outliers.csv'\n",
        ")"
      ],
      "metadata": {
        "colab": {
          "base_uri": "https://localhost:8080/"
        },
        "id": "jFjCnwS2P6Lq",
        "outputId": "b9999c25-f260-4e2f-f391-9c4f7faed28a"
      },
      "execution_count": null,
      "outputs": [
        {
          "output_type": "execute_result",
          "data": {
            "text/plain": [
              "True"
            ]
          },
          "metadata": {},
          "execution_count": 6
        }
      ]
    },
    {
      "cell_type": "code",
      "source": [
        "data_w_o_outliers = pd.read_csv(\"/content/drive/Shareddrives/MSc Ciencia Datos/proyectointegrador/data lake/data_w_o_outliers.csv\")\n",
        "data_w_o_outliers.drop(\n",
        "    columns = 'Unnamed: 0',\n",
        "    inplace = True\n",
        ")\n",
        "print(f'Shape del dataset: {data_w_o_outliers.shape}')\n",
        "data_w_o_outliers.head()"
      ],
      "metadata": {
        "colab": {
          "base_uri": "https://localhost:8080/",
          "height": 340
        },
        "id": "IBdAMD9UtRb_",
        "outputId": "1fd00f80-7625-4f78-b65a-3238e464f7de"
      },
      "execution_count": null,
      "outputs": [
        {
          "output_type": "stream",
          "name": "stdout",
          "text": [
            "Shape del dataset: (261196, 73)\n"
          ]
        },
        {
          "output_type": "execute_result",
          "data": {
            "text/plain": [
              "   CNT_CHILDREN  AMT_INCOME_TOTAL  AMT_CREDIT  AMT_ANNUITY  \\\n",
              "0     -0.577584          0.142334   -0.477952    -0.165929   \n",
              "1     -0.577584          0.426982    1.726035     0.593311   \n",
              "2     -0.577584         -0.426962   -1.152880    -1.405130   \n",
              "3     -0.577584         -0.142314   -0.711333     0.178277   \n",
              "4     -0.577584         -0.199244   -0.213538    -0.361641   \n",
              "\n",
              "   REGION_POPULATION_RELATIVE  DAYS_BIRTH  DAYS_REGISTRATION  DAYS_ID_PUBLISH  \\\n",
              "0                   -0.149306    1.506826           0.379922         0.579151   \n",
              "1                   -1.252967   -0.166808           1.078763         1.790876   \n",
              "2                   -0.783513   -0.689475           0.206205         0.306861   \n",
              "3                   -0.929101   -0.680081          -1.375696         0.369137   \n",
              "4                    0.563950   -0.892493           0.191729        -0.307283   \n",
              "\n",
              "   FLAG_EMP_PHONE  FLAG_WORK_PHONE  FLAG_PHONE  FLAG_EMAIL  \\\n",
              "0        0.468649        -0.499074    1.599335   -0.245092   \n",
              "1        0.468649        -0.499074    1.599335   -0.245092   \n",
              "2        0.468649         2.003709    1.599335   -0.245092   \n",
              "3        0.468649        -0.499074   -0.625260   -0.245092   \n",
              "4        0.468649        -0.499074   -0.625260   -0.245092   \n",
              "\n",
              "   REGION_RATING_CLIENT_W_CITY  HOUR_APPR_PROCESS_START  \\\n",
              "0                    -0.062867                -0.631698   \n",
              "1                    -2.052397                -0.325497   \n",
              "2                    -0.062867                -0.937900   \n",
              "3                    -0.062867                 1.511712   \n",
              "4                    -0.062867                -0.325497   \n",
              "\n",
              "   REG_REGION_NOT_LIVE_REGION  REG_REGION_NOT_WORK_REGION  \\\n",
              "0                   -0.123887                   -0.231221   \n",
              "1                   -0.123887                   -0.231221   \n",
              "2                   -0.123887                   -0.231221   \n",
              "3                   -0.123887                   -0.231221   \n",
              "4                   -0.123887                   -0.231221   \n",
              "\n",
              "   LIVE_REGION_NOT_WORK_REGION  REG_CITY_NOT_LIVE_CITY  \\\n",
              "0                    -0.205869                -0.29119   \n",
              "1                    -0.205869                -0.29119   \n",
              "2                    -0.205869                -0.29119   \n",
              "3                    -0.205869                -0.29119   \n",
              "4                    -0.205869                -0.29119   \n",
              "\n",
              "   REG_CITY_NOT_WORK_CITY  LIVE_CITY_NOT_WORK_CITY  EXT_SOURCE_2  \\\n",
              "0               -0.547341                -0.467906     -1.315926   \n",
              "1               -0.547341                -0.467906      0.564665   \n",
              "2               -0.547341                -0.467906      0.217469   \n",
              "3               -0.547341                -0.467906      0.712245   \n",
              "4                1.827016                 2.137184     -1.002982   \n",
              "\n",
              "   OBS_30_CNT_SOCIAL_CIRCLE  DEF_30_CNT_SOCIAL_CIRCLE  \\\n",
              "0                  0.240461                  4.156068   \n",
              "1                 -0.175969                 -0.321074   \n",
              "2                 -0.592400                 -0.321074   \n",
              "3                  0.240461                 -0.321074   \n",
              "4                 -0.592400                 -0.321074   \n",
              "\n",
              "   DEF_60_CNT_SOCIAL_CIRCLE  DAYS_LAST_PHONE_CHANGE  FLAG_DOCUMENT_5  \\\n",
              "0                  5.244035               -0.206953         -0.12386   \n",
              "1                 -0.276152                0.163149         -0.12386   \n",
              "2                 -0.276152                0.178872         -0.12386   \n",
              "3                 -0.276152                0.418349         -0.12386   \n",
              "4                 -0.276152               -0.173087         -0.12386   \n",
              "\n",
              "   FLAG_DOCUMENT_6  FLAG_DOCUMENT_8  FLAG_DOCUMENT_9  FLAG_DOCUMENT_11  \\\n",
              "0        -0.310759        -0.297586        -0.062456         -0.062692   \n",
              "1        -0.310759        -0.297586        -0.062456         -0.062692   \n",
              "2        -0.310759        -0.297586        -0.062456         -0.062692   \n",
              "3        -0.310759        -0.297586        -0.062456         -0.062692   \n",
              "4        -0.310759         3.360371        -0.062456         -0.062692   \n",
              "\n",
              "   FLAG_DOCUMENT_13  FLAG_DOCUMENT_14  FLAG_DOCUMENT_15  FLAG_DOCUMENT_16  \\\n",
              "0         -0.059471         -0.054228         -0.034768         -0.100175   \n",
              "1         -0.059471         -0.054228         -0.034768         -0.100175   \n",
              "2         -0.059471         -0.054228         -0.034768         -0.100175   \n",
              "3         -0.059471         -0.054228         -0.034768         -0.100175   \n",
              "4         -0.059471         -0.054228         -0.034768         -0.100175   \n",
              "\n",
              "   FLAG_DOCUMENT_18  FLAG_DOCUMENT_19  FLAG_DOCUMENT_20  FLAG_DOCUMENT_21  \\\n",
              "0          -0.09053         -0.024411         -0.022537         -0.018311   \n",
              "1          -0.09053         -0.024411         -0.022537         -0.018311   \n",
              "2          -0.09053         -0.024411         -0.022537         -0.018311   \n",
              "3          -0.09053         -0.024411         -0.022537         -0.018311   \n",
              "4          -0.09053         -0.024411         -0.022537         -0.018311   \n",
              "\n",
              "   AMT_REQ_CREDIT_BUREAU_YEAR  NAME_CONTRACT_TYPE  CODE_GENDER  FLAG_OWN_CAR  \\\n",
              "0                   -0.481594           -0.324261      1.38815     -0.717873   \n",
              "1                   -1.016479           -0.324261     -0.72030     -0.717873   \n",
              "2                   -1.016479            3.083938      1.38815      1.393005   \n",
              "3                   -0.695548           -0.324261     -0.72030     -0.717873   \n",
              "4                   -1.016479           -0.324261      1.38815     -0.717873   \n",
              "\n",
              "   FLAG_OWN_REALTY  State servant   Working  Incomplete higher  \\\n",
              "0         0.664535      -0.275514  0.967611            -0.2192   \n",
              "1        -1.504812       3.629586 -1.033473            -0.2192   \n",
              "2         0.664535      -0.275514  0.967611            -0.2192   \n",
              "3         0.664535      -0.275514  0.967611            -0.2192   \n",
              "4         0.664535      -0.275514  0.967611            -0.2192   \n",
              "\n",
              "   Secondary / secondary special   Married  Separated  Single / not married  \\\n",
              "0                       0.638147 -1.329851  -0.262095              2.401647   \n",
              "1                      -1.567038  0.751964  -0.262095             -0.416381   \n",
              "2                       0.638147 -1.329851  -0.262095              2.401647   \n",
              "3                       0.638147 -1.329851  -0.262095             -0.416381   \n",
              "4                       0.638147 -1.329851  -0.262095              2.401647   \n",
              "\n",
              "   Municipal apartment  Office apartment  Rented apartment  With parents  \\\n",
              "0             -0.19431          -0.09259         -0.126926     -0.225192   \n",
              "1             -0.19431          -0.09259         -0.126926     -0.225192   \n",
              "2             -0.19431          -0.09259         -0.126926     -0.225192   \n",
              "3             -0.19431          -0.09259         -0.126926     -0.225192   \n",
              "4             -0.19431          -0.09259         -0.126926     -0.225192   \n",
              "\n",
              "   Core staff   Drivers  High skill tech staff  Laborers  Managers  \\\n",
              "0   -0.313753 -0.253807              -0.196079  2.137703 -0.273086   \n",
              "1    3.187218 -0.253807              -0.196079 -0.467792 -0.273086   \n",
              "2   -0.313753 -0.253807              -0.196079  2.137703 -0.273086   \n",
              "3   -0.313753 -0.253807              -0.196079  2.137703 -0.273086   \n",
              "4    3.187218 -0.253807              -0.196079 -0.467792 -0.273086   \n",
              "\n",
              "   Medicine staff    Others  Sales staff  SIN OCUPACION    MONDAY  SATURDAY  \\\n",
              "0       -0.169043 -0.307487    -0.341494      -0.675609 -0.444376 -0.351737   \n",
              "1       -0.169043 -0.307487    -0.341494      -0.675609  2.250346 -0.351737   \n",
              "2       -0.169043 -0.307487    -0.341494      -0.675609  2.250346 -0.351737   \n",
              "3       -0.169043 -0.307487    -0.341494      -0.675609 -0.444376 -0.351737   \n",
              "4       -0.169043 -0.307487    -0.341494      -0.675609 -0.444376 -0.351737   \n",
              "\n",
              "     SUNDAY  THURSDAY   TUESDAY  WEDNESDAY  FQ_ORGANIZATION_TYPE  \\\n",
              "0 -0.235701 -0.443783 -0.460926   2.218238              1.322739   \n",
              "1 -0.235701 -0.443783 -0.460926  -0.450808             -0.923397   \n",
              "2 -0.235701 -0.443783 -0.460926  -0.450808             -0.865855   \n",
              "3 -0.235701 -0.443783 -0.460926   2.218238              1.322739   \n",
              "4 -0.235701  2.253355 -0.460926  -0.450808             -1.258149   \n",
              "\n",
              "   EXT_SOURCE_3  TARGET  SK_ID_CURR  \n",
              "0     -1.906718     1.0    100002.0  \n",
              "1      0.180453     0.0    100003.0  \n",
              "2      1.122514     0.0    100004.0  \n",
              "3      0.180453     0.0    100006.0  \n",
              "4      0.180453     0.0    100007.0  "
            ],
            "text/html": [
              "\n",
              "  <div id=\"df-9612628d-3b24-4ee8-a091-7c6bc8294613\">\n",
              "    <div class=\"colab-df-container\">\n",
              "      <div>\n",
              "<style scoped>\n",
              "    .dataframe tbody tr th:only-of-type {\n",
              "        vertical-align: middle;\n",
              "    }\n",
              "\n",
              "    .dataframe tbody tr th {\n",
              "        vertical-align: top;\n",
              "    }\n",
              "\n",
              "    .dataframe thead th {\n",
              "        text-align: right;\n",
              "    }\n",
              "</style>\n",
              "<table border=\"1\" class=\"dataframe\">\n",
              "  <thead>\n",
              "    <tr style=\"text-align: right;\">\n",
              "      <th></th>\n",
              "      <th>CNT_CHILDREN</th>\n",
              "      <th>AMT_INCOME_TOTAL</th>\n",
              "      <th>AMT_CREDIT</th>\n",
              "      <th>AMT_ANNUITY</th>\n",
              "      <th>REGION_POPULATION_RELATIVE</th>\n",
              "      <th>DAYS_BIRTH</th>\n",
              "      <th>DAYS_REGISTRATION</th>\n",
              "      <th>DAYS_ID_PUBLISH</th>\n",
              "      <th>FLAG_EMP_PHONE</th>\n",
              "      <th>FLAG_WORK_PHONE</th>\n",
              "      <th>FLAG_PHONE</th>\n",
              "      <th>FLAG_EMAIL</th>\n",
              "      <th>REGION_RATING_CLIENT_W_CITY</th>\n",
              "      <th>HOUR_APPR_PROCESS_START</th>\n",
              "      <th>REG_REGION_NOT_LIVE_REGION</th>\n",
              "      <th>REG_REGION_NOT_WORK_REGION</th>\n",
              "      <th>LIVE_REGION_NOT_WORK_REGION</th>\n",
              "      <th>REG_CITY_NOT_LIVE_CITY</th>\n",
              "      <th>REG_CITY_NOT_WORK_CITY</th>\n",
              "      <th>LIVE_CITY_NOT_WORK_CITY</th>\n",
              "      <th>EXT_SOURCE_2</th>\n",
              "      <th>OBS_30_CNT_SOCIAL_CIRCLE</th>\n",
              "      <th>DEF_30_CNT_SOCIAL_CIRCLE</th>\n",
              "      <th>DEF_60_CNT_SOCIAL_CIRCLE</th>\n",
              "      <th>DAYS_LAST_PHONE_CHANGE</th>\n",
              "      <th>FLAG_DOCUMENT_5</th>\n",
              "      <th>FLAG_DOCUMENT_6</th>\n",
              "      <th>FLAG_DOCUMENT_8</th>\n",
              "      <th>FLAG_DOCUMENT_9</th>\n",
              "      <th>FLAG_DOCUMENT_11</th>\n",
              "      <th>FLAG_DOCUMENT_13</th>\n",
              "      <th>FLAG_DOCUMENT_14</th>\n",
              "      <th>FLAG_DOCUMENT_15</th>\n",
              "      <th>FLAG_DOCUMENT_16</th>\n",
              "      <th>FLAG_DOCUMENT_18</th>\n",
              "      <th>FLAG_DOCUMENT_19</th>\n",
              "      <th>FLAG_DOCUMENT_20</th>\n",
              "      <th>FLAG_DOCUMENT_21</th>\n",
              "      <th>AMT_REQ_CREDIT_BUREAU_YEAR</th>\n",
              "      <th>NAME_CONTRACT_TYPE</th>\n",
              "      <th>CODE_GENDER</th>\n",
              "      <th>FLAG_OWN_CAR</th>\n",
              "      <th>FLAG_OWN_REALTY</th>\n",
              "      <th>State servant</th>\n",
              "      <th>Working</th>\n",
              "      <th>Incomplete higher</th>\n",
              "      <th>Secondary / secondary special</th>\n",
              "      <th>Married</th>\n",
              "      <th>Separated</th>\n",
              "      <th>Single / not married</th>\n",
              "      <th>Municipal apartment</th>\n",
              "      <th>Office apartment</th>\n",
              "      <th>Rented apartment</th>\n",
              "      <th>With parents</th>\n",
              "      <th>Core staff</th>\n",
              "      <th>Drivers</th>\n",
              "      <th>High skill tech staff</th>\n",
              "      <th>Laborers</th>\n",
              "      <th>Managers</th>\n",
              "      <th>Medicine staff</th>\n",
              "      <th>Others</th>\n",
              "      <th>Sales staff</th>\n",
              "      <th>SIN OCUPACION</th>\n",
              "      <th>MONDAY</th>\n",
              "      <th>SATURDAY</th>\n",
              "      <th>SUNDAY</th>\n",
              "      <th>THURSDAY</th>\n",
              "      <th>TUESDAY</th>\n",
              "      <th>WEDNESDAY</th>\n",
              "      <th>FQ_ORGANIZATION_TYPE</th>\n",
              "      <th>EXT_SOURCE_3</th>\n",
              "      <th>TARGET</th>\n",
              "      <th>SK_ID_CURR</th>\n",
              "    </tr>\n",
              "  </thead>\n",
              "  <tbody>\n",
              "    <tr>\n",
              "      <th>0</th>\n",
              "      <td>-0.577584</td>\n",
              "      <td>0.142334</td>\n",
              "      <td>-0.477952</td>\n",
              "      <td>-0.165929</td>\n",
              "      <td>-0.149306</td>\n",
              "      <td>1.506826</td>\n",
              "      <td>0.379922</td>\n",
              "      <td>0.579151</td>\n",
              "      <td>0.468649</td>\n",
              "      <td>-0.499074</td>\n",
              "      <td>1.599335</td>\n",
              "      <td>-0.245092</td>\n",
              "      <td>-0.062867</td>\n",
              "      <td>-0.631698</td>\n",
              "      <td>-0.123887</td>\n",
              "      <td>-0.231221</td>\n",
              "      <td>-0.205869</td>\n",
              "      <td>-0.29119</td>\n",
              "      <td>-0.547341</td>\n",
              "      <td>-0.467906</td>\n",
              "      <td>-1.315926</td>\n",
              "      <td>0.240461</td>\n",
              "      <td>4.156068</td>\n",
              "      <td>5.244035</td>\n",
              "      <td>-0.206953</td>\n",
              "      <td>-0.12386</td>\n",
              "      <td>-0.310759</td>\n",
              "      <td>-0.297586</td>\n",
              "      <td>-0.062456</td>\n",
              "      <td>-0.062692</td>\n",
              "      <td>-0.059471</td>\n",
              "      <td>-0.054228</td>\n",
              "      <td>-0.034768</td>\n",
              "      <td>-0.100175</td>\n",
              "      <td>-0.09053</td>\n",
              "      <td>-0.024411</td>\n",
              "      <td>-0.022537</td>\n",
              "      <td>-0.018311</td>\n",
              "      <td>-0.481594</td>\n",
              "      <td>-0.324261</td>\n",
              "      <td>1.38815</td>\n",
              "      <td>-0.717873</td>\n",
              "      <td>0.664535</td>\n",
              "      <td>-0.275514</td>\n",
              "      <td>0.967611</td>\n",
              "      <td>-0.2192</td>\n",
              "      <td>0.638147</td>\n",
              "      <td>-1.329851</td>\n",
              "      <td>-0.262095</td>\n",
              "      <td>2.401647</td>\n",
              "      <td>-0.19431</td>\n",
              "      <td>-0.09259</td>\n",
              "      <td>-0.126926</td>\n",
              "      <td>-0.225192</td>\n",
              "      <td>-0.313753</td>\n",
              "      <td>-0.253807</td>\n",
              "      <td>-0.196079</td>\n",
              "      <td>2.137703</td>\n",
              "      <td>-0.273086</td>\n",
              "      <td>-0.169043</td>\n",
              "      <td>-0.307487</td>\n",
              "      <td>-0.341494</td>\n",
              "      <td>-0.675609</td>\n",
              "      <td>-0.444376</td>\n",
              "      <td>-0.351737</td>\n",
              "      <td>-0.235701</td>\n",
              "      <td>-0.443783</td>\n",
              "      <td>-0.460926</td>\n",
              "      <td>2.218238</td>\n",
              "      <td>1.322739</td>\n",
              "      <td>-1.906718</td>\n",
              "      <td>1.0</td>\n",
              "      <td>100002.0</td>\n",
              "    </tr>\n",
              "    <tr>\n",
              "      <th>1</th>\n",
              "      <td>-0.577584</td>\n",
              "      <td>0.426982</td>\n",
              "      <td>1.726035</td>\n",
              "      <td>0.593311</td>\n",
              "      <td>-1.252967</td>\n",
              "      <td>-0.166808</td>\n",
              "      <td>1.078763</td>\n",
              "      <td>1.790876</td>\n",
              "      <td>0.468649</td>\n",
              "      <td>-0.499074</td>\n",
              "      <td>1.599335</td>\n",
              "      <td>-0.245092</td>\n",
              "      <td>-2.052397</td>\n",
              "      <td>-0.325497</td>\n",
              "      <td>-0.123887</td>\n",
              "      <td>-0.231221</td>\n",
              "      <td>-0.205869</td>\n",
              "      <td>-0.29119</td>\n",
              "      <td>-0.547341</td>\n",
              "      <td>-0.467906</td>\n",
              "      <td>0.564665</td>\n",
              "      <td>-0.175969</td>\n",
              "      <td>-0.321074</td>\n",
              "      <td>-0.276152</td>\n",
              "      <td>0.163149</td>\n",
              "      <td>-0.12386</td>\n",
              "      <td>-0.310759</td>\n",
              "      <td>-0.297586</td>\n",
              "      <td>-0.062456</td>\n",
              "      <td>-0.062692</td>\n",
              "      <td>-0.059471</td>\n",
              "      <td>-0.054228</td>\n",
              "      <td>-0.034768</td>\n",
              "      <td>-0.100175</td>\n",
              "      <td>-0.09053</td>\n",
              "      <td>-0.024411</td>\n",
              "      <td>-0.022537</td>\n",
              "      <td>-0.018311</td>\n",
              "      <td>-1.016479</td>\n",
              "      <td>-0.324261</td>\n",
              "      <td>-0.72030</td>\n",
              "      <td>-0.717873</td>\n",
              "      <td>-1.504812</td>\n",
              "      <td>3.629586</td>\n",
              "      <td>-1.033473</td>\n",
              "      <td>-0.2192</td>\n",
              "      <td>-1.567038</td>\n",
              "      <td>0.751964</td>\n",
              "      <td>-0.262095</td>\n",
              "      <td>-0.416381</td>\n",
              "      <td>-0.19431</td>\n",
              "      <td>-0.09259</td>\n",
              "      <td>-0.126926</td>\n",
              "      <td>-0.225192</td>\n",
              "      <td>3.187218</td>\n",
              "      <td>-0.253807</td>\n",
              "      <td>-0.196079</td>\n",
              "      <td>-0.467792</td>\n",
              "      <td>-0.273086</td>\n",
              "      <td>-0.169043</td>\n",
              "      <td>-0.307487</td>\n",
              "      <td>-0.341494</td>\n",
              "      <td>-0.675609</td>\n",
              "      <td>2.250346</td>\n",
              "      <td>-0.351737</td>\n",
              "      <td>-0.235701</td>\n",
              "      <td>-0.443783</td>\n",
              "      <td>-0.460926</td>\n",
              "      <td>-0.450808</td>\n",
              "      <td>-0.923397</td>\n",
              "      <td>0.180453</td>\n",
              "      <td>0.0</td>\n",
              "      <td>100003.0</td>\n",
              "    </tr>\n",
              "    <tr>\n",
              "      <th>2</th>\n",
              "      <td>-0.577584</td>\n",
              "      <td>-0.426962</td>\n",
              "      <td>-1.152880</td>\n",
              "      <td>-1.405130</td>\n",
              "      <td>-0.783513</td>\n",
              "      <td>-0.689475</td>\n",
              "      <td>0.206205</td>\n",
              "      <td>0.306861</td>\n",
              "      <td>0.468649</td>\n",
              "      <td>2.003709</td>\n",
              "      <td>1.599335</td>\n",
              "      <td>-0.245092</td>\n",
              "      <td>-0.062867</td>\n",
              "      <td>-0.937900</td>\n",
              "      <td>-0.123887</td>\n",
              "      <td>-0.231221</td>\n",
              "      <td>-0.205869</td>\n",
              "      <td>-0.29119</td>\n",
              "      <td>-0.547341</td>\n",
              "      <td>-0.467906</td>\n",
              "      <td>0.217469</td>\n",
              "      <td>-0.592400</td>\n",
              "      <td>-0.321074</td>\n",
              "      <td>-0.276152</td>\n",
              "      <td>0.178872</td>\n",
              "      <td>-0.12386</td>\n",
              "      <td>-0.310759</td>\n",
              "      <td>-0.297586</td>\n",
              "      <td>-0.062456</td>\n",
              "      <td>-0.062692</td>\n",
              "      <td>-0.059471</td>\n",
              "      <td>-0.054228</td>\n",
              "      <td>-0.034768</td>\n",
              "      <td>-0.100175</td>\n",
              "      <td>-0.09053</td>\n",
              "      <td>-0.024411</td>\n",
              "      <td>-0.022537</td>\n",
              "      <td>-0.018311</td>\n",
              "      <td>-1.016479</td>\n",
              "      <td>3.083938</td>\n",
              "      <td>1.38815</td>\n",
              "      <td>1.393005</td>\n",
              "      <td>0.664535</td>\n",
              "      <td>-0.275514</td>\n",
              "      <td>0.967611</td>\n",
              "      <td>-0.2192</td>\n",
              "      <td>0.638147</td>\n",
              "      <td>-1.329851</td>\n",
              "      <td>-0.262095</td>\n",
              "      <td>2.401647</td>\n",
              "      <td>-0.19431</td>\n",
              "      <td>-0.09259</td>\n",
              "      <td>-0.126926</td>\n",
              "      <td>-0.225192</td>\n",
              "      <td>-0.313753</td>\n",
              "      <td>-0.253807</td>\n",
              "      <td>-0.196079</td>\n",
              "      <td>2.137703</td>\n",
              "      <td>-0.273086</td>\n",
              "      <td>-0.169043</td>\n",
              "      <td>-0.307487</td>\n",
              "      <td>-0.341494</td>\n",
              "      <td>-0.675609</td>\n",
              "      <td>2.250346</td>\n",
              "      <td>-0.351737</td>\n",
              "      <td>-0.235701</td>\n",
              "      <td>-0.443783</td>\n",
              "      <td>-0.460926</td>\n",
              "      <td>-0.450808</td>\n",
              "      <td>-0.865855</td>\n",
              "      <td>1.122514</td>\n",
              "      <td>0.0</td>\n",
              "      <td>100004.0</td>\n",
              "    </tr>\n",
              "    <tr>\n",
              "      <th>3</th>\n",
              "      <td>-0.577584</td>\n",
              "      <td>-0.142314</td>\n",
              "      <td>-0.711333</td>\n",
              "      <td>0.178277</td>\n",
              "      <td>-0.929101</td>\n",
              "      <td>-0.680081</td>\n",
              "      <td>-1.375696</td>\n",
              "      <td>0.369137</td>\n",
              "      <td>0.468649</td>\n",
              "      <td>-0.499074</td>\n",
              "      <td>-0.625260</td>\n",
              "      <td>-0.245092</td>\n",
              "      <td>-0.062867</td>\n",
              "      <td>1.511712</td>\n",
              "      <td>-0.123887</td>\n",
              "      <td>-0.231221</td>\n",
              "      <td>-0.205869</td>\n",
              "      <td>-0.29119</td>\n",
              "      <td>-0.547341</td>\n",
              "      <td>-0.467906</td>\n",
              "      <td>0.712245</td>\n",
              "      <td>0.240461</td>\n",
              "      <td>-0.321074</td>\n",
              "      <td>-0.276152</td>\n",
              "      <td>0.418349</td>\n",
              "      <td>-0.12386</td>\n",
              "      <td>-0.310759</td>\n",
              "      <td>-0.297586</td>\n",
              "      <td>-0.062456</td>\n",
              "      <td>-0.062692</td>\n",
              "      <td>-0.059471</td>\n",
              "      <td>-0.054228</td>\n",
              "      <td>-0.034768</td>\n",
              "      <td>-0.100175</td>\n",
              "      <td>-0.09053</td>\n",
              "      <td>-0.024411</td>\n",
              "      <td>-0.022537</td>\n",
              "      <td>-0.018311</td>\n",
              "      <td>-0.695548</td>\n",
              "      <td>-0.324261</td>\n",
              "      <td>-0.72030</td>\n",
              "      <td>-0.717873</td>\n",
              "      <td>0.664535</td>\n",
              "      <td>-0.275514</td>\n",
              "      <td>0.967611</td>\n",
              "      <td>-0.2192</td>\n",
              "      <td>0.638147</td>\n",
              "      <td>-1.329851</td>\n",
              "      <td>-0.262095</td>\n",
              "      <td>-0.416381</td>\n",
              "      <td>-0.19431</td>\n",
              "      <td>-0.09259</td>\n",
              "      <td>-0.126926</td>\n",
              "      <td>-0.225192</td>\n",
              "      <td>-0.313753</td>\n",
              "      <td>-0.253807</td>\n",
              "      <td>-0.196079</td>\n",
              "      <td>2.137703</td>\n",
              "      <td>-0.273086</td>\n",
              "      <td>-0.169043</td>\n",
              "      <td>-0.307487</td>\n",
              "      <td>-0.341494</td>\n",
              "      <td>-0.675609</td>\n",
              "      <td>-0.444376</td>\n",
              "      <td>-0.351737</td>\n",
              "      <td>-0.235701</td>\n",
              "      <td>-0.443783</td>\n",
              "      <td>-0.460926</td>\n",
              "      <td>2.218238</td>\n",
              "      <td>1.322739</td>\n",
              "      <td>0.180453</td>\n",
              "      <td>0.0</td>\n",
              "      <td>100006.0</td>\n",
              "    </tr>\n",
              "    <tr>\n",
              "      <th>4</th>\n",
              "      <td>-0.577584</td>\n",
              "      <td>-0.199244</td>\n",
              "      <td>-0.213538</td>\n",
              "      <td>-0.361641</td>\n",
              "      <td>0.563950</td>\n",
              "      <td>-0.892493</td>\n",
              "      <td>0.191729</td>\n",
              "      <td>-0.307283</td>\n",
              "      <td>0.468649</td>\n",
              "      <td>-0.499074</td>\n",
              "      <td>-0.625260</td>\n",
              "      <td>-0.245092</td>\n",
              "      <td>-0.062867</td>\n",
              "      <td>-0.325497</td>\n",
              "      <td>-0.123887</td>\n",
              "      <td>-0.231221</td>\n",
              "      <td>-0.205869</td>\n",
              "      <td>-0.29119</td>\n",
              "      <td>1.827016</td>\n",
              "      <td>2.137184</td>\n",
              "      <td>-1.002982</td>\n",
              "      <td>-0.592400</td>\n",
              "      <td>-0.321074</td>\n",
              "      <td>-0.276152</td>\n",
              "      <td>-0.173087</td>\n",
              "      <td>-0.12386</td>\n",
              "      <td>-0.310759</td>\n",
              "      <td>3.360371</td>\n",
              "      <td>-0.062456</td>\n",
              "      <td>-0.062692</td>\n",
              "      <td>-0.059471</td>\n",
              "      <td>-0.054228</td>\n",
              "      <td>-0.034768</td>\n",
              "      <td>-0.100175</td>\n",
              "      <td>-0.09053</td>\n",
              "      <td>-0.024411</td>\n",
              "      <td>-0.022537</td>\n",
              "      <td>-0.018311</td>\n",
              "      <td>-1.016479</td>\n",
              "      <td>-0.324261</td>\n",
              "      <td>1.38815</td>\n",
              "      <td>-0.717873</td>\n",
              "      <td>0.664535</td>\n",
              "      <td>-0.275514</td>\n",
              "      <td>0.967611</td>\n",
              "      <td>-0.2192</td>\n",
              "      <td>0.638147</td>\n",
              "      <td>-1.329851</td>\n",
              "      <td>-0.262095</td>\n",
              "      <td>2.401647</td>\n",
              "      <td>-0.19431</td>\n",
              "      <td>-0.09259</td>\n",
              "      <td>-0.126926</td>\n",
              "      <td>-0.225192</td>\n",
              "      <td>3.187218</td>\n",
              "      <td>-0.253807</td>\n",
              "      <td>-0.196079</td>\n",
              "      <td>-0.467792</td>\n",
              "      <td>-0.273086</td>\n",
              "      <td>-0.169043</td>\n",
              "      <td>-0.307487</td>\n",
              "      <td>-0.341494</td>\n",
              "      <td>-0.675609</td>\n",
              "      <td>-0.444376</td>\n",
              "      <td>-0.351737</td>\n",
              "      <td>-0.235701</td>\n",
              "      <td>2.253355</td>\n",
              "      <td>-0.460926</td>\n",
              "      <td>-0.450808</td>\n",
              "      <td>-1.258149</td>\n",
              "      <td>0.180453</td>\n",
              "      <td>0.0</td>\n",
              "      <td>100007.0</td>\n",
              "    </tr>\n",
              "  </tbody>\n",
              "</table>\n",
              "</div>\n",
              "      <button class=\"colab-df-convert\" onclick=\"convertToInteractive('df-9612628d-3b24-4ee8-a091-7c6bc8294613')\"\n",
              "              title=\"Convert this dataframe to an interactive table.\"\n",
              "              style=\"display:none;\">\n",
              "        \n",
              "  <svg xmlns=\"http://www.w3.org/2000/svg\" height=\"24px\"viewBox=\"0 0 24 24\"\n",
              "       width=\"24px\">\n",
              "    <path d=\"M0 0h24v24H0V0z\" fill=\"none\"/>\n",
              "    <path d=\"M18.56 5.44l.94 2.06.94-2.06 2.06-.94-2.06-.94-.94-2.06-.94 2.06-2.06.94zm-11 1L8.5 8.5l.94-2.06 2.06-.94-2.06-.94L8.5 2.5l-.94 2.06-2.06.94zm10 10l.94 2.06.94-2.06 2.06-.94-2.06-.94-.94-2.06-.94 2.06-2.06.94z\"/><path d=\"M17.41 7.96l-1.37-1.37c-.4-.4-.92-.59-1.43-.59-.52 0-1.04.2-1.43.59L10.3 9.45l-7.72 7.72c-.78.78-.78 2.05 0 2.83L4 21.41c.39.39.9.59 1.41.59.51 0 1.02-.2 1.41-.59l7.78-7.78 2.81-2.81c.8-.78.8-2.07 0-2.86zM5.41 20L4 18.59l7.72-7.72 1.47 1.35L5.41 20z\"/>\n",
              "  </svg>\n",
              "      </button>\n",
              "      \n",
              "  <style>\n",
              "    .colab-df-container {\n",
              "      display:flex;\n",
              "      flex-wrap:wrap;\n",
              "      gap: 12px;\n",
              "    }\n",
              "\n",
              "    .colab-df-convert {\n",
              "      background-color: #E8F0FE;\n",
              "      border: none;\n",
              "      border-radius: 50%;\n",
              "      cursor: pointer;\n",
              "      display: none;\n",
              "      fill: #1967D2;\n",
              "      height: 32px;\n",
              "      padding: 0 0 0 0;\n",
              "      width: 32px;\n",
              "    }\n",
              "\n",
              "    .colab-df-convert:hover {\n",
              "      background-color: #E2EBFA;\n",
              "      box-shadow: 0px 1px 2px rgba(60, 64, 67, 0.3), 0px 1px 3px 1px rgba(60, 64, 67, 0.15);\n",
              "      fill: #174EA6;\n",
              "    }\n",
              "\n",
              "    [theme=dark] .colab-df-convert {\n",
              "      background-color: #3B4455;\n",
              "      fill: #D2E3FC;\n",
              "    }\n",
              "\n",
              "    [theme=dark] .colab-df-convert:hover {\n",
              "      background-color: #434B5C;\n",
              "      box-shadow: 0px 1px 3px 1px rgba(0, 0, 0, 0.15);\n",
              "      filter: drop-shadow(0px 1px 2px rgba(0, 0, 0, 0.3));\n",
              "      fill: #FFFFFF;\n",
              "    }\n",
              "  </style>\n",
              "\n",
              "      <script>\n",
              "        const buttonEl =\n",
              "          document.querySelector('#df-9612628d-3b24-4ee8-a091-7c6bc8294613 button.colab-df-convert');\n",
              "        buttonEl.style.display =\n",
              "          google.colab.kernel.accessAllowed ? 'block' : 'none';\n",
              "\n",
              "        async function convertToInteractive(key) {\n",
              "          const element = document.querySelector('#df-9612628d-3b24-4ee8-a091-7c6bc8294613');\n",
              "          const dataTable =\n",
              "            await google.colab.kernel.invokeFunction('convertToInteractive',\n",
              "                                                     [key], {});\n",
              "          if (!dataTable) return;\n",
              "\n",
              "          const docLinkHtml = 'Like what you see? Visit the ' +\n",
              "            '<a target=\"_blank\" href=https://colab.research.google.com/notebooks/data_table.ipynb>data table notebook</a>'\n",
              "            + ' to learn more about interactive tables.';\n",
              "          element.innerHTML = '';\n",
              "          dataTable['output_type'] = 'display_data';\n",
              "          await google.colab.output.renderOutput(dataTable, element);\n",
              "          const docLink = document.createElement('div');\n",
              "          docLink.innerHTML = docLinkHtml;\n",
              "          element.appendChild(docLink);\n",
              "        }\n",
              "      </script>\n",
              "    </div>\n",
              "  </div>\n",
              "  "
            ]
          },
          "metadata": {},
          "execution_count": 7
        }
      ]
    },
    {
      "cell_type": "code",
      "source": [
        "data_w_o_outliers.info()"
      ],
      "metadata": {
        "colab": {
          "base_uri": "https://localhost:8080/"
        },
        "id": "C7pJHwRL1FMu",
        "outputId": "0d63bfde-562e-4d58-b4fd-aeaba3b07c6b"
      },
      "execution_count": null,
      "outputs": [
        {
          "output_type": "stream",
          "name": "stdout",
          "text": [
            "<class 'pandas.core.frame.DataFrame'>\n",
            "RangeIndex: 261196 entries, 0 to 261195\n",
            "Data columns (total 73 columns):\n",
            " #   Column                         Non-Null Count   Dtype  \n",
            "---  ------                         --------------   -----  \n",
            " 0   CNT_CHILDREN                   261196 non-null  float64\n",
            " 1   AMT_INCOME_TOTAL               261196 non-null  float64\n",
            " 2   AMT_CREDIT                     261196 non-null  float64\n",
            " 3   AMT_ANNUITY                    261196 non-null  float64\n",
            " 4   REGION_POPULATION_RELATIVE     261196 non-null  float64\n",
            " 5   DAYS_BIRTH                     261196 non-null  float64\n",
            " 6   DAYS_REGISTRATION              261196 non-null  float64\n",
            " 7   DAYS_ID_PUBLISH                261196 non-null  float64\n",
            " 8   FLAG_EMP_PHONE                 261196 non-null  float64\n",
            " 9   FLAG_WORK_PHONE                261196 non-null  float64\n",
            " 10  FLAG_PHONE                     261196 non-null  float64\n",
            " 11  FLAG_EMAIL                     261196 non-null  float64\n",
            " 12  REGION_RATING_CLIENT_W_CITY    261196 non-null  float64\n",
            " 13  HOUR_APPR_PROCESS_START        261196 non-null  float64\n",
            " 14  REG_REGION_NOT_LIVE_REGION     261196 non-null  float64\n",
            " 15  REG_REGION_NOT_WORK_REGION     261196 non-null  float64\n",
            " 16  LIVE_REGION_NOT_WORK_REGION    261196 non-null  float64\n",
            " 17  REG_CITY_NOT_LIVE_CITY         261196 non-null  float64\n",
            " 18  REG_CITY_NOT_WORK_CITY         261196 non-null  float64\n",
            " 19  LIVE_CITY_NOT_WORK_CITY        261196 non-null  float64\n",
            " 20  EXT_SOURCE_2                   261196 non-null  float64\n",
            " 21  OBS_30_CNT_SOCIAL_CIRCLE       261196 non-null  float64\n",
            " 22  DEF_30_CNT_SOCIAL_CIRCLE       261196 non-null  float64\n",
            " 23  DEF_60_CNT_SOCIAL_CIRCLE       261196 non-null  float64\n",
            " 24  DAYS_LAST_PHONE_CHANGE         261196 non-null  float64\n",
            " 25  FLAG_DOCUMENT_5                261196 non-null  float64\n",
            " 26  FLAG_DOCUMENT_6                261196 non-null  float64\n",
            " 27  FLAG_DOCUMENT_8                261196 non-null  float64\n",
            " 28  FLAG_DOCUMENT_9                261196 non-null  float64\n",
            " 29  FLAG_DOCUMENT_11               261196 non-null  float64\n",
            " 30  FLAG_DOCUMENT_13               261196 non-null  float64\n",
            " 31  FLAG_DOCUMENT_14               261196 non-null  float64\n",
            " 32  FLAG_DOCUMENT_15               261196 non-null  float64\n",
            " 33  FLAG_DOCUMENT_16               261196 non-null  float64\n",
            " 34  FLAG_DOCUMENT_18               261196 non-null  float64\n",
            " 35  FLAG_DOCUMENT_19               261196 non-null  float64\n",
            " 36  FLAG_DOCUMENT_20               261196 non-null  float64\n",
            " 37  FLAG_DOCUMENT_21               261196 non-null  float64\n",
            " 38  AMT_REQ_CREDIT_BUREAU_YEAR     261196 non-null  float64\n",
            " 39  NAME_CONTRACT_TYPE             261196 non-null  float64\n",
            " 40  CODE_GENDER                    261196 non-null  float64\n",
            " 41  FLAG_OWN_CAR                   261196 non-null  float64\n",
            " 42  FLAG_OWN_REALTY                261196 non-null  float64\n",
            " 43  State servant                  261196 non-null  float64\n",
            " 44  Working                        261196 non-null  float64\n",
            " 45  Incomplete higher              261196 non-null  float64\n",
            " 46  Secondary / secondary special  261196 non-null  float64\n",
            " 47  Married                        261196 non-null  float64\n",
            " 48  Separated                      261196 non-null  float64\n",
            " 49  Single / not married           261196 non-null  float64\n",
            " 50  Municipal apartment            261196 non-null  float64\n",
            " 51  Office apartment               261196 non-null  float64\n",
            " 52  Rented apartment               261196 non-null  float64\n",
            " 53  With parents                   261196 non-null  float64\n",
            " 54  Core staff                     261196 non-null  float64\n",
            " 55  Drivers                        261196 non-null  float64\n",
            " 56  High skill tech staff          261196 non-null  float64\n",
            " 57  Laborers                       261196 non-null  float64\n",
            " 58  Managers                       261196 non-null  float64\n",
            " 59  Medicine staff                 261196 non-null  float64\n",
            " 60  Others                         261196 non-null  float64\n",
            " 61  Sales staff                    261196 non-null  float64\n",
            " 62  SIN OCUPACION                  261196 non-null  float64\n",
            " 63  MONDAY                         261196 non-null  float64\n",
            " 64  SATURDAY                       261196 non-null  float64\n",
            " 65  SUNDAY                         261196 non-null  float64\n",
            " 66  THURSDAY                       261196 non-null  float64\n",
            " 67  TUESDAY                        261196 non-null  float64\n",
            " 68  WEDNESDAY                      261196 non-null  float64\n",
            " 69  FQ_ORGANIZATION_TYPE           261196 non-null  float64\n",
            " 70  EXT_SOURCE_3                   261196 non-null  float64\n",
            " 71  TARGET                         261196 non-null  float64\n",
            " 72  SK_ID_CURR                     261196 non-null  float64\n",
            "dtypes: float64(73)\n",
            "memory usage: 145.5 MB\n"
          ]
        }
      ]
    },
    {
      "cell_type": "markdown",
      "source": [
        "## **Reducción de dimensionalidad:**"
      ],
      "metadata": {
        "id": "6aH4WCnmF9sd"
      }
    },
    {
      "cell_type": "code",
      "execution_count": null,
      "metadata": {
        "id": "vvVEQWNaQdlz"
      },
      "outputs": [],
      "source": [
        "X = data_w_o_outliers.drop(columns = ['TARGET', 'SK_ID_CURR'])\n",
        "y = data_w_o_outliers['TARGET']\n",
        "\n",
        "pca_model = PCA()\n",
        "pca_model.fit(X)\n",
        "\n",
        "X_pca = pca_model.transform(X)"
      ]
    },
    {
      "cell_type": "code",
      "execution_count": null,
      "metadata": {
        "colab": {
          "base_uri": "https://localhost:8080/",
          "height": 322
        },
        "id": "QuJw0UotS2gx",
        "outputId": "7a4ad1a1-1a83-413d-cbef-ed934a6d157c"
      },
      "outputs": [
        {
          "output_type": "display_data",
          "data": {
            "text/plain": [
              "<Figure size 720x360 with 1 Axes>"
            ],
            "image/png": "[encoded data removed]"
          },
          "metadata": {
            "needs_background": "light"
          }
        }
      ],
      "source": [
        "explained_variance = []\n",
        "\n",
        "for i, var in enumerate(pca_model.explained_variance_ratio_):\n",
        "    \n",
        "    if i == 0:\n",
        "        explained_variance.append(var)\n",
        "    else:\n",
        "        explained_variance.append(explained_variance[i - 1] + var)\n",
        "\n",
        "plt.figure(figsize = (10, 5))\n",
        "plt.plot(range(1, len(explained_variance)+1), explained_variance)\n",
        "plt.savefig('/content/drive/Shareddrives/MSc Ciencia Datos/proyectointegrador/Images/pca_explained_variance.png')\n",
        "plt.show()"
      ]
    },
    {
      "cell_type": "code",
      "source": [
        "index_pca_significant = max(np.where(np.array(explained_variance) <= 0.9)[0])\n",
        "index_pca_significant"
      ],
      "metadata": {
        "colab": {
          "base_uri": "https://localhost:8080/"
        },
        "id": "sjzvf3rniHxi",
        "outputId": "1b8da9d3-bf05-47ff-fa1c-722da18faad7"
      },
      "execution_count": null,
      "outputs": [
        {
          "output_type": "execute_result",
          "data": {
            "text/plain": [
              "39"
            ]
          },
          "metadata": {},
          "execution_count": 11
        }
      ]
    },
    {
      "cell_type": "code",
      "execution_count": null,
      "metadata": {
        "colab": {
          "base_uri": "https://localhost:8080/",
          "height": 388
        },
        "id": "WpmPwACYY2bW",
        "outputId": "6339833f-a7aa-4803-c39e-c2ac4f9717d9"
      },
      "outputs": [
        {
          "output_type": "execute_result",
          "data": {
            "text/plain": [
              "                                  Z1        Z2        Z3        Z4        Z5  \\\n",
              "variable                                                                       \n",
              "CNT_CHILDREN               -0.167039  0.019489  0.001598 -0.193978 -0.023573   \n",
              "AMT_INCOME_TOTAL           -0.028060  0.113434 -0.004696  0.026124 -0.035426   \n",
              "AMT_CREDIT                 -0.027905  0.411793 -0.003270 -0.105003  0.094967   \n",
              "AMT_ANNUITY                -0.053720  0.411091  0.012265 -0.079953  0.043413   \n",
              "REGION_POPULATION_RELATIVE  0.018022  0.230836 -0.094513  0.333244  0.037063   \n",
              "\n",
              "                                  Z6        Z7        Z8        Z9       Z10  \\\n",
              "variable                                                                       \n",
              "CNT_CHILDREN               -0.001032 -0.088177  0.143745 -0.173727 -0.016694   \n",
              "AMT_INCOME_TOTAL            0.033716  0.052912 -0.007964  0.006624 -0.022086   \n",
              "AMT_CREDIT                  0.063198  0.367859 -0.221427  0.051377  0.011738   \n",
              "AMT_ANNUITY                 0.071545  0.371973 -0.203826  0.033003  0.002869   \n",
              "REGION_POPULATION_RELATIVE -0.108352 -0.028411  0.209784 -0.068097 -0.043749   \n",
              "\n",
              "                                 Z11       Z12       Z13       Z14       Z15  \\\n",
              "variable                                                                       \n",
              "CNT_CHILDREN               -0.006704  0.015804  0.010221  0.095308  0.014893   \n",
              "AMT_INCOME_TOTAL            0.001716 -0.000124  0.000245  0.002437  0.011812   \n",
              "AMT_CREDIT                 -0.006744 -0.006646  0.017207  0.067748 -0.081307   \n",
              "AMT_ANNUITY                -0.005261 -0.010466  0.014138  0.059840 -0.078493   \n",
              "REGION_POPULATION_RELATIVE -0.005268 -0.005344 -0.010545  0.025132 -0.071012   \n",
              "\n",
              "                                 Z16       Z17       Z18       Z19       Z20  \\\n",
              "variable                                                                       \n",
              "CNT_CHILDREN               -0.030287 -0.087306  0.005116  0.397037 -0.003183   \n",
              "AMT_INCOME_TOTAL           -0.015550  0.024881  0.012304 -0.000124 -0.002568   \n",
              "AMT_CREDIT                  0.025684  0.009336  0.029320 -0.031329 -0.064702   \n",
              "AMT_ANNUITY                 0.028918  0.013583  0.034500 -0.022845 -0.037156   \n",
              "REGION_POPULATION_RELATIVE  0.150594 -0.038972  0.016408  0.007032 -0.082822   \n",
              "\n",
              "                                 Z21       Z22       Z23       Z24       Z25  \\\n",
              "variable                                                                       \n",
              "CNT_CHILDREN                0.051362 -0.031910  0.090216 -0.275782 -0.117517   \n",
              "AMT_INCOME_TOTAL            0.011004 -0.008277  0.026783  0.022010 -0.009206   \n",
              "AMT_CREDIT                 -0.062370  0.054405 -0.006277 -0.080631  0.039314   \n",
              "AMT_ANNUITY                -0.006034  0.027919 -0.008727 -0.074969  0.011296   \n",
              "REGION_POPULATION_RELATIVE  0.217249 -0.011799  0.021441 -0.102778 -0.120222   \n",
              "\n",
              "                                 Z26       Z27       Z28       Z29       Z30  \\\n",
              "variable                                                                       \n",
              "CNT_CHILDREN                0.096904 -0.008051 -0.004392  0.033828 -0.097445   \n",
              "AMT_INCOME_TOTAL            0.010149 -0.028213  0.004646 -0.003304 -0.042807   \n",
              "AMT_CREDIT                 -0.054998 -0.101021 -0.068969 -0.084972 -0.215742   \n",
              "AMT_ANNUITY                -0.029957 -0.092192 -0.050287 -0.071394 -0.166265   \n",
              "REGION_POPULATION_RELATIVE  0.032542  0.117411  0.118912  0.171500 -0.162848   \n",
              "\n",
              "                                 Z31       Z32       Z33       Z34       Z35  \\\n",
              "variable                                                                       \n",
              "CNT_CHILDREN                0.130530  0.101376  0.019040  0.470890 -0.241870   \n",
              "AMT_INCOME_TOTAL            0.004342 -0.001423 -0.012409 -0.013294 -0.001951   \n",
              "AMT_CREDIT                  0.056496 -0.013697 -0.047140 -0.015525 -0.001402   \n",
              "AMT_ANNUITY                 0.071769 -0.009531 -0.008760 -0.001604  0.014427   \n",
              "REGION_POPULATION_RELATIVE  0.019070  0.173674  0.010718 -0.140305 -0.009603   \n",
              "\n",
              "                                 Z36       Z37       Z38       Z39       Z40  \\\n",
              "variable                                                                       \n",
              "CNT_CHILDREN                0.023307  0.149059 -0.208046 -0.035761  0.009851   \n",
              "AMT_INCOME_TOTAL           -0.017764  0.000586  0.008020 -0.000935  0.023519   \n",
              "AMT_CREDIT                 -0.016915 -0.016774 -0.010261 -0.037270  0.091901   \n",
              "AMT_ANNUITY                -0.021023 -0.002003 -0.020816 -0.016020  0.069123   \n",
              "REGION_POPULATION_RELATIVE  0.151157 -0.224208  0.053419  0.135195 -0.052554   \n",
              "\n",
              "                                 Z41       Z42       Z43       Z44       Z45  \\\n",
              "variable                                                                       \n",
              "CNT_CHILDREN               -0.029691 -0.266116 -0.027844 -0.033266  0.045300   \n",
              "AMT_INCOME_TOTAL           -0.011754 -0.013112  0.012251 -0.023876 -0.017613   \n",
              "AMT_CREDIT                 -0.078940 -0.076607  0.102165 -0.004020  0.068902   \n",
              "AMT_ANNUITY                -0.060287 -0.051705  0.104560 -0.030159  0.040725   \n",
              "REGION_POPULATION_RELATIVE  0.071598 -0.048722 -0.037840  0.055827 -0.077886   \n",
              "\n",
              "                                 Z46       Z47       Z48       Z49       Z50  \\\n",
              "variable                                                                       \n",
              "CNT_CHILDREN               -0.149254 -0.003494  0.317935 -0.028107 -0.006930   \n",
              "AMT_INCOME_TOTAL           -0.006082  0.023974  0.007468  0.037747  0.006556   \n",
              "AMT_CREDIT                  0.007378 -0.034840  0.033991  0.013441 -0.008132   \n",
              "AMT_ANNUITY                 0.006821  0.004750 -0.044335  0.022960  0.006324   \n",
              "REGION_POPULATION_RELATIVE -0.147905 -0.614552 -0.009646 -0.005988  0.000760   \n",
              "\n",
              "                                 Z51       Z52       Z53       Z54       Z55  \\\n",
              "variable                                                                       \n",
              "CNT_CHILDREN                0.040811  0.008293 -0.000683  0.000987  0.004115   \n",
              "AMT_INCOME_TOTAL            0.084805  0.096987  0.968671 -0.117939 -0.007047   \n",
              "AMT_CREDIT                 -0.041521 -0.682123 -0.008224  0.001864  0.000715   \n",
              "AMT_ANNUITY                -0.023458  0.714590 -0.150669  0.017798  0.000656   \n",
              "REGION_POPULATION_RELATIVE -0.040714  0.002247 -0.009473  0.000691  0.000854   \n",
              "\n",
              "                                 Z56       Z57       Z58       Z59       Z60  \\\n",
              "variable                                                                       \n",
              "CNT_CHILDREN               -0.000560  0.002144 -0.001350  0.000023  0.000058   \n",
              "AMT_INCOME_TOTAL           -0.027228  0.007552 -0.001156  0.000356  0.000094   \n",
              "AMT_CREDIT                 -0.001486  0.002622 -0.001314 -0.000093 -0.000111   \n",
              "AMT_ANNUITY                -0.002063  0.000577  0.000908  0.000042  0.000069   \n",
              "REGION_POPULATION_RELATIVE -0.000703 -0.000223 -0.000163  0.000068 -0.000039   \n",
              "\n",
              "                                     Z61           Z62           Z63  \\\n",
              "variable                                                               \n",
              "CNT_CHILDREN                1.719137e-16  0.000000e+00 -0.000000e+00   \n",
              "AMT_INCOME_TOTAL           -7.063978e-17 -6.007619e-17  1.050003e-16   \n",
              "AMT_CREDIT                 -3.329579e-17  9.352446e-17 -7.968039e-17   \n",
              "AMT_ANNUITY                 9.050393e-17  8.072937e-17 -6.526220e-17   \n",
              "REGION_POPULATION_RELATIVE -3.282413e-17  7.192932e-17  8.167002e-17   \n",
              "\n",
              "                                     Z64           Z65           Z66  \\\n",
              "variable                                                               \n",
              "CNT_CHILDREN               -0.000000e+00 -0.000000e+00  0.000000e+00   \n",
              "AMT_INCOME_TOTAL           -3.791434e-17  2.942855e-17  1.462802e-16   \n",
              "AMT_CREDIT                  1.203413e-16  1.100677e-16 -1.559299e-16   \n",
              "AMT_ANNUITY                 4.848623e-17  6.154778e-17  4.024323e-17   \n",
              "REGION_POPULATION_RELATIVE  3.683764e-18 -1.232842e-17 -1.454860e-17   \n",
              "\n",
              "                                     Z67           Z68           Z69  \\\n",
              "variable                                                               \n",
              "CNT_CHILDREN                0.000000e+00  0.000000e+00 -0.000000e+00   \n",
              "AMT_INCOME_TOTAL            3.828951e-17  2.949607e-17 -1.717376e-16   \n",
              "AMT_CREDIT                 -7.314961e-17  4.932043e-17  3.014669e-17   \n",
              "AMT_ANNUITY                -9.638081e-17  8.879380e-17  4.957160e-17   \n",
              "REGION_POPULATION_RELATIVE -6.984593e-17  2.625680e-17 -6.928596e-17   \n",
              "\n",
              "                                     Z70           Z71  \n",
              "variable                                                \n",
              "CNT_CHILDREN               -0.000000e+00 -0.000000e+00  \n",
              "AMT_INCOME_TOTAL           -8.500145e-17 -3.209238e-17  \n",
              "AMT_CREDIT                 -2.396125e-17 -3.023500e-17  \n",
              "AMT_ANNUITY                 8.273185e-17 -3.598746e-17  \n",
              "REGION_POPULATION_RELATIVE  1.819790e-17 -1.121942e-16  "
            ],
            "text/html": [
              "\n",
              "  <div id=\"df-7a6a8a9b-5cca-4109-9735-68c79540541b\">\n",
              "    <div class=\"colab-df-container\">\n",
              "      <div>\n",
              "<style scoped>\n",
              "    .dataframe tbody tr th:only-of-type {\n",
              "        vertical-align: middle;\n",
              "    }\n",
              "\n",
              "    .dataframe tbody tr th {\n",
              "        vertical-align: top;\n",
              "    }\n",
              "\n",
              "    .dataframe thead th {\n",
              "        text-align: right;\n",
              "    }\n",
              "</style>\n",
              "<table border=\"1\" class=\"dataframe\">\n",
              "  <thead>\n",
              "    <tr style=\"text-align: right;\">\n",
              "      <th></th>\n",
              "      <th>Z1</th>\n",
              "      <th>Z2</th>\n",
              "      <th>Z3</th>\n",
              "      <th>Z4</th>\n",
              "      <th>Z5</th>\n",
              "      <th>Z6</th>\n",
              "      <th>Z7</th>\n",
              "      <th>Z8</th>\n",
              "      <th>Z9</th>\n",
              "      <th>Z10</th>\n",
              "      <th>Z11</th>\n",
              "      <th>Z12</th>\n",
              "      <th>Z13</th>\n",
              "      <th>Z14</th>\n",
              "      <th>Z15</th>\n",
              "      <th>Z16</th>\n",
              "      <th>Z17</th>\n",
              "      <th>Z18</th>\n",
              "      <th>Z19</th>\n",
              "      <th>Z20</th>\n",
              "      <th>Z21</th>\n",
              "      <th>Z22</th>\n",
              "      <th>Z23</th>\n",
              "      <th>Z24</th>\n",
              "      <th>Z25</th>\n",
              "      <th>Z26</th>\n",
              "      <th>Z27</th>\n",
              "      <th>Z28</th>\n",
              "      <th>Z29</th>\n",
              "      <th>Z30</th>\n",
              "      <th>Z31</th>\n",
              "      <th>Z32</th>\n",
              "      <th>Z33</th>\n",
              "      <th>Z34</th>\n",
              "      <th>Z35</th>\n",
              "      <th>Z36</th>\n",
              "      <th>Z37</th>\n",
              "      <th>Z38</th>\n",
              "      <th>Z39</th>\n",
              "      <th>Z40</th>\n",
              "      <th>Z41</th>\n",
              "      <th>Z42</th>\n",
              "      <th>Z43</th>\n",
              "      <th>Z44</th>\n",
              "      <th>Z45</th>\n",
              "      <th>Z46</th>\n",
              "      <th>Z47</th>\n",
              "      <th>Z48</th>\n",
              "      <th>Z49</th>\n",
              "      <th>Z50</th>\n",
              "      <th>Z51</th>\n",
              "      <th>Z52</th>\n",
              "      <th>Z53</th>\n",
              "      <th>Z54</th>\n",
              "      <th>Z55</th>\n",
              "      <th>Z56</th>\n",
              "      <th>Z57</th>\n",
              "      <th>Z58</th>\n",
              "      <th>Z59</th>\n",
              "      <th>Z60</th>\n",
              "      <th>Z61</th>\n",
              "      <th>Z62</th>\n",
              "      <th>Z63</th>\n",
              "      <th>Z64</th>\n",
              "      <th>Z65</th>\n",
              "      <th>Z66</th>\n",
              "      <th>Z67</th>\n",
              "      <th>Z68</th>\n",
              "      <th>Z69</th>\n",
              "      <th>Z70</th>\n",
              "      <th>Z71</th>\n",
              "    </tr>\n",
              "    <tr>\n",
              "      <th>variable</th>\n",
              "      <th></th>\n",
              "      <th></th>\n",
              "      <th></th>\n",
              "      <th></th>\n",
              "      <th></th>\n",
              "      <th></th>\n",
              "      <th></th>\n",
              "      <th></th>\n",
              "      <th></th>\n",
              "      <th></th>\n",
              "      <th></th>\n",
              "      <th></th>\n",
              "      <th></th>\n",
              "      <th></th>\n",
              "      <th></th>\n",
              "      <th></th>\n",
              "      <th></th>\n",
              "      <th></th>\n",
              "      <th></th>\n",
              "      <th></th>\n",
              "      <th></th>\n",
              "      <th></th>\n",
              "      <th></th>\n",
              "      <th></th>\n",
              "      <th></th>\n",
              "      <th></th>\n",
              "      <th></th>\n",
              "      <th></th>\n",
              "      <th></th>\n",
              "      <th></th>\n",
              "      <th></th>\n",
              "      <th></th>\n",
              "      <th></th>\n",
              "      <th></th>\n",
              "      <th></th>\n",
              "      <th></th>\n",
              "      <th></th>\n",
              "      <th></th>\n",
              "      <th></th>\n",
              "      <th></th>\n",
              "      <th></th>\n",
              "      <th></th>\n",
              "      <th></th>\n",
              "      <th></th>\n",
              "      <th></th>\n",
              "      <th></th>\n",
              "      <th></th>\n",
              "      <th></th>\n",
              "      <th></th>\n",
              "      <th></th>\n",
              "      <th></th>\n",
              "      <th></th>\n",
              "      <th></th>\n",
              "      <th></th>\n",
              "      <th></th>\n",
              "      <th></th>\n",
              "      <th></th>\n",
              "      <th></th>\n",
              "      <th></th>\n",
              "      <th></th>\n",
              "      <th></th>\n",
              "      <th></th>\n",
              "      <th></th>\n",
              "      <th></th>\n",
              "      <th></th>\n",
              "      <th></th>\n",
              "      <th></th>\n",
              "      <th></th>\n",
              "      <th></th>\n",
              "      <th></th>\n",
              "      <th></th>\n",
              "    </tr>\n",
              "  </thead>\n",
              "  <tbody>\n",
              "    <tr>\n",
              "      <th>CNT_CHILDREN</th>\n",
              "      <td>-0.167039</td>\n",
              "      <td>0.019489</td>\n",
              "      <td>0.001598</td>\n",
              "      <td>-0.193978</td>\n",
              "      <td>-0.023573</td>\n",
              "      <td>-0.001032</td>\n",
              "      <td>-0.088177</td>\n",
              "      <td>0.143745</td>\n",
              "      <td>-0.173727</td>\n",
              "      <td>-0.016694</td>\n",
              "      <td>-0.006704</td>\n",
              "      <td>0.015804</td>\n",
              "      <td>0.010221</td>\n",
              "      <td>0.095308</td>\n",
              "      <td>0.014893</td>\n",
              "      <td>-0.030287</td>\n",
              "      <td>-0.087306</td>\n",
              "      <td>0.005116</td>\n",
              "      <td>0.397037</td>\n",
              "      <td>-0.003183</td>\n",
              "      <td>0.051362</td>\n",
              "      <td>-0.031910</td>\n",
              "      <td>0.090216</td>\n",
              "      <td>-0.275782</td>\n",
              "      <td>-0.117517</td>\n",
              "      <td>0.096904</td>\n",
              "      <td>-0.008051</td>\n",
              "      <td>-0.004392</td>\n",
              "      <td>0.033828</td>\n",
              "      <td>-0.097445</td>\n",
              "      <td>0.130530</td>\n",
              "      <td>0.101376</td>\n",
              "      <td>0.019040</td>\n",
              "      <td>0.470890</td>\n",
              "      <td>-0.241870</td>\n",
              "      <td>0.023307</td>\n",
              "      <td>0.149059</td>\n",
              "      <td>-0.208046</td>\n",
              "      <td>-0.035761</td>\n",
              "      <td>0.009851</td>\n",
              "      <td>-0.029691</td>\n",
              "      <td>-0.266116</td>\n",
              "      <td>-0.027844</td>\n",
              "      <td>-0.033266</td>\n",
              "      <td>0.045300</td>\n",
              "      <td>-0.149254</td>\n",
              "      <td>-0.003494</td>\n",
              "      <td>0.317935</td>\n",
              "      <td>-0.028107</td>\n",
              "      <td>-0.006930</td>\n",
              "      <td>0.040811</td>\n",
              "      <td>0.008293</td>\n",
              "      <td>-0.000683</td>\n",
              "      <td>0.000987</td>\n",
              "      <td>0.004115</td>\n",
              "      <td>-0.000560</td>\n",
              "      <td>0.002144</td>\n",
              "      <td>-0.001350</td>\n",
              "      <td>0.000023</td>\n",
              "      <td>0.000058</td>\n",
              "      <td>1.719137e-16</td>\n",
              "      <td>0.000000e+00</td>\n",
              "      <td>-0.000000e+00</td>\n",
              "      <td>-0.000000e+00</td>\n",
              "      <td>-0.000000e+00</td>\n",
              "      <td>0.000000e+00</td>\n",
              "      <td>0.000000e+00</td>\n",
              "      <td>0.000000e+00</td>\n",
              "      <td>-0.000000e+00</td>\n",
              "      <td>-0.000000e+00</td>\n",
              "      <td>-0.000000e+00</td>\n",
              "    </tr>\n",
              "    <tr>\n",
              "      <th>AMT_INCOME_TOTAL</th>\n",
              "      <td>-0.028060</td>\n",
              "      <td>0.113434</td>\n",
              "      <td>-0.004696</td>\n",
              "      <td>0.026124</td>\n",
              "      <td>-0.035426</td>\n",
              "      <td>0.033716</td>\n",
              "      <td>0.052912</td>\n",
              "      <td>-0.007964</td>\n",
              "      <td>0.006624</td>\n",
              "      <td>-0.022086</td>\n",
              "      <td>0.001716</td>\n",
              "      <td>-0.000124</td>\n",
              "      <td>0.000245</td>\n",
              "      <td>0.002437</td>\n",
              "      <td>0.011812</td>\n",
              "      <td>-0.015550</td>\n",
              "      <td>0.024881</td>\n",
              "      <td>0.012304</td>\n",
              "      <td>-0.000124</td>\n",
              "      <td>-0.002568</td>\n",
              "      <td>0.011004</td>\n",
              "      <td>-0.008277</td>\n",
              "      <td>0.026783</td>\n",
              "      <td>0.022010</td>\n",
              "      <td>-0.009206</td>\n",
              "      <td>0.010149</td>\n",
              "      <td>-0.028213</td>\n",
              "      <td>0.004646</td>\n",
              "      <td>-0.003304</td>\n",
              "      <td>-0.042807</td>\n",
              "      <td>0.004342</td>\n",
              "      <td>-0.001423</td>\n",
              "      <td>-0.012409</td>\n",
              "      <td>-0.013294</td>\n",
              "      <td>-0.001951</td>\n",
              "      <td>-0.017764</td>\n",
              "      <td>0.000586</td>\n",
              "      <td>0.008020</td>\n",
              "      <td>-0.000935</td>\n",
              "      <td>0.023519</td>\n",
              "      <td>-0.011754</td>\n",
              "      <td>-0.013112</td>\n",
              "      <td>0.012251</td>\n",
              "      <td>-0.023876</td>\n",
              "      <td>-0.017613</td>\n",
              "      <td>-0.006082</td>\n",
              "      <td>0.023974</td>\n",
              "      <td>0.007468</td>\n",
              "      <td>0.037747</td>\n",
              "      <td>0.006556</td>\n",
              "      <td>0.084805</td>\n",
              "      <td>0.096987</td>\n",
              "      <td>0.968671</td>\n",
              "      <td>-0.117939</td>\n",
              "      <td>-0.007047</td>\n",
              "      <td>-0.027228</td>\n",
              "      <td>0.007552</td>\n",
              "      <td>-0.001156</td>\n",
              "      <td>0.000356</td>\n",
              "      <td>0.000094</td>\n",
              "      <td>-7.063978e-17</td>\n",
              "      <td>-6.007619e-17</td>\n",
              "      <td>1.050003e-16</td>\n",
              "      <td>-3.791434e-17</td>\n",
              "      <td>2.942855e-17</td>\n",
              "      <td>1.462802e-16</td>\n",
              "      <td>3.828951e-17</td>\n",
              "      <td>2.949607e-17</td>\n",
              "      <td>-1.717376e-16</td>\n",
              "      <td>-8.500145e-17</td>\n",
              "      <td>-3.209238e-17</td>\n",
              "    </tr>\n",
              "    <tr>\n",
              "      <th>AMT_CREDIT</th>\n",
              "      <td>-0.027905</td>\n",
              "      <td>0.411793</td>\n",
              "      <td>-0.003270</td>\n",
              "      <td>-0.105003</td>\n",
              "      <td>0.094967</td>\n",
              "      <td>0.063198</td>\n",
              "      <td>0.367859</td>\n",
              "      <td>-0.221427</td>\n",
              "      <td>0.051377</td>\n",
              "      <td>0.011738</td>\n",
              "      <td>-0.006744</td>\n",
              "      <td>-0.006646</td>\n",
              "      <td>0.017207</td>\n",
              "      <td>0.067748</td>\n",
              "      <td>-0.081307</td>\n",
              "      <td>0.025684</td>\n",
              "      <td>0.009336</td>\n",
              "      <td>0.029320</td>\n",
              "      <td>-0.031329</td>\n",
              "      <td>-0.064702</td>\n",
              "      <td>-0.062370</td>\n",
              "      <td>0.054405</td>\n",
              "      <td>-0.006277</td>\n",
              "      <td>-0.080631</td>\n",
              "      <td>0.039314</td>\n",
              "      <td>-0.054998</td>\n",
              "      <td>-0.101021</td>\n",
              "      <td>-0.068969</td>\n",
              "      <td>-0.084972</td>\n",
              "      <td>-0.215742</td>\n",
              "      <td>0.056496</td>\n",
              "      <td>-0.013697</td>\n",
              "      <td>-0.047140</td>\n",
              "      <td>-0.015525</td>\n",
              "      <td>-0.001402</td>\n",
              "      <td>-0.016915</td>\n",
              "      <td>-0.016774</td>\n",
              "      <td>-0.010261</td>\n",
              "      <td>-0.037270</td>\n",
              "      <td>0.091901</td>\n",
              "      <td>-0.078940</td>\n",
              "      <td>-0.076607</td>\n",
              "      <td>0.102165</td>\n",
              "      <td>-0.004020</td>\n",
              "      <td>0.068902</td>\n",
              "      <td>0.007378</td>\n",
              "      <td>-0.034840</td>\n",
              "      <td>0.033991</td>\n",
              "      <td>0.013441</td>\n",
              "      <td>-0.008132</td>\n",
              "      <td>-0.041521</td>\n",
              "      <td>-0.682123</td>\n",
              "      <td>-0.008224</td>\n",
              "      <td>0.001864</td>\n",
              "      <td>0.000715</td>\n",
              "      <td>-0.001486</td>\n",
              "      <td>0.002622</td>\n",
              "      <td>-0.001314</td>\n",
              "      <td>-0.000093</td>\n",
              "      <td>-0.000111</td>\n",
              "      <td>-3.329579e-17</td>\n",
              "      <td>9.352446e-17</td>\n",
              "      <td>-7.968039e-17</td>\n",
              "      <td>1.203413e-16</td>\n",
              "      <td>1.100677e-16</td>\n",
              "      <td>-1.559299e-16</td>\n",
              "      <td>-7.314961e-17</td>\n",
              "      <td>4.932043e-17</td>\n",
              "      <td>3.014669e-17</td>\n",
              "      <td>-2.396125e-17</td>\n",
              "      <td>-3.023500e-17</td>\n",
              "    </tr>\n",
              "    <tr>\n",
              "      <th>AMT_ANNUITY</th>\n",
              "      <td>-0.053720</td>\n",
              "      <td>0.411091</td>\n",
              "      <td>0.012265</td>\n",
              "      <td>-0.079953</td>\n",
              "      <td>0.043413</td>\n",
              "      <td>0.071545</td>\n",
              "      <td>0.371973</td>\n",
              "      <td>-0.203826</td>\n",
              "      <td>0.033003</td>\n",
              "      <td>0.002869</td>\n",
              "      <td>-0.005261</td>\n",
              "      <td>-0.010466</td>\n",
              "      <td>0.014138</td>\n",
              "      <td>0.059840</td>\n",
              "      <td>-0.078493</td>\n",
              "      <td>0.028918</td>\n",
              "      <td>0.013583</td>\n",
              "      <td>0.034500</td>\n",
              "      <td>-0.022845</td>\n",
              "      <td>-0.037156</td>\n",
              "      <td>-0.006034</td>\n",
              "      <td>0.027919</td>\n",
              "      <td>-0.008727</td>\n",
              "      <td>-0.074969</td>\n",
              "      <td>0.011296</td>\n",
              "      <td>-0.029957</td>\n",
              "      <td>-0.092192</td>\n",
              "      <td>-0.050287</td>\n",
              "      <td>-0.071394</td>\n",
              "      <td>-0.166265</td>\n",
              "      <td>0.071769</td>\n",
              "      <td>-0.009531</td>\n",
              "      <td>-0.008760</td>\n",
              "      <td>-0.001604</td>\n",
              "      <td>0.014427</td>\n",
              "      <td>-0.021023</td>\n",
              "      <td>-0.002003</td>\n",
              "      <td>-0.020816</td>\n",
              "      <td>-0.016020</td>\n",
              "      <td>0.069123</td>\n",
              "      <td>-0.060287</td>\n",
              "      <td>-0.051705</td>\n",
              "      <td>0.104560</td>\n",
              "      <td>-0.030159</td>\n",
              "      <td>0.040725</td>\n",
              "      <td>0.006821</td>\n",
              "      <td>0.004750</td>\n",
              "      <td>-0.044335</td>\n",
              "      <td>0.022960</td>\n",
              "      <td>0.006324</td>\n",
              "      <td>-0.023458</td>\n",
              "      <td>0.714590</td>\n",
              "      <td>-0.150669</td>\n",
              "      <td>0.017798</td>\n",
              "      <td>0.000656</td>\n",
              "      <td>-0.002063</td>\n",
              "      <td>0.000577</td>\n",
              "      <td>0.000908</td>\n",
              "      <td>0.000042</td>\n",
              "      <td>0.000069</td>\n",
              "      <td>9.050393e-17</td>\n",
              "      <td>8.072937e-17</td>\n",
              "      <td>-6.526220e-17</td>\n",
              "      <td>4.848623e-17</td>\n",
              "      <td>6.154778e-17</td>\n",
              "      <td>4.024323e-17</td>\n",
              "      <td>-9.638081e-17</td>\n",
              "      <td>8.879380e-17</td>\n",
              "      <td>4.957160e-17</td>\n",
              "      <td>8.273185e-17</td>\n",
              "      <td>-3.598746e-17</td>\n",
              "    </tr>\n",
              "    <tr>\n",
              "      <th>REGION_POPULATION_RELATIVE</th>\n",
              "      <td>0.018022</td>\n",
              "      <td>0.230836</td>\n",
              "      <td>-0.094513</td>\n",
              "      <td>0.333244</td>\n",
              "      <td>0.037063</td>\n",
              "      <td>-0.108352</td>\n",
              "      <td>-0.028411</td>\n",
              "      <td>0.209784</td>\n",
              "      <td>-0.068097</td>\n",
              "      <td>-0.043749</td>\n",
              "      <td>-0.005268</td>\n",
              "      <td>-0.005344</td>\n",
              "      <td>-0.010545</td>\n",
              "      <td>0.025132</td>\n",
              "      <td>-0.071012</td>\n",
              "      <td>0.150594</td>\n",
              "      <td>-0.038972</td>\n",
              "      <td>0.016408</td>\n",
              "      <td>0.007032</td>\n",
              "      <td>-0.082822</td>\n",
              "      <td>0.217249</td>\n",
              "      <td>-0.011799</td>\n",
              "      <td>0.021441</td>\n",
              "      <td>-0.102778</td>\n",
              "      <td>-0.120222</td>\n",
              "      <td>0.032542</td>\n",
              "      <td>0.117411</td>\n",
              "      <td>0.118912</td>\n",
              "      <td>0.171500</td>\n",
              "      <td>-0.162848</td>\n",
              "      <td>0.019070</td>\n",
              "      <td>0.173674</td>\n",
              "      <td>0.010718</td>\n",
              "      <td>-0.140305</td>\n",
              "      <td>-0.009603</td>\n",
              "      <td>0.151157</td>\n",
              "      <td>-0.224208</td>\n",
              "      <td>0.053419</td>\n",
              "      <td>0.135195</td>\n",
              "      <td>-0.052554</td>\n",
              "      <td>0.071598</td>\n",
              "      <td>-0.048722</td>\n",
              "      <td>-0.037840</td>\n",
              "      <td>0.055827</td>\n",
              "      <td>-0.077886</td>\n",
              "      <td>-0.147905</td>\n",
              "      <td>-0.614552</td>\n",
              "      <td>-0.009646</td>\n",
              "      <td>-0.005988</td>\n",
              "      <td>0.000760</td>\n",
              "      <td>-0.040714</td>\n",
              "      <td>0.002247</td>\n",
              "      <td>-0.009473</td>\n",
              "      <td>0.000691</td>\n",
              "      <td>0.000854</td>\n",
              "      <td>-0.000703</td>\n",
              "      <td>-0.000223</td>\n",
              "      <td>-0.000163</td>\n",
              "      <td>0.000068</td>\n",
              "      <td>-0.000039</td>\n",
              "      <td>-3.282413e-17</td>\n",
              "      <td>7.192932e-17</td>\n",
              "      <td>8.167002e-17</td>\n",
              "      <td>3.683764e-18</td>\n",
              "      <td>-1.232842e-17</td>\n",
              "      <td>-1.454860e-17</td>\n",
              "      <td>-6.984593e-17</td>\n",
              "      <td>2.625680e-17</td>\n",
              "      <td>-6.928596e-17</td>\n",
              "      <td>1.819790e-17</td>\n",
              "      <td>-1.121942e-16</td>\n",
              "    </tr>\n",
              "  </tbody>\n",
              "</table>\n",
              "</div>\n",
              "      <button class=\"colab-df-convert\" onclick=\"convertToInteractive('df-7a6a8a9b-5cca-4109-9735-68c79540541b')\"\n",
              "              title=\"Convert this dataframe to an interactive table.\"\n",
              "              style=\"display:none;\">\n",
              "        \n",
              "  <svg xmlns=\"http://www.w3.org/2000/svg\" height=\"24px\"viewBox=\"0 0 24 24\"\n",
              "       width=\"24px\">\n",
              "    <path d=\"M0 0h24v24H0V0z\" fill=\"none\"/>\n",
              "    <path d=\"M18.56 5.44l.94 2.06.94-2.06 2.06-.94-2.06-.94-.94-2.06-.94 2.06-2.06.94zm-11 1L8.5 8.5l.94-2.06 2.06-.94-2.06-.94L8.5 2.5l-.94 2.06-2.06.94zm10 10l.94 2.06.94-2.06 2.06-.94-2.06-.94-.94-2.06-.94 2.06-2.06.94z\"/><path d=\"M17.41 7.96l-1.37-1.37c-.4-.4-.92-.59-1.43-.59-.52 0-1.04.2-1.43.59L10.3 9.45l-7.72 7.72c-.78.78-.78 2.05 0 2.83L4 21.41c.39.39.9.59 1.41.59.51 0 1.02-.2 1.41-.59l7.78-7.78 2.81-2.81c.8-.78.8-2.07 0-2.86zM5.41 20L4 18.59l7.72-7.72 1.47 1.35L5.41 20z\"/>\n",
              "  </svg>\n",
              "      </button>\n",
              "      \n",
              "  <style>\n",
              "    .colab-df-container {\n",
              "      display:flex;\n",
              "      flex-wrap:wrap;\n",
              "      gap: 12px;\n",
              "    }\n",
              "\n",
              "    .colab-df-convert {\n",
              "      background-color: #E8F0FE;\n",
              "      border: none;\n",
              "      border-radius: 50%;\n",
              "      cursor: pointer;\n",
              "      display: none;\n",
              "      fill: #1967D2;\n",
              "      height: 32px;\n",
              "      padding: 0 0 0 0;\n",
              "      width: 32px;\n",
              "    }\n",
              "\n",
              "    .colab-df-convert:hover {\n",
              "      background-color: #E2EBFA;\n",
              "      box-shadow: 0px 1px 2px rgba(60, 64, 67, 0.3), 0px 1px 3px 1px rgba(60, 64, 67, 0.15);\n",
              "      fill: #174EA6;\n",
              "    }\n",
              "\n",
              "    [theme=dark] .colab-df-convert {\n",
              "      background-color: #3B4455;\n",
              "      fill: #D2E3FC;\n",
              "    }\n",
              "\n",
              "    [theme=dark] .colab-df-convert:hover {\n",
              "      background-color: #434B5C;\n",
              "      box-shadow: 0px 1px 3px 1px rgba(0, 0, 0, 0.15);\n",
              "      filter: drop-shadow(0px 1px 2px rgba(0, 0, 0, 0.3));\n",
              "      fill: #FFFFFF;\n",
              "    }\n",
              "  </style>\n",
              "\n",
              "      <script>\n",
              "        const buttonEl =\n",
              "          document.querySelector('#df-7a6a8a9b-5cca-4109-9735-68c79540541b button.colab-df-convert');\n",
              "        buttonEl.style.display =\n",
              "          google.colab.kernel.accessAllowed ? 'block' : 'none';\n",
              "\n",
              "        async function convertToInteractive(key) {\n",
              "          const element = document.querySelector('#df-7a6a8a9b-5cca-4109-9735-68c79540541b');\n",
              "          const dataTable =\n",
              "            await google.colab.kernel.invokeFunction('convertToInteractive',\n",
              "                                                     [key], {});\n",
              "          if (!dataTable) return;\n",
              "\n",
              "          const docLinkHtml = 'Like what you see? Visit the ' +\n",
              "            '<a target=\"_blank\" href=https://colab.research.google.com/notebooks/data_table.ipynb>data table notebook</a>'\n",
              "            + ' to learn more about interactive tables.';\n",
              "          element.innerHTML = '';\n",
              "          dataTable['output_type'] = 'display_data';\n",
              "          await google.colab.output.renderOutput(dataTable, element);\n",
              "          const docLink = document.createElement('div');\n",
              "          docLink.innerHTML = docLinkHtml;\n",
              "          element.appendChild(docLink);\n",
              "        }\n",
              "      </script>\n",
              "    </div>\n",
              "  </div>\n",
              "  "
            ]
          },
          "metadata": {},
          "execution_count": 12
        }
      ],
      "source": [
        "loadings = pca_model.components_\n",
        "\n",
        "loadings = pca_model.components_\n",
        "num_pc = pca_model.n_features_\n",
        "pc_list = [\"Z\"+str(i) for i in list(range(1, num_pc+1))]\n",
        "loadings_df = pd.DataFrame.from_dict(dict(zip(pc_list, loadings)))\n",
        "loadings_df['variable'] = X.columns.values\n",
        "loadings_df = loadings_df.set_index('variable')\n",
        "\n",
        "\n",
        "loadings_df.head()"
      ]
    },
    {
      "cell_type": "markdown",
      "source": [
        "#### Definición de X_ (Datos transformados usando PCA)"
      ],
      "metadata": {
        "id": "B_BGI98hGEQ4"
      }
    },
    {
      "cell_type": "code",
      "source": [
        "X_ = X_pca[:, :40]\n",
        "X_.shape"
      ],
      "metadata": {
        "colab": {
          "base_uri": "https://localhost:8080/"
        },
        "id": "rULi2l3X9Rxu",
        "outputId": "449c9122-cf9a-4f00-a378-046a70e42146"
      },
      "execution_count": null,
      "outputs": [
        {
          "output_type": "execute_result",
          "data": {
            "text/plain": [
              "(261196, 40)"
            ]
          },
          "metadata": {},
          "execution_count": 13
        }
      ]
    },
    {
      "cell_type": "markdown",
      "source": [
        "## **Primer Clasificador:**"
      ],
      "metadata": {
        "id": "DMfFKA7d9phm"
      }
    },
    {
      "cell_type": "markdown",
      "source": [
        "### Árbol de decisiones - profundidad 10 - Usando todo el data set (Desbalanceado)"
      ],
      "metadata": {
        "id": "kfGa0GwBGMIw"
      }
    },
    {
      "cell_type": "code",
      "source": [
        "tree_classifier = DecisionTreeClassifier(max_depth = 10, random_state = 0)\n",
        "tree_classifier.fit(X_, y)"
      ],
      "metadata": {
        "colab": {
          "base_uri": "https://localhost:8080/"
        },
        "id": "67u2y_oJ9RrW",
        "outputId": "f05ad9c8-0425-4d98-c72d-050abb902022"
      },
      "execution_count": null,
      "outputs": [
        {
          "output_type": "execute_result",
          "data": {
            "text/plain": [
              "DecisionTreeClassifier(max_depth=10, random_state=0)"
            ]
          },
          "metadata": {},
          "execution_count": 14
        }
      ]
    },
    {
      "cell_type": "code",
      "source": [
        "y_pred = tree_classifier.predict(X_)\n",
        "print(classification_report(y, y_pred))"
      ],
      "metadata": {
        "colab": {
          "base_uri": "https://localhost:8080/"
        },
        "id": "x-04O-xcAk1e",
        "outputId": "2efdc952-b75a-4ed3-e18f-343fd575af56"
      },
      "execution_count": null,
      "outputs": [
        {
          "output_type": "stream",
          "name": "stdout",
          "text": [
            "              precision    recall  f1-score   support\n",
            "\n",
            "         0.0       0.93      1.00      0.96    240314\n",
            "         1.0       0.79      0.07      0.14     20882\n",
            "\n",
            "    accuracy                           0.92    261196\n",
            "   macro avg       0.86      0.54      0.55    261196\n",
            "weighted avg       0.91      0.92      0.89    261196\n",
            "\n"
          ]
        }
      ]
    },
    {
      "cell_type": "code",
      "source": [
        "plot_confusion_matrix(tree_classifier, X_, y)\n",
        "plt.savefig('/content/drive/Shareddrives/MSc Ciencia Datos/proyectointegrador/Images/confMat_DecTr_AllData.png')\n",
        "plt.show()"
      ],
      "metadata": {
        "colab": {
          "base_uri": "https://localhost:8080/",
          "height": 285
        },
        "id": "oxy8ikqr_xCn",
        "outputId": "926e0a0e-8137-4da2-f636-ff40f7a83ed9"
      },
      "execution_count": null,
      "outputs": [
        {
          "output_type": "display_data",
          "data": {
            "text/plain": [
              "<Figure size 432x288 with 2 Axes>"
            ],
            "image/png": "[encoded data removed]"
          },
          "metadata": {
            "needs_background": "light"
          }
        }
      ]
    },
    {
      "cell_type": "markdown",
      "source": [
        "### Árbol de decisiones - profundidad 10 - Balanceando el target aleatoriamente - un sólo slice"
      ],
      "metadata": {
        "id": "55J_soNpCQmg"
      }
    },
    {
      "cell_type": "code",
      "source": [
        "full_idx_0 = data_w_o_outliers[data_w_o_outliers['TARGET'] == 0].index\n",
        "size_1 =len(data_w_o_outliers[data_w_o_outliers['TARGET'] == 1])\n",
        "\n",
        "idx_0 = np.random.choice(full_idx_0, size = size_1)\n",
        "X_0 = X_[idx_0, :]\n",
        "y_0 = y[idx_0]\n",
        "\n",
        "X_0.shape, y_0.shape"
      ],
      "metadata": {
        "colab": {
          "base_uri": "https://localhost:8080/"
        },
        "id": "NrDYn5WMCTUN",
        "outputId": "12607d3e-a2c4-4d4f-a67e-fb9c386ccf68"
      },
      "execution_count": null,
      "outputs": [
        {
          "output_type": "execute_result",
          "data": {
            "text/plain": [
              "((20882, 40), (20882,))"
            ]
          },
          "metadata": {},
          "execution_count": 17
        }
      ]
    },
    {
      "cell_type": "code",
      "source": [
        "full_idx_1 = data_w_o_outliers[data_w_o_outliers['TARGET'] == 1].index\n",
        "size_1 =len(data_w_o_outliers[data_w_o_outliers['TARGET'] == 1])\n",
        "\n",
        "idx_1 = np.random.choice(full_idx_1, size = size_1)\n",
        "X_1 = X_[idx_1, :]\n",
        "y_1 = y[idx_1]\n",
        "\n",
        "X_1.shape, y_1.shape"
      ],
      "metadata": {
        "colab": {
          "base_uri": "https://localhost:8080/"
        },
        "id": "CI5DVT5F9Rjo",
        "outputId": "3c64489f-a7f2-4c9f-a907-a5adfe3d3819"
      },
      "execution_count": null,
      "outputs": [
        {
          "output_type": "execute_result",
          "data": {
            "text/plain": [
              "((20882, 40), (20882,))"
            ]
          },
          "metadata": {},
          "execution_count": 18
        }
      ]
    },
    {
      "cell_type": "code",
      "source": [
        "X_b = np.append(X_0, X_1, axis = 0)\n",
        "y_b = np.append(y_0, y_1, axis = 0)\n",
        "\n",
        "X_b.shape, y_b.shape"
      ],
      "metadata": {
        "colab": {
          "base_uri": "https://localhost:8080/"
        },
        "id": "_dn0XJFbEJVd",
        "outputId": "69f4fbac-260c-4a7f-84fb-49c9db67fcbe"
      },
      "execution_count": null,
      "outputs": [
        {
          "output_type": "execute_result",
          "data": {
            "text/plain": [
              "((41764, 40), (41764,))"
            ]
          },
          "metadata": {},
          "execution_count": 19
        }
      ]
    },
    {
      "cell_type": "code",
      "source": [
        "tree_classifier = DecisionTreeClassifier(max_depth = 10, random_state = 0)\n",
        "tree_classifier.fit(X_b, y_b)"
      ],
      "metadata": {
        "colab": {
          "base_uri": "https://localhost:8080/"
        },
        "outputId": "81dfb50d-9f5e-454d-c551-df36d7c86758",
        "id": "WYhlVG-EEsVf"
      },
      "execution_count": null,
      "outputs": [
        {
          "output_type": "execute_result",
          "data": {
            "text/plain": [
              "DecisionTreeClassifier(max_depth=10, random_state=0)"
            ]
          },
          "metadata": {},
          "execution_count": 20
        }
      ]
    },
    {
      "cell_type": "code",
      "source": [
        "y_pred_b = tree_classifier.predict(X_b)\n",
        "print(classification_report(y_b, y_pred_b))"
      ],
      "metadata": {
        "colab": {
          "base_uri": "https://localhost:8080/"
        },
        "outputId": "20f04eb8-bd55-4e16-e934-16d76166f3b0",
        "id": "J-hdzQkBEsVg"
      },
      "execution_count": null,
      "outputs": [
        {
          "output_type": "stream",
          "name": "stdout",
          "text": [
            "              precision    recall  f1-score   support\n",
            "\n",
            "         0.0       0.78      0.73      0.76     20882\n",
            "         1.0       0.75      0.80      0.77     20882\n",
            "\n",
            "    accuracy                           0.77     41764\n",
            "   macro avg       0.77      0.77      0.76     41764\n",
            "weighted avg       0.77      0.77      0.76     41764\n",
            "\n"
          ]
        }
      ]
    },
    {
      "cell_type": "code",
      "source": [
        "plot_confusion_matrix(tree_classifier, X_b, y_b)\n",
        "plt.savefig('/content/drive/Shareddrives/MSc Ciencia Datos/proyectointegrador/Images/confMat_DecTr_balanced_random.png')\n",
        "plt.show()"
      ],
      "metadata": {
        "colab": {
          "base_uri": "https://localhost:8080/",
          "height": 288
        },
        "outputId": "48391b3b-76a6-4108-f55d-95762bb7999a",
        "id": "I9cdbFO1EsVg"
      },
      "execution_count": null,
      "outputs": [
        {
          "output_type": "display_data",
          "data": {
            "text/plain": [
              "<Figure size 432x288 with 2 Axes>"
            ],
            "image/png": "[encoded data removed]"
          },
          "metadata": {
            "needs_background": "light"
          }
        }
      ]
    },
    {
      "cell_type": "markdown",
      "source": [
        "### Árbol de decisiones - profundidad 10 - Usando todo el data set (Desbalanceado) - Split Train and Test"
      ],
      "metadata": {
        "id": "6jSG00EaGj9P"
      }
    },
    {
      "cell_type": "markdown",
      "source": [
        "#### Función para evaluar vía cross validation:"
      ],
      "metadata": {
        "id": "QQIMfJDTKMhf"
      }
    },
    {
      "cell_type": "code",
      "source": [
        "def metrics_CV_classifier(model, X, y, cv = 5):\n",
        "    \n",
        "    #  Aplicando cross validation k-folds, con 5 pliegues\n",
        "    scores = cross_validate(\n",
        "        estimator = model,\n",
        "        X = X,\n",
        "        y = y,\n",
        "        cv = cv,\n",
        "        scoring = [\n",
        "            'accuracy',\n",
        "            'f1',\n",
        "            'precision',\n",
        "            'recall'\n",
        "        ],\n",
        "        return_train_score = True,\n",
        "        n_jobs = -1,\n",
        "        return_estimator = True\n",
        "    )\n",
        "\n",
        "    #  Para visualizar mejor el resultado de la validación cruzada, se da estructura de Data Frame\n",
        "    df_tree_p1_scores = pd.DataFrame(scores)\n",
        "\n",
        "    print(f'F1 score medio en Train: {df_tree_p1_scores.train_f1.mean():.2f}')\n",
        "    print(f'F1 score medio en Test: {df_tree_p1_scores.test_f1.mean():.2f}')\n",
        "    print(f'Precision obtenido en train: {df_tree_p1_scores.train_precision.mean():.2f}')\n",
        "    print(f'Precision obtenido en test: {df_tree_p1_scores.test_precision.mean():.2f}')\n",
        "\n",
        "    display(df_tree_p1_scores.T)\n",
        "\n",
        "    return scores"
      ],
      "metadata": {
        "id": "NDzCHe67H4NA"
      },
      "execution_count": null,
      "outputs": []
    },
    {
      "cell_type": "code",
      "source": [
        "tree_classifier = DecisionTreeClassifier(max_depth = 10, random_state = 0)"
      ],
      "metadata": {
        "id": "Z92akb90LeYO"
      },
      "execution_count": null,
      "outputs": []
    },
    {
      "cell_type": "code",
      "source": [
        "cv_scores = metrics_CV_classifier(tree_classifier, X_b, y_b, 5)"
      ],
      "metadata": {
        "colab": {
          "base_uri": "https://localhost:8080/",
          "height": 525
        },
        "id": "oULWZKSEJoi_",
        "outputId": "7c626103-c377-4048-e07d-58c9bc8db6aa"
      },
      "execution_count": null,
      "outputs": [
        {
          "output_type": "stream",
          "name": "stdout",
          "text": [
            "F1 score medio en Train: 0.77\n",
            "F1 score medio en Test: 0.68\n",
            "Precision obtenido en train: 0.77\n",
            "Precision obtenido en test: 0.67\n"
          ]
        },
        {
          "output_type": "display_data",
          "data": {
            "text/plain": [
              "                                                                 0  \\\n",
              "fit_time                                                  2.466684   \n",
              "score_time                                                0.029469   \n",
              "estimator        DecisionTreeClassifier(max_depth=10, random_st...   \n",
              "test_accuracy                                             0.667904   \n",
              "train_accuracy                                            0.769896   \n",
              "test_f1                                                    0.67357   \n",
              "train_f1                                                  0.773643   \n",
              "test_precision                                            0.662193   \n",
              "train_precision                                            0.76127   \n",
              "test_recall                                               0.685345   \n",
              "train_recall                                              0.786424   \n",
              "\n",
              "                                                                 1  \\\n",
              "fit_time                                                   2.48624   \n",
              "score_time                                                  0.0296   \n",
              "estimator        DecisionTreeClassifier(max_depth=10, random_st...   \n",
              "test_accuracy                                             0.676643   \n",
              "train_accuracy                                            0.773009   \n",
              "test_f1                                                   0.683316   \n",
              "train_f1                                                  0.775182   \n",
              "test_precision                                            0.669423   \n",
              "train_precision                                           0.767853   \n",
              "test_recall                                               0.697797   \n",
              "train_recall                                              0.782653   \n",
              "\n",
              "                                                                 2  \\\n",
              "fit_time                                                   2.54681   \n",
              "score_time                                                0.030608   \n",
              "estimator        DecisionTreeClassifier(max_depth=10, random_st...   \n",
              "test_accuracy                                             0.666108   \n",
              "train_accuracy                                            0.777169   \n",
              "test_f1                                                   0.666985   \n",
              "train_f1                                                  0.776366   \n",
              "test_precision                                            0.665317   \n",
              "train_precision                                           0.779151   \n",
              "test_recall                                               0.668662   \n",
              "train_recall                                              0.773601   \n",
              "\n",
              "                                                                 3  \\\n",
              "fit_time                                                  2.563574   \n",
              "score_time                                                0.030819   \n",
              "estimator        DecisionTreeClassifier(max_depth=10, random_st...   \n",
              "test_accuracy                                             0.679516   \n",
              "train_accuracy                                            0.776032   \n",
              "test_f1                                                   0.679823   \n",
              "train_f1                                                  0.774629   \n",
              "test_precision                                            0.679254   \n",
              "train_precision                                           0.779488   \n",
              "test_recall                                               0.680393   \n",
              "train_recall                                              0.769829   \n",
              "\n",
              "                                                                 4  \n",
              "fit_time                                                  1.815074  \n",
              "score_time                                                0.018301  \n",
              "estimator        DecisionTreeClassifier(max_depth=10, random_st...  \n",
              "test_accuracy                                              0.67433  \n",
              "train_accuracy                                            0.772926  \n",
              "test_f1                                                   0.679245  \n",
              "train_f1                                                  0.774217  \n",
              "test_precision                                            0.669145  \n",
              "train_precision                                           0.769841  \n",
              "test_recall                                               0.689655  \n",
              "train_recall                                              0.778642  "
            ],
            "text/html": [
              "\n",
              "  <div id=\"df-bec64dd4-858f-409c-966d-5ca235edc124\">\n",
              "    <div class=\"colab-df-container\">\n",
              "      <div>\n",
              "<style scoped>\n",
              "    .dataframe tbody tr th:only-of-type {\n",
              "        vertical-align: middle;\n",
              "    }\n",
              "\n",
              "    .dataframe tbody tr th {\n",
              "        vertical-align: top;\n",
              "    }\n",
              "\n",
              "    .dataframe thead th {\n",
              "        text-align: right;\n",
              "    }\n",
              "</style>\n",
              "<table border=\"1\" class=\"dataframe\">\n",
              "  <thead>\n",
              "    <tr style=\"text-align: right;\">\n",
              "      <th></th>\n",
              "      <th>0</th>\n",
              "      <th>1</th>\n",
              "      <th>2</th>\n",
              "      <th>3</th>\n",
              "      <th>4</th>\n",
              "    </tr>\n",
              "  </thead>\n",
              "  <tbody>\n",
              "    <tr>\n",
              "      <th>fit_time</th>\n",
              "      <td>2.466684</td>\n",
              "      <td>2.48624</td>\n",
              "      <td>2.54681</td>\n",
              "      <td>2.563574</td>\n",
              "      <td>1.815074</td>\n",
              "    </tr>\n",
              "    <tr>\n",
              "      <th>score_time</th>\n",
              "      <td>0.029469</td>\n",
              "      <td>0.0296</td>\n",
              "      <td>0.030608</td>\n",
              "      <td>0.030819</td>\n",
              "      <td>0.018301</td>\n",
              "    </tr>\n",
              "    <tr>\n",
              "      <th>estimator</th>\n",
              "      <td>DecisionTreeClassifier(max_depth=10, random_st...</td>\n",
              "      <td>DecisionTreeClassifier(max_depth=10, random_st...</td>\n",
              "      <td>DecisionTreeClassifier(max_depth=10, random_st...</td>\n",
              "      <td>DecisionTreeClassifier(max_depth=10, random_st...</td>\n",
              "      <td>DecisionTreeClassifier(max_depth=10, random_st...</td>\n",
              "    </tr>\n",
              "    <tr>\n",
              "      <th>test_accuracy</th>\n",
              "      <td>0.667904</td>\n",
              "      <td>0.676643</td>\n",
              "      <td>0.666108</td>\n",
              "      <td>0.679516</td>\n",
              "      <td>0.67433</td>\n",
              "    </tr>\n",
              "    <tr>\n",
              "      <th>train_accuracy</th>\n",
              "      <td>0.769896</td>\n",
              "      <td>0.773009</td>\n",
              "      <td>0.777169</td>\n",
              "      <td>0.776032</td>\n",
              "      <td>0.772926</td>\n",
              "    </tr>\n",
              "    <tr>\n",
              "      <th>test_f1</th>\n",
              "      <td>0.67357</td>\n",
              "      <td>0.683316</td>\n",
              "      <td>0.666985</td>\n",
              "      <td>0.679823</td>\n",
              "      <td>0.679245</td>\n",
              "    </tr>\n",
              "    <tr>\n",
              "      <th>train_f1</th>\n",
              "      <td>0.773643</td>\n",
              "      <td>0.775182</td>\n",
              "      <td>0.776366</td>\n",
              "      <td>0.774629</td>\n",
              "      <td>0.774217</td>\n",
              "    </tr>\n",
              "    <tr>\n",
              "      <th>test_precision</th>\n",
              "      <td>0.662193</td>\n",
              "      <td>0.669423</td>\n",
              "      <td>0.665317</td>\n",
              "      <td>0.679254</td>\n",
              "      <td>0.669145</td>\n",
              "    </tr>\n",
              "    <tr>\n",
              "      <th>train_precision</th>\n",
              "      <td>0.76127</td>\n",
              "      <td>0.767853</td>\n",
              "      <td>0.779151</td>\n",
              "      <td>0.779488</td>\n",
              "      <td>0.769841</td>\n",
              "    </tr>\n",
              "    <tr>\n",
              "      <th>test_recall</th>\n",
              "      <td>0.685345</td>\n",
              "      <td>0.697797</td>\n",
              "      <td>0.668662</td>\n",
              "      <td>0.680393</td>\n",
              "      <td>0.689655</td>\n",
              "    </tr>\n",
              "    <tr>\n",
              "      <th>train_recall</th>\n",
              "      <td>0.786424</td>\n",
              "      <td>0.782653</td>\n",
              "      <td>0.773601</td>\n",
              "      <td>0.769829</td>\n",
              "      <td>0.778642</td>\n",
              "    </tr>\n",
              "  </tbody>\n",
              "</table>\n",
              "</div>\n",
              "      <button class=\"colab-df-convert\" onclick=\"convertToInteractive('df-bec64dd4-858f-409c-966d-5ca235edc124')\"\n",
              "              title=\"Convert this dataframe to an interactive table.\"\n",
              "              style=\"display:none;\">\n",
              "        \n",
              "  <svg xmlns=\"http://www.w3.org/2000/svg\" height=\"24px\"viewBox=\"0 0 24 24\"\n",
              "       width=\"24px\">\n",
              "    <path d=\"M0 0h24v24H0V0z\" fill=\"none\"/>\n",
              "    <path d=\"M18.56 5.44l.94 2.06.94-2.06 2.06-.94-2.06-.94-.94-2.06-.94 2.06-2.06.94zm-11 1L8.5 8.5l.94-2.06 2.06-.94-2.06-.94L8.5 2.5l-.94 2.06-2.06.94zm10 10l.94 2.06.94-2.06 2.06-.94-2.06-.94-.94-2.06-.94 2.06-2.06.94z\"/><path d=\"M17.41 7.96l-1.37-1.37c-.4-.4-.92-.59-1.43-.59-.52 0-1.04.2-1.43.59L10.3 9.45l-7.72 7.72c-.78.78-.78 2.05 0 2.83L4 21.41c.39.39.9.59 1.41.59.51 0 1.02-.2 1.41-.59l7.78-7.78 2.81-2.81c.8-.78.8-2.07 0-2.86zM5.41 20L4 18.59l7.72-7.72 1.47 1.35L5.41 20z\"/>\n",
              "  </svg>\n",
              "      </button>\n",
              "      \n",
              "  <style>\n",
              "    .colab-df-container {\n",
              "      display:flex;\n",
              "      flex-wrap:wrap;\n",
              "      gap: 12px;\n",
              "    }\n",
              "\n",
              "    .colab-df-convert {\n",
              "      background-color: #E8F0FE;\n",
              "      border: none;\n",
              "      border-radius: 50%;\n",
              "      cursor: pointer;\n",
              "      display: none;\n",
              "      fill: #1967D2;\n",
              "      height: 32px;\n",
              "      padding: 0 0 0 0;\n",
              "      width: 32px;\n",
              "    }\n",
              "\n",
              "    .colab-df-convert:hover {\n",
              "      background-color: #E2EBFA;\n",
              "      box-shadow: 0px 1px 2px rgba(60, 64, 67, 0.3), 0px 1px 3px 1px rgba(60, 64, 67, 0.15);\n",
              "      fill: #174EA6;\n",
              "    }\n",
              "\n",
              "    [theme=dark] .colab-df-convert {\n",
              "      background-color: #3B4455;\n",
              "      fill: #D2E3FC;\n",
              "    }\n",
              "\n",
              "    [theme=dark] .colab-df-convert:hover {\n",
              "      background-color: #434B5C;\n",
              "      box-shadow: 0px 1px 3px 1px rgba(0, 0, 0, 0.15);\n",
              "      filter: drop-shadow(0px 1px 2px rgba(0, 0, 0, 0.3));\n",
              "      fill: #FFFFFF;\n",
              "    }\n",
              "  </style>\n",
              "\n",
              "      <script>\n",
              "        const buttonEl =\n",
              "          document.querySelector('#df-bec64dd4-858f-409c-966d-5ca235edc124 button.colab-df-convert');\n",
              "        buttonEl.style.display =\n",
              "          google.colab.kernel.accessAllowed ? 'block' : 'none';\n",
              "\n",
              "        async function convertToInteractive(key) {\n",
              "          const element = document.querySelector('#df-bec64dd4-858f-409c-966d-5ca235edc124');\n",
              "          const dataTable =\n",
              "            await google.colab.kernel.invokeFunction('convertToInteractive',\n",
              "                                                     [key], {});\n",
              "          if (!dataTable) return;\n",
              "\n",
              "          const docLinkHtml = 'Like what you see? Visit the ' +\n",
              "            '<a target=\"_blank\" href=https://colab.research.google.com/notebooks/data_table.ipynb>data table notebook</a>'\n",
              "            + ' to learn more about interactive tables.';\n",
              "          element.innerHTML = '';\n",
              "          dataTable['output_type'] = 'display_data';\n",
              "          await google.colab.output.renderOutput(dataTable, element);\n",
              "          const docLink = document.createElement('div');\n",
              "          docLink.innerHTML = docLinkHtml;\n",
              "          element.appendChild(docLink);\n",
              "        }\n",
              "      </script>\n",
              "    </div>\n",
              "  </div>\n",
              "  "
            ]
          },
          "metadata": {}
        }
      ]
    },
    {
      "cell_type": "code",
      "source": [
        "y_b_pred = cv_scores['estimator'][1].predict(X_b)\n",
        "\n",
        "print(classification_report(y_b, y_pred_b))"
      ],
      "metadata": {
        "colab": {
          "base_uri": "https://localhost:8080/"
        },
        "id": "t6IUhIVWLnsu",
        "outputId": "373454d5-c5fa-42a8-c5bd-2cb8d7874f70"
      },
      "execution_count": null,
      "outputs": [
        {
          "output_type": "stream",
          "name": "stdout",
          "text": [
            "              precision    recall  f1-score   support\n",
            "\n",
            "         0.0       0.78      0.73      0.76     20882\n",
            "         1.0       0.75      0.80      0.77     20882\n",
            "\n",
            "    accuracy                           0.77     41764\n",
            "   macro avg       0.77      0.77      0.76     41764\n",
            "weighted avg       0.77      0.77      0.76     41764\n",
            "\n"
          ]
        }
      ]
    },
    {
      "cell_type": "code",
      "source": [
        "plot_confusion_matrix(cv_scores['estimator'][1], X_b, y_b)\n",
        "plt.show()"
      ],
      "metadata": {
        "colab": {
          "base_uri": "https://localhost:8080/",
          "height": 285
        },
        "id": "h2b9OBGlNckN",
        "outputId": "f556a948-25b4-4b13-d1c5-0f9d90422b43"
      },
      "execution_count": null,
      "outputs": [
        {
          "output_type": "display_data",
          "data": {
            "text/plain": [
              "<Figure size 432x288 with 2 Axes>"
            ],
            "image/png": "[encoded data removed]"
          },
          "metadata": {
            "needs_background": "light"
          }
        }
      ]
    },
    {
      "cell_type": "markdown",
      "source": [
        "### Árbol de decisiones - profundidad 10 - Usando n primeros datos"
      ],
      "metadata": {
        "id": "i_emNsAHOvg1"
      }
    },
    {
      "cell_type": "code",
      "source": [
        "idx_0_nfirst = full_idx_0[:size_1]\n",
        "X_0_first = X_[idx_0_nfirst, :]\n",
        "y_0_first = y[idx_0_nfirst]\n",
        "\n",
        "X_0_first.shape, y_0_first.shape"
      ],
      "metadata": {
        "colab": {
          "base_uri": "https://localhost:8080/"
        },
        "id": "-w3PsyBMOBoF",
        "outputId": "e15fb948-4696-4c6f-f6e5-30fb50bed497"
      },
      "execution_count": null,
      "outputs": [
        {
          "output_type": "execute_result",
          "data": {
            "text/plain": [
              "((20882, 40), (20882,))"
            ]
          },
          "metadata": {},
          "execution_count": 28
        }
      ]
    },
    {
      "cell_type": "code",
      "source": [
        "X_b_first = np.append(X_0_first, X_1, axis = 0)\n",
        "y_b_first = np.append(y_0_first, y_1, axis = 0)\n",
        "\n",
        "X_b_first.shape, y_b_first.shape"
      ],
      "metadata": {
        "colab": {
          "base_uri": "https://localhost:8080/"
        },
        "outputId": "d9f1ead5-6751-40cc-8a00-da206e72b063",
        "id": "sm5z9PjgOIru"
      },
      "execution_count": null,
      "outputs": [
        {
          "output_type": "execute_result",
          "data": {
            "text/plain": [
              "((41764, 40), (41764,))"
            ]
          },
          "metadata": {},
          "execution_count": 29
        }
      ]
    },
    {
      "cell_type": "code",
      "source": [
        "tree_classifier_n_first = DecisionTreeClassifier(max_depth = 10, random_state = 0)\n",
        "cv_scores = metrics_CV_classifier(tree_classifier_n_first, X_b_first, y_b_first, 5)"
      ],
      "metadata": {
        "colab": {
          "base_uri": "https://localhost:8080/",
          "height": 525
        },
        "id": "UlreRc-WO4hM",
        "outputId": "b98851f5-d640-4b11-b1c0-0fee341c3612"
      },
      "execution_count": null,
      "outputs": [
        {
          "output_type": "stream",
          "name": "stdout",
          "text": [
            "F1 score medio en Train: 0.78\n",
            "F1 score medio en Test: 0.68\n",
            "Precision obtenido en train: 0.77\n",
            "Precision obtenido en test: 0.66\n"
          ]
        },
        {
          "output_type": "display_data",
          "data": {
            "text/plain": [
              "                                                                 0  \\\n",
              "fit_time                                                  2.529915   \n",
              "score_time                                                0.029297   \n",
              "estimator        DecisionTreeClassifier(max_depth=10, random_st...   \n",
              "test_accuracy                                             0.658207   \n",
              "train_accuracy                                            0.775254   \n",
              "test_f1                                                   0.669828   \n",
              "train_f1                                                  0.779231   \n",
              "test_precision                                             0.64773   \n",
              "train_precision                                           0.765702   \n",
              "test_recall                                               0.693487   \n",
              "train_recall                                              0.793248   \n",
              "\n",
              "                                                                 1  \\\n",
              "fit_time                                                  2.468502   \n",
              "score_time                                                0.027784   \n",
              "estimator        DecisionTreeClassifier(max_depth=10, random_st...   \n",
              "test_accuracy                                             0.674249   \n",
              "train_accuracy                                            0.774924   \n",
              "test_f1                                                   0.675415   \n",
              "train_f1                                                  0.776377   \n",
              "test_precision                                            0.672926   \n",
              "train_precision                                           0.771422   \n",
              "test_recall                                               0.677921   \n",
              "train_recall                                              0.781396   \n",
              "\n",
              "                                                                 2  \\\n",
              "fit_time                                                  2.644969   \n",
              "score_time                                                0.028873   \n",
              "estimator        DecisionTreeClassifier(max_depth=10, random_st...   \n",
              "test_accuracy                                             0.666587   \n",
              "train_accuracy                                            0.777319   \n",
              "test_f1                                                   0.670141   \n",
              "train_f1                                                  0.777618   \n",
              "test_precision                                             0.66315   \n",
              "train_precision                                           0.776551   \n",
              "test_recall                                                0.67728   \n",
              "train_recall                                              0.778689   \n",
              "\n",
              "                                                                 3  \\\n",
              "fit_time                                                  2.541056   \n",
              "score_time                                                0.030447   \n",
              "estimator        DecisionTreeClassifier(max_depth=10, random_st...   \n",
              "test_accuracy                                             0.672573   \n",
              "train_accuracy                                            0.778935   \n",
              "test_f1                                                   0.675909   \n",
              "train_f1                                                  0.779378   \n",
              "test_precision                                            0.669169   \n",
              "train_precision                                           0.777798   \n",
              "test_recall                                               0.682787   \n",
              "train_recall                                              0.780964   \n",
              "\n",
              "                                                                 4  \n",
              "fit_time                                                  1.806102  \n",
              "score_time                                                0.018159  \n",
              "estimator        DecisionTreeClassifier(max_depth=10, random_st...  \n",
              "test_accuracy                                             0.677323  \n",
              "train_accuracy                                            0.780887  \n",
              "test_f1                                                   0.686373  \n",
              "train_f1                                                  0.783229  \n",
              "test_precision                                            0.667648  \n",
              "train_precision                                           0.774946  \n",
              "test_recall                                               0.706178  \n",
              "train_recall                                              0.791692  "
            ],
            "text/html": [
              "\n",
              "  <div id=\"df-68281195-2a77-4b50-85ac-291fc659e0d8\">\n",
              "    <div class=\"colab-df-container\">\n",
              "      <div>\n",
              "<style scoped>\n",
              "    .dataframe tbody tr th:only-of-type {\n",
              "        vertical-align: middle;\n",
              "    }\n",
              "\n",
              "    .dataframe tbody tr th {\n",
              "        vertical-align: top;\n",
              "    }\n",
              "\n",
              "    .dataframe thead th {\n",
              "        text-align: right;\n",
              "    }\n",
              "</style>\n",
              "<table border=\"1\" class=\"dataframe\">\n",
              "  <thead>\n",
              "    <tr style=\"text-align: right;\">\n",
              "      <th></th>\n",
              "      <th>0</th>\n",
              "      <th>1</th>\n",
              "      <th>2</th>\n",
              "      <th>3</th>\n",
              "      <th>4</th>\n",
              "    </tr>\n",
              "  </thead>\n",
              "  <tbody>\n",
              "    <tr>\n",
              "      <th>fit_time</th>\n",
              "      <td>2.529915</td>\n",
              "      <td>2.468502</td>\n",
              "      <td>2.644969</td>\n",
              "      <td>2.541056</td>\n",
              "      <td>1.806102</td>\n",
              "    </tr>\n",
              "    <tr>\n",
              "      <th>score_time</th>\n",
              "      <td>0.029297</td>\n",
              "      <td>0.027784</td>\n",
              "      <td>0.028873</td>\n",
              "      <td>0.030447</td>\n",
              "      <td>0.018159</td>\n",
              "    </tr>\n",
              "    <tr>\n",
              "      <th>estimator</th>\n",
              "      <td>DecisionTreeClassifier(max_depth=10, random_st...</td>\n",
              "      <td>DecisionTreeClassifier(max_depth=10, random_st...</td>\n",
              "      <td>DecisionTreeClassifier(max_depth=10, random_st...</td>\n",
              "      <td>DecisionTreeClassifier(max_depth=10, random_st...</td>\n",
              "      <td>DecisionTreeClassifier(max_depth=10, random_st...</td>\n",
              "    </tr>\n",
              "    <tr>\n",
              "      <th>test_accuracy</th>\n",
              "      <td>0.658207</td>\n",
              "      <td>0.674249</td>\n",
              "      <td>0.666587</td>\n",
              "      <td>0.672573</td>\n",
              "      <td>0.677323</td>\n",
              "    </tr>\n",
              "    <tr>\n",
              "      <th>train_accuracy</th>\n",
              "      <td>0.775254</td>\n",
              "      <td>0.774924</td>\n",
              "      <td>0.777319</td>\n",
              "      <td>0.778935</td>\n",
              "      <td>0.780887</td>\n",
              "    </tr>\n",
              "    <tr>\n",
              "      <th>test_f1</th>\n",
              "      <td>0.669828</td>\n",
              "      <td>0.675415</td>\n",
              "      <td>0.670141</td>\n",
              "      <td>0.675909</td>\n",
              "      <td>0.686373</td>\n",
              "    </tr>\n",
              "    <tr>\n",
              "      <th>train_f1</th>\n",
              "      <td>0.779231</td>\n",
              "      <td>0.776377</td>\n",
              "      <td>0.777618</td>\n",
              "      <td>0.779378</td>\n",
              "      <td>0.783229</td>\n",
              "    </tr>\n",
              "    <tr>\n",
              "      <th>test_precision</th>\n",
              "      <td>0.64773</td>\n",
              "      <td>0.672926</td>\n",
              "      <td>0.66315</td>\n",
              "      <td>0.669169</td>\n",
              "      <td>0.667648</td>\n",
              "    </tr>\n",
              "    <tr>\n",
              "      <th>train_precision</th>\n",
              "      <td>0.765702</td>\n",
              "      <td>0.771422</td>\n",
              "      <td>0.776551</td>\n",
              "      <td>0.777798</td>\n",
              "      <td>0.774946</td>\n",
              "    </tr>\n",
              "    <tr>\n",
              "      <th>test_recall</th>\n",
              "      <td>0.693487</td>\n",
              "      <td>0.677921</td>\n",
              "      <td>0.67728</td>\n",
              "      <td>0.682787</td>\n",
              "      <td>0.706178</td>\n",
              "    </tr>\n",
              "    <tr>\n",
              "      <th>train_recall</th>\n",
              "      <td>0.793248</td>\n",
              "      <td>0.781396</td>\n",
              "      <td>0.778689</td>\n",
              "      <td>0.780964</td>\n",
              "      <td>0.791692</td>\n",
              "    </tr>\n",
              "  </tbody>\n",
              "</table>\n",
              "</div>\n",
              "      <button class=\"colab-df-convert\" onclick=\"convertToInteractive('df-68281195-2a77-4b50-85ac-291fc659e0d8')\"\n",
              "              title=\"Convert this dataframe to an interactive table.\"\n",
              "              style=\"display:none;\">\n",
              "        \n",
              "  <svg xmlns=\"http://www.w3.org/2000/svg\" height=\"24px\"viewBox=\"0 0 24 24\"\n",
              "       width=\"24px\">\n",
              "    <path d=\"M0 0h24v24H0V0z\" fill=\"none\"/>\n",
              "    <path d=\"M18.56 5.44l.94 2.06.94-2.06 2.06-.94-2.06-.94-.94-2.06-.94 2.06-2.06.94zm-11 1L8.5 8.5l.94-2.06 2.06-.94-2.06-.94L8.5 2.5l-.94 2.06-2.06.94zm10 10l.94 2.06.94-2.06 2.06-.94-2.06-.94-.94-2.06-.94 2.06-2.06.94z\"/><path d=\"M17.41 7.96l-1.37-1.37c-.4-.4-.92-.59-1.43-.59-.52 0-1.04.2-1.43.59L10.3 9.45l-7.72 7.72c-.78.78-.78 2.05 0 2.83L4 21.41c.39.39.9.59 1.41.59.51 0 1.02-.2 1.41-.59l7.78-7.78 2.81-2.81c.8-.78.8-2.07 0-2.86zM5.41 20L4 18.59l7.72-7.72 1.47 1.35L5.41 20z\"/>\n",
              "  </svg>\n",
              "      </button>\n",
              "      \n",
              "  <style>\n",
              "    .colab-df-container {\n",
              "      display:flex;\n",
              "      flex-wrap:wrap;\n",
              "      gap: 12px;\n",
              "    }\n",
              "\n",
              "    .colab-df-convert {\n",
              "      background-color: #E8F0FE;\n",
              "      border: none;\n",
              "      border-radius: 50%;\n",
              "      cursor: pointer;\n",
              "      display: none;\n",
              "      fill: #1967D2;\n",
              "      height: 32px;\n",
              "      padding: 0 0 0 0;\n",
              "      width: 32px;\n",
              "    }\n",
              "\n",
              "    .colab-df-convert:hover {\n",
              "      background-color: #E2EBFA;\n",
              "      box-shadow: 0px 1px 2px rgba(60, 64, 67, 0.3), 0px 1px 3px 1px rgba(60, 64, 67, 0.15);\n",
              "      fill: #174EA6;\n",
              "    }\n",
              "\n",
              "    [theme=dark] .colab-df-convert {\n",
              "      background-color: #3B4455;\n",
              "      fill: #D2E3FC;\n",
              "    }\n",
              "\n",
              "    [theme=dark] .colab-df-convert:hover {\n",
              "      background-color: #434B5C;\n",
              "      box-shadow: 0px 1px 3px 1px rgba(0, 0, 0, 0.15);\n",
              "      filter: drop-shadow(0px 1px 2px rgba(0, 0, 0, 0.3));\n",
              "      fill: #FFFFFF;\n",
              "    }\n",
              "  </style>\n",
              "\n",
              "      <script>\n",
              "        const buttonEl =\n",
              "          document.querySelector('#df-68281195-2a77-4b50-85ac-291fc659e0d8 button.colab-df-convert');\n",
              "        buttonEl.style.display =\n",
              "          google.colab.kernel.accessAllowed ? 'block' : 'none';\n",
              "\n",
              "        async function convertToInteractive(key) {\n",
              "          const element = document.querySelector('#df-68281195-2a77-4b50-85ac-291fc659e0d8');\n",
              "          const dataTable =\n",
              "            await google.colab.kernel.invokeFunction('convertToInteractive',\n",
              "                                                     [key], {});\n",
              "          if (!dataTable) return;\n",
              "\n",
              "          const docLinkHtml = 'Like what you see? Visit the ' +\n",
              "            '<a target=\"_blank\" href=https://colab.research.google.com/notebooks/data_table.ipynb>data table notebook</a>'\n",
              "            + ' to learn more about interactive tables.';\n",
              "          element.innerHTML = '';\n",
              "          dataTable['output_type'] = 'display_data';\n",
              "          await google.colab.output.renderOutput(dataTable, element);\n",
              "          const docLink = document.createElement('div');\n",
              "          docLink.innerHTML = docLinkHtml;\n",
              "          element.appendChild(docLink);\n",
              "        }\n",
              "      </script>\n",
              "    </div>\n",
              "  </div>\n",
              "  "
            ]
          },
          "metadata": {}
        }
      ]
    },
    {
      "cell_type": "code",
      "source": [
        "y_b_pred = cv_scores['estimator'][4].predict(X_b_first)\n",
        "print(classification_report(y_b_first, y_pred_b))"
      ],
      "metadata": {
        "colab": {
          "base_uri": "https://localhost:8080/"
        },
        "id": "4XID9F__PHLs",
        "outputId": "c89e24fa-64f0-45b9-ca92-98bf212c4ffc"
      },
      "execution_count": null,
      "outputs": [
        {
          "output_type": "stream",
          "name": "stdout",
          "text": [
            "              precision    recall  f1-score   support\n",
            "\n",
            "         0.0       0.78      0.73      0.76     20882\n",
            "         1.0       0.75      0.80      0.77     20882\n",
            "\n",
            "    accuracy                           0.77     41764\n",
            "   macro avg       0.77      0.77      0.76     41764\n",
            "weighted avg       0.77      0.77      0.76     41764\n",
            "\n"
          ]
        }
      ]
    },
    {
      "cell_type": "code",
      "source": [
        "plot_confusion_matrix(cv_scores['estimator'][4], X_b_first, y_b_first)\n",
        "plt.savefig('/content/drive/Shareddrives/MSc Ciencia Datos/proyectointegrador/Images/matConf_DecTr_balanced_first.png')\n",
        "plt.show()"
      ],
      "metadata": {
        "colab": {
          "base_uri": "https://localhost:8080/",
          "height": 285
        },
        "id": "YxIfH66tPcSE",
        "outputId": "9e38fc5d-fa2f-44e3-9919-f795cac17d42"
      },
      "execution_count": null,
      "outputs": [
        {
          "output_type": "display_data",
          "data": {
            "text/plain": [
              "<Figure size 432x288 with 2 Axes>"
            ],
            "image/png": "[encoded data removed]"
          },
          "metadata": {
            "needs_background": "light"
          }
        }
      ]
    },
    {
      "cell_type": "markdown",
      "source": [
        "### Chequeando sensibilidad con la profundidad:"
      ],
      "metadata": {
        "id": "aZw1r6XwSY4e"
      }
    },
    {
      "cell_type": "code",
      "source": [
        "max_depth = 40\n",
        "precision_1_scores_train = []\n",
        "recall_1_scores_train = []\n",
        "precision_1_scores_test = []\n",
        "recall_1_scores_test = []\n",
        "\n",
        "idx_0 = np.random.choice(full_idx_0, size = size_1)\n",
        "X_0 = X_[idx_0, :]\n",
        "y_0 = y[idx_0]\n",
        "\n",
        "X_b = np.append(X_0, X_1, axis = 0)\n",
        "y_b = np.append(y_0, y_1, axis = 0)\n",
        "\n",
        "for depth in range(2, max_depth + 1):\n",
        "\n",
        "    tree_classifier = DecisionTreeClassifier(max_depth = depth, random_state = 0)\n",
        "    X_train, X_test, y_train, y_test = train_test_split(\n",
        "        X_b, y_b, test_size = 0.25, random_state = 0\n",
        "    )\n",
        "    tree_classifier.fit(X_train, y_train)\n",
        "    y_train_pred = tree_classifier.predict(X_train)\n",
        "    y_test_pred = tree_classifier.predict(X_test)\n",
        "\n",
        "    recall_train = recall_score(y_train, y_train_pred, average = 'binary', pos_label = 1)\n",
        "    recall_test = recall_score(y_test, y_test_pred, average = 'binary', pos_label = 1)\n",
        "    recall_1_scores_train.append(recall_train)\n",
        "    recall_1_scores_test.append(recall_test)\n",
        "\n",
        "    precision_train = precision_score(y_train, y_train_pred, average = 'binary', pos_label = 1)\n",
        "    precision_test = precision_score(y_test, y_test_pred, average = 'binary', pos_label = 1)\n",
        "    precision_1_scores_train.append(precision_train)\n",
        "    precision_1_scores_test.append(precision_test)\n"
      ],
      "metadata": {
        "id": "6EKndRYRSbv5"
      },
      "execution_count": null,
      "outputs": []
    },
    {
      "cell_type": "code",
      "source": [
        "plt.figure(figsize = (10, 5))\n",
        "plt.plot(recall_1_scores_train, marker = 'o', color = 'lightblue', label = 'Train')\n",
        "plt.plot(recall_1_scores_test, marker = 'o', color = 'green', label = 'Test')\n",
        "plt.title('Recall Score')\n",
        "plt.xlabel('Max Depth')\n",
        "plt.legend()\n",
        "plt.savefig('/content/drive/Shareddrives/MSc Ciencia Datos/proyectointegrador/Images/Recall_DecTr_depth.png')\n",
        "plt.show()\n",
        "\n",
        "plt.figure(figsize = (10, 5))\n",
        "plt.plot(precision_1_scores_train, marker = 'o', color = 'lightblue', label = 'Train')\n",
        "plt.plot(precision_1_scores_test, marker = 'o', color = 'green', label = 'Test')\n",
        "plt.title('Precision Score')\n",
        "plt.xlabel('Max Depth')\n",
        "plt.legend()\n",
        "plt.savefig('/content/drive/Shareddrives/MSc Ciencia Datos/proyectointegrador/Images/Precision_DecTr_depth.png')\n",
        "plt.show()"
      ],
      "metadata": {
        "colab": {
          "base_uri": "https://localhost:8080/",
          "height": 693
        },
        "id": "nsGFHbFIVT3r",
        "outputId": "1f8eb061-d37e-4397-d0a2-52744dbf6481"
      },
      "execution_count": null,
      "outputs": [
        {
          "output_type": "display_data",
          "data": {
            "text/plain": [
              "<Figure size 720x360 with 1 Axes>"
            ],
            "image/png": "[encoded data removed]"
          },
          "metadata": {
            "needs_background": "light"
          }
        },
        {
          "output_type": "display_data",
          "data": {
            "text/plain": [
              "<Figure size 720x360 with 1 Axes>"
            ],
            "image/png": "[encoded data removed]"
          },
          "metadata": {
            "needs_background": "light"
          }
        }
      ]
    },
    {
      "cell_type": "markdown",
      "source": [
        "### Macro Cross Validation"
      ],
      "metadata": {
        "id": "_AzW5uOFZbqq"
      }
    },
    {
      "cell_type": "code",
      "source": [
        "count_folds = data_w_o_outliers['TARGET'].value_counts()[0] / data_w_o_outliers['TARGET'].value_counts()[1]\n",
        "count_folds"
      ],
      "metadata": {
        "colab": {
          "base_uri": "https://localhost:8080/"
        },
        "id": "fC7YCV-GZwqP",
        "outputId": "c8ef4df6-1255-449f-f812-9f30e3cf46c8"
      },
      "execution_count": null,
      "outputs": [
        {
          "output_type": "execute_result",
          "data": {
            "text/plain": [
              "11.508188870797817"
            ]
          },
          "metadata": {},
          "execution_count": 35
        }
      ]
    },
    {
      "cell_type": "code",
      "source": [
        "full_idx_0 = data_w_o_outliers[data_w_o_outliers['TARGET'] == 0].index\n",
        "size_fold = int(len(data_w_o_outliers) / 12)\n",
        "precision_1_scores_train = []\n",
        "recall_1_scores_train = []\n",
        "precision_1_scores_test = []\n",
        "recall_1_scores_test = []\n",
        "\n",
        "for fold in range(11):\n",
        "    idx_0 = np.random.choice(np.array(full_idx_0), size = size_fold, replace = False)\n",
        "    full_idx_0 = np.array(\n",
        "        [x for x in full_idx_0 if x not in idx_0]\n",
        "    )\n",
        "\n",
        "    X_0 = X_[idx_0, :]\n",
        "    y_0 = y[idx_0]\n",
        "\n",
        "    X_b = np.append(X_0, X_1, axis = 0)\n",
        "    y_b = np.append(y_0, y_1, axis = 0)\n",
        "\n",
        "    tree_classifier = DecisionTreeClassifier(max_depth = 10, random_state = 0)\n",
        "    X_train, X_test, y_train, y_test = train_test_split(\n",
        "        X_b, y_b, test_size = 0.25, random_state = 0\n",
        "    )\n",
        "    tree_classifier.fit(X_train, y_train)\n",
        "    y_train_pred = tree_classifier.predict(X_train)\n",
        "    y_test_pred = tree_classifier.predict(X_test)\n",
        "\n",
        "    recall_train = recall_score(y_train, y_train_pred, average = 'binary', pos_label = 1)\n",
        "    recall_test = recall_score(y_test, y_test_pred, average = 'binary', pos_label = 1)\n",
        "    recall_1_scores_train.append(recall_train)\n",
        "    recall_1_scores_test.append(recall_test)\n",
        "\n",
        "    precision_train = precision_score(y_train, y_train_pred, average = 'binary', pos_label = 1)\n",
        "    precision_test = precision_score(y_test, y_test_pred, average = 'binary', pos_label = 1)\n",
        "    precision_1_scores_train.append(precision_train)\n",
        "    precision_1_scores_test.append(precision_test)"
      ],
      "metadata": {
        "id": "nNxyzlmXaR0h"
      },
      "execution_count": null,
      "outputs": []
    },
    {
      "cell_type": "code",
      "source": [
        "plt.figure(figsize = (10, 5))\n",
        "plt.plot(recall_1_scores_train, marker = 'o', color = 'lightblue', label = 'Train')\n",
        "plt.plot(recall_1_scores_test, marker = 'o', color = 'green', label = 'Test')\n",
        "plt.title('Recall Score')\n",
        "plt.xlabel('Train set')\n",
        "plt.legend()\n",
        "plt.savefig('/content/drive/Shareddrives/MSc Ciencia Datos/proyectointegrador/Images/Recall_DecTr_dataselection.png')\n",
        "plt.show()\n",
        "\n",
        "plt.figure(figsize = (10, 5))\n",
        "plt.plot(precision_1_scores_train, marker = 'o', color = 'lightblue', label = 'Train')\n",
        "plt.plot(precision_1_scores_test, marker = 'o', color = 'green', label = 'Test')\n",
        "plt.title('Precision Score')\n",
        "plt.xlabel('Train set')\n",
        "plt.legend()\n",
        "plt.savefig('/content/drive/Shareddrives/MSc Ciencia Datos/proyectointegrador/Images/Precision_DecTr_dataselection.png')\n",
        "plt.show()"
      ],
      "metadata": {
        "colab": {
          "base_uri": "https://localhost:8080/",
          "height": 693
        },
        "id": "RItHaLbMfsnN",
        "outputId": "afddfdd6-45a0-46fc-efa0-3a6900b23710"
      },
      "execution_count": null,
      "outputs": [
        {
          "output_type": "display_data",
          "data": {
            "text/plain": [
              "<Figure size 720x360 with 1 Axes>"
            ],
            "image/png": "[encoded data removed]"
          },
          "metadata": {
            "needs_background": "light"
          }
        },
        {
          "output_type": "display_data",
          "data": {
            "text/plain": [
              "<Figure size 720x360 with 1 Axes>"
            ],
            "image/png": "[encoded data removed]"
          },
          "metadata": {
            "needs_background": "light"
          }
        }
      ]
    },
    {
      "cell_type": "markdown",
      "source": [
        "## **Segundo Clasificador:**"
      ],
      "metadata": {
        "id": "ZOSwTSnJDQjR"
      }
    },
    {
      "cell_type": "markdown",
      "source": [
        "### Regresión logistica - Usando todo el data set (Desbalanceado)"
      ],
      "metadata": {
        "id": "BnWtCUAIGzJF"
      }
    },
    {
      "cell_type": "code",
      "source": [
        "## Regresion logistica"
      ],
      "metadata": {
        "id": "h8q4tN0uBUON"
      },
      "execution_count": null,
      "outputs": []
    },
    {
      "cell_type": "code",
      "source": [
        "clf = LogisticRegression(random_state=0).fit(X_, y)"
      ],
      "metadata": {
        "id": "imCmxTlSCJYF"
      },
      "execution_count": null,
      "outputs": []
    },
    {
      "cell_type": "code",
      "source": [
        "clf.score(X_, y)"
      ],
      "metadata": {
        "colab": {
          "base_uri": "https://localhost:8080/"
        },
        "id": "6dW2_jn2CRFx",
        "outputId": "d03bfc58-c2a9-404a-a605-42893f0cdc46"
      },
      "execution_count": null,
      "outputs": [
        {
          "output_type": "execute_result",
          "data": {
            "text/plain": [
              "0.9197537481431569"
            ]
          },
          "metadata": {},
          "execution_count": 40
        }
      ]
    },
    {
      "cell_type": "code",
      "source": [
        "plot_confusion_matrix(clf, X_, y)\n",
        "plt.savefig('/content/drive/Shareddrives/MSc Ciencia Datos/proyectointegrador/Images/matConf_RegLog_AllData.png')\n",
        "plt.show()"
      ],
      "metadata": {
        "colab": {
          "base_uri": "https://localhost:8080/",
          "height": 285
        },
        "id": "JIKwlTLpENiO",
        "outputId": "0ec42aa5-b647-4e56-f846-6c15ae6ab78d"
      },
      "execution_count": null,
      "outputs": [
        {
          "output_type": "display_data",
          "data": {
            "text/plain": [
              "<Figure size 432x288 with 2 Axes>"
            ],
            "image/png": "[encoded data removed]"
          },
          "metadata": {
            "needs_background": "light"
          }
        }
      ]
    },
    {
      "cell_type": "code",
      "source": [
        "print(classification_report(y, clf.predict(X_)))"
      ],
      "metadata": {
        "colab": {
          "base_uri": "https://localhost:8080/"
        },
        "id": "k_yap7LkCtMq",
        "outputId": "7874a6f9-bd24-4615-e7cd-17861eb9e410"
      },
      "execution_count": null,
      "outputs": [
        {
          "output_type": "stream",
          "name": "stdout",
          "text": [
            "              precision    recall  f1-score   support\n",
            "\n",
            "         0.0       0.92      1.00      0.96    240314\n",
            "         1.0       0.46      0.02      0.04     20882\n",
            "\n",
            "    accuracy                           0.92    261196\n",
            "   macro avg       0.69      0.51      0.50    261196\n",
            "weighted avg       0.88      0.92      0.88    261196\n",
            "\n"
          ]
        }
      ]
    },
    {
      "cell_type": "markdown",
      "source": [
        "### Regresion Logistica Balanceando el target aleatoriamente - un sólo slice"
      ],
      "metadata": {
        "id": "yCA0E8SDFGUu"
      }
    },
    {
      "cell_type": "code",
      "source": [
        "clf_b = LogisticRegression(random_state=0).fit(X_b, y_b)"
      ],
      "metadata": {
        "id": "CcJktPBTFTCn"
      },
      "execution_count": null,
      "outputs": []
    },
    {
      "cell_type": "code",
      "source": [
        "clf_b.score(X_b, y_b)"
      ],
      "metadata": {
        "colab": {
          "base_uri": "https://localhost:8080/"
        },
        "id": "Ya9ei-jNFZP9",
        "outputId": "231ca14d-e94b-48e5-c93e-f9a21805535d"
      },
      "execution_count": null,
      "outputs": [
        {
          "output_type": "execute_result",
          "data": {
            "text/plain": [
              "0.706176139561058"
            ]
          },
          "metadata": {},
          "execution_count": 44
        }
      ]
    },
    {
      "cell_type": "code",
      "source": [
        "plot_confusion_matrix(clf_b,X_b, y_b)\n",
        "plt.savefig('/content/drive/Shareddrives/MSc Ciencia Datos/proyectointegrador/Images/matConf_RegLog_balanced_random.png')\n",
        "plt.show()"
      ],
      "metadata": {
        "colab": {
          "base_uri": "https://localhost:8080/",
          "height": 285
        },
        "id": "nQyAIZLdFjfH",
        "outputId": "5a235811-074e-4ccb-98c2-a19b8fa744fa"
      },
      "execution_count": null,
      "outputs": [
        {
          "output_type": "display_data",
          "data": {
            "text/plain": [
              "<Figure size 432x288 with 2 Axes>"
            ],
            "image/png": "[encoded data removed]"
          },
          "metadata": {
            "needs_background": "light"
          }
        }
      ]
    },
    {
      "cell_type": "code",
      "source": [
        "print(classification_report(y_b, clf_b.predict(X_b)))"
      ],
      "metadata": {
        "colab": {
          "base_uri": "https://localhost:8080/"
        },
        "id": "Tet9xOpbFpIU",
        "outputId": "bdcc12ba-3991-4dff-da3e-51043993af7e"
      },
      "execution_count": null,
      "outputs": [
        {
          "output_type": "stream",
          "name": "stdout",
          "text": [
            "              precision    recall  f1-score   support\n",
            "\n",
            "         0.0       0.71      0.72      0.71     21766\n",
            "         1.0       0.70      0.69      0.70     20882\n",
            "\n",
            "    accuracy                           0.71     42648\n",
            "   macro avg       0.71      0.71      0.71     42648\n",
            "weighted avg       0.71      0.71      0.71     42648\n",
            "\n"
          ]
        }
      ]
    },
    {
      "cell_type": "code",
      "source": [
        "reglog_n_random = LogisticRegression(random_state = 0)\n",
        "cv_scores = metrics_CV_classifier(reglog_n_random, X_b_first, y_b_first, 5)"
      ],
      "metadata": {
        "colab": {
          "base_uri": "https://localhost:8080/",
          "height": 464
        },
        "id": "UluCu5gBQjr2",
        "outputId": "c7e4f66f-004b-4623-90af-8b07fe0f6c22"
      },
      "execution_count": null,
      "outputs": [
        {
          "output_type": "stream",
          "name": "stdout",
          "text": [
            "F1 score medio en Train: 0.71\n",
            "F1 score medio en Test: 0.71\n",
            "Precision obtenido en train: 0.71\n",
            "Precision obtenido en test: 0.71\n"
          ]
        },
        {
          "output_type": "display_data",
          "data": {
            "text/plain": [
              "                                                  0  \\\n",
              "fit_time                                   0.163061   \n",
              "score_time                                   0.0284   \n",
              "estimator        LogisticRegression(random_state=0)   \n",
              "test_accuracy                              0.702143   \n",
              "train_accuracy                             0.709946   \n",
              "test_f1                                    0.699734   \n",
              "train_f1                                    0.70862   \n",
              "test_precision                             0.705353   \n",
              "train_precision                            0.711895   \n",
              "test_recall                                0.694205   \n",
              "train_recall                               0.705375   \n",
              "\n",
              "                                                  1  \\\n",
              "fit_time                                    0.17234   \n",
              "score_time                                 0.027116   \n",
              "estimator        LogisticRegression(random_state=0)   \n",
              "test_accuracy                              0.715072   \n",
              "train_accuracy                             0.708958   \n",
              "test_f1                                    0.714354   \n",
              "train_f1                                   0.707848   \n",
              "test_precision                             0.716073   \n",
              "train_precision                             0.71058   \n",
              "test_recall                                0.712644   \n",
              "train_recall                               0.705136   \n",
              "\n",
              "                                                  2  \\\n",
              "fit_time                                   0.172289   \n",
              "score_time                                 0.026685   \n",
              "estimator        LogisticRegression(random_state=0)   \n",
              "test_accuracy                              0.699749   \n",
              "train_accuracy                              0.71225   \n",
              "test_f1                                    0.701286   \n",
              "train_f1                                   0.710788   \n",
              "test_precision                             0.697796   \n",
              "train_precision                            0.714398   \n",
              "test_recall                                0.704812   \n",
              "train_recall                               0.707213   \n",
              "\n",
              "                                                  3  \\\n",
              "fit_time                                   0.148024   \n",
              "score_time                                 0.027771   \n",
              "estimator        LogisticRegression(random_state=0)   \n",
              "test_accuracy                              0.713995   \n",
              "train_accuracy                             0.707911   \n",
              "test_f1                                    0.710319   \n",
              "train_f1                                   0.706364   \n",
              "test_precision                             0.719656   \n",
              "train_precision                            0.710103   \n",
              "test_recall                                0.701221   \n",
              "train_recall                               0.702664   \n",
              "\n",
              "                                                  4  \n",
              "fit_time                                    0.10496  \n",
              "score_time                                 0.016476  \n",
              "estimator        LogisticRegression(random_state=0)  \n",
              "test_accuracy                              0.715517  \n",
              "train_accuracy                             0.708608  \n",
              "test_f1                                    0.714217  \n",
              "train_f1                                   0.707382  \n",
              "test_precision                             0.717496  \n",
              "train_precision                            0.710371  \n",
              "test_recall                                0.710967  \n",
              "train_recall                               0.704418  "
            ],
            "text/html": [
              "\n",
              "  <div id=\"df-a3a1c0ff-a25f-413e-a44b-310b4596443f\">\n",
              "    <div class=\"colab-df-container\">\n",
              "      <div>\n",
              "<style scoped>\n",
              "    .dataframe tbody tr th:only-of-type {\n",
              "        vertical-align: middle;\n",
              "    }\n",
              "\n",
              "    .dataframe tbody tr th {\n",
              "        vertical-align: top;\n",
              "    }\n",
              "\n",
              "    .dataframe thead th {\n",
              "        text-align: right;\n",
              "    }\n",
              "</style>\n",
              "<table border=\"1\" class=\"dataframe\">\n",
              "  <thead>\n",
              "    <tr style=\"text-align: right;\">\n",
              "      <th></th>\n",
              "      <th>0</th>\n",
              "      <th>1</th>\n",
              "      <th>2</th>\n",
              "      <th>3</th>\n",
              "      <th>4</th>\n",
              "    </tr>\n",
              "  </thead>\n",
              "  <tbody>\n",
              "    <tr>\n",
              "      <th>fit_time</th>\n",
              "      <td>0.163061</td>\n",
              "      <td>0.17234</td>\n",
              "      <td>0.172289</td>\n",
              "      <td>0.148024</td>\n",
              "      <td>0.10496</td>\n",
              "    </tr>\n",
              "    <tr>\n",
              "      <th>score_time</th>\n",
              "      <td>0.0284</td>\n",
              "      <td>0.027116</td>\n",
              "      <td>0.026685</td>\n",
              "      <td>0.027771</td>\n",
              "      <td>0.016476</td>\n",
              "    </tr>\n",
              "    <tr>\n",
              "      <th>estimator</th>\n",
              "      <td>LogisticRegression(random_state=0)</td>\n",
              "      <td>LogisticRegression(random_state=0)</td>\n",
              "      <td>LogisticRegression(random_state=0)</td>\n",
              "      <td>LogisticRegression(random_state=0)</td>\n",
              "      <td>LogisticRegression(random_state=0)</td>\n",
              "    </tr>\n",
              "    <tr>\n",
              "      <th>test_accuracy</th>\n",
              "      <td>0.702143</td>\n",
              "      <td>0.715072</td>\n",
              "      <td>0.699749</td>\n",
              "      <td>0.713995</td>\n",
              "      <td>0.715517</td>\n",
              "    </tr>\n",
              "    <tr>\n",
              "      <th>train_accuracy</th>\n",
              "      <td>0.709946</td>\n",
              "      <td>0.708958</td>\n",
              "      <td>0.71225</td>\n",
              "      <td>0.707911</td>\n",
              "      <td>0.708608</td>\n",
              "    </tr>\n",
              "    <tr>\n",
              "      <th>test_f1</th>\n",
              "      <td>0.699734</td>\n",
              "      <td>0.714354</td>\n",
              "      <td>0.701286</td>\n",
              "      <td>0.710319</td>\n",
              "      <td>0.714217</td>\n",
              "    </tr>\n",
              "    <tr>\n",
              "      <th>train_f1</th>\n",
              "      <td>0.70862</td>\n",
              "      <td>0.707848</td>\n",
              "      <td>0.710788</td>\n",
              "      <td>0.706364</td>\n",
              "      <td>0.707382</td>\n",
              "    </tr>\n",
              "    <tr>\n",
              "      <th>test_precision</th>\n",
              "      <td>0.705353</td>\n",
              "      <td>0.716073</td>\n",
              "      <td>0.697796</td>\n",
              "      <td>0.719656</td>\n",
              "      <td>0.717496</td>\n",
              "    </tr>\n",
              "    <tr>\n",
              "      <th>train_precision</th>\n",
              "      <td>0.711895</td>\n",
              "      <td>0.71058</td>\n",
              "      <td>0.714398</td>\n",
              "      <td>0.710103</td>\n",
              "      <td>0.710371</td>\n",
              "    </tr>\n",
              "    <tr>\n",
              "      <th>test_recall</th>\n",
              "      <td>0.694205</td>\n",
              "      <td>0.712644</td>\n",
              "      <td>0.704812</td>\n",
              "      <td>0.701221</td>\n",
              "      <td>0.710967</td>\n",
              "    </tr>\n",
              "    <tr>\n",
              "      <th>train_recall</th>\n",
              "      <td>0.705375</td>\n",
              "      <td>0.705136</td>\n",
              "      <td>0.707213</td>\n",
              "      <td>0.702664</td>\n",
              "      <td>0.704418</td>\n",
              "    </tr>\n",
              "  </tbody>\n",
              "</table>\n",
              "</div>\n",
              "      <button class=\"colab-df-convert\" onclick=\"convertToInteractive('df-a3a1c0ff-a25f-413e-a44b-310b4596443f')\"\n",
              "              title=\"Convert this dataframe to an interactive table.\"\n",
              "              style=\"display:none;\">\n",
              "        \n",
              "  <svg xmlns=\"http://www.w3.org/2000/svg\" height=\"24px\"viewBox=\"0 0 24 24\"\n",
              "       width=\"24px\">\n",
              "    <path d=\"M0 0h24v24H0V0z\" fill=\"none\"/>\n",
              "    <path d=\"M18.56 5.44l.94 2.06.94-2.06 2.06-.94-2.06-.94-.94-2.06-.94 2.06-2.06.94zm-11 1L8.5 8.5l.94-2.06 2.06-.94-2.06-.94L8.5 2.5l-.94 2.06-2.06.94zm10 10l.94 2.06.94-2.06 2.06-.94-2.06-.94-.94-2.06-.94 2.06-2.06.94z\"/><path d=\"M17.41 7.96l-1.37-1.37c-.4-.4-.92-.59-1.43-.59-.52 0-1.04.2-1.43.59L10.3 9.45l-7.72 7.72c-.78.78-.78 2.05 0 2.83L4 21.41c.39.39.9.59 1.41.59.51 0 1.02-.2 1.41-.59l7.78-7.78 2.81-2.81c.8-.78.8-2.07 0-2.86zM5.41 20L4 18.59l7.72-7.72 1.47 1.35L5.41 20z\"/>\n",
              "  </svg>\n",
              "      </button>\n",
              "      \n",
              "  <style>\n",
              "    .colab-df-container {\n",
              "      display:flex;\n",
              "      flex-wrap:wrap;\n",
              "      gap: 12px;\n",
              "    }\n",
              "\n",
              "    .colab-df-convert {\n",
              "      background-color: #E8F0FE;\n",
              "      border: none;\n",
              "      border-radius: 50%;\n",
              "      cursor: pointer;\n",
              "      display: none;\n",
              "      fill: #1967D2;\n",
              "      height: 32px;\n",
              "      padding: 0 0 0 0;\n",
              "      width: 32px;\n",
              "    }\n",
              "\n",
              "    .colab-df-convert:hover {\n",
              "      background-color: #E2EBFA;\n",
              "      box-shadow: 0px 1px 2px rgba(60, 64, 67, 0.3), 0px 1px 3px 1px rgba(60, 64, 67, 0.15);\n",
              "      fill: #174EA6;\n",
              "    }\n",
              "\n",
              "    [theme=dark] .colab-df-convert {\n",
              "      background-color: #3B4455;\n",
              "      fill: #D2E3FC;\n",
              "    }\n",
              "\n",
              "    [theme=dark] .colab-df-convert:hover {\n",
              "      background-color: #434B5C;\n",
              "      box-shadow: 0px 1px 3px 1px rgba(0, 0, 0, 0.15);\n",
              "      filter: drop-shadow(0px 1px 2px rgba(0, 0, 0, 0.3));\n",
              "      fill: #FFFFFF;\n",
              "    }\n",
              "  </style>\n",
              "\n",
              "      <script>\n",
              "        const buttonEl =\n",
              "          document.querySelector('#df-a3a1c0ff-a25f-413e-a44b-310b4596443f button.colab-df-convert');\n",
              "        buttonEl.style.display =\n",
              "          google.colab.kernel.accessAllowed ? 'block' : 'none';\n",
              "\n",
              "        async function convertToInteractive(key) {\n",
              "          const element = document.querySelector('#df-a3a1c0ff-a25f-413e-a44b-310b4596443f');\n",
              "          const dataTable =\n",
              "            await google.colab.kernel.invokeFunction('convertToInteractive',\n",
              "                                                     [key], {});\n",
              "          if (!dataTable) return;\n",
              "\n",
              "          const docLinkHtml = 'Like what you see? Visit the ' +\n",
              "            '<a target=\"_blank\" href=https://colab.research.google.com/notebooks/data_table.ipynb>data table notebook</a>'\n",
              "            + ' to learn more about interactive tables.';\n",
              "          element.innerHTML = '';\n",
              "          dataTable['output_type'] = 'display_data';\n",
              "          await google.colab.output.renderOutput(dataTable, element);\n",
              "          const docLink = document.createElement('div');\n",
              "          docLink.innerHTML = docLinkHtml;\n",
              "          element.appendChild(docLink);\n",
              "        }\n",
              "      </script>\n",
              "    </div>\n",
              "  </div>\n",
              "  "
            ]
          },
          "metadata": {}
        }
      ]
    },
    {
      "cell_type": "code",
      "source": [
        "full_idx_0 = data_w_o_outliers[data_w_o_outliers['TARGET'] == 0].index\n",
        "size_fold = int(len(data_w_o_outliers) / 12)\n",
        "precision_1_scores_train = []\n",
        "recall_1_scores_train = []\n",
        "precision_1_scores_test = []\n",
        "recall_1_scores_test = []\n",
        "\n",
        "for fold in range(11):\n",
        "    idx_0 = np.random.choice(np.array(full_idx_0), size = size_fold, replace = False)\n",
        "    full_idx_0 = np.array(\n",
        "        [x for x in full_idx_0 if x not in idx_0]\n",
        "    )\n",
        "\n",
        "    X_0 = X_[idx_0, :]\n",
        "    y_0 = y[idx_0]\n",
        "\n",
        "    X_b = np.append(X_0, X_1, axis = 0)\n",
        "    y_b = np.append(y_0, y_1, axis = 0)\n",
        "\n",
        "    reg_logist_clf = LogisticRegression(random_state = 0)\n",
        "    X_train, X_test, y_train, y_test = train_test_split(\n",
        "        X_b, y_b, test_size = 0.25, random_state = 0\n",
        "    )\n",
        "    reg_logist_clf.fit(X_train, y_train)\n",
        "    y_train_pred = reg_logist_clf.predict(X_train)\n",
        "    y_test_pred = reg_logist_clf.predict(X_test)\n",
        "\n",
        "    recall_train = recall_score(y_train, y_train_pred, average = 'binary', pos_label = 1)\n",
        "    recall_test = recall_score(y_test, y_test_pred, average = 'binary', pos_label = 1)\n",
        "    recall_1_scores_train.append(recall_train)\n",
        "    recall_1_scores_test.append(recall_test)\n",
        "\n",
        "    precision_train = precision_score(y_train, y_train_pred, average = 'binary', pos_label = 1)\n",
        "    precision_test = precision_score(y_test, y_test_pred, average = 'binary', pos_label = 1)\n",
        "    precision_1_scores_train.append(precision_train)\n",
        "    precision_1_scores_test.append(precision_test)"
      ],
      "metadata": {
        "id": "pl0oIojPSm9d"
      },
      "execution_count": null,
      "outputs": []
    },
    {
      "cell_type": "code",
      "source": [
        "plt.figure(figsize = (10, 5))\n",
        "plt.plot(recall_1_scores_train, marker = 'o', color = 'lightblue', label = 'Train')\n",
        "plt.plot(recall_1_scores_test, marker = 'o', color = 'green', label = 'Test')\n",
        "plt.title('Recall Score')\n",
        "plt.xlabel('Train set')\n",
        "plt.legend()\n",
        "plt.savefig('/content/drive/Shareddrives/MSc Ciencia Datos/proyectointegrador/Images/Recall_LogReg_dataselection.png')\n",
        "plt.show()\n",
        "\n",
        "plt.figure(figsize = (10, 5))\n",
        "plt.plot(precision_1_scores_train, marker = 'o', color = 'lightblue', label = 'Train')\n",
        "plt.plot(precision_1_scores_test, marker = 'o', color = 'green', label = 'Test')\n",
        "plt.title('Precision Score')\n",
        "plt.xlabel('Train set')\n",
        "plt.legend()\n",
        "plt.savefig('/content/drive/Shareddrives/MSc Ciencia Datos/proyectointegrador/Images/Precision_LogReg_dataselection.png')\n",
        "plt.show()"
      ],
      "metadata": {
        "colab": {
          "base_uri": "https://localhost:8080/",
          "height": 693
        },
        "id": "yVxNEQzfSm9e",
        "outputId": "d5770550-d907-451b-95a5-9136b8528bb4"
      },
      "execution_count": null,
      "outputs": [
        {
          "output_type": "display_data",
          "data": {
            "text/plain": [
              "<Figure size 720x360 with 1 Axes>"
            ],
            "image/png": "[encoded data removed]"
          },
          "metadata": {
            "needs_background": "light"
          }
        },
        {
          "output_type": "display_data",
          "data": {
            "text/plain": [
              "<Figure size 720x360 with 1 Axes>"
            ],
            "image/png": "[encoded data removed]"
          },
          "metadata": {
            "needs_background": "light"
          }
        }
      ]
    },
    {
      "cell_type": "markdown",
      "source": [
        "## **Tercer clasificador:** Random Forest"
      ],
      "metadata": {
        "id": "emC7v-yIEzev"
      }
    },
    {
      "cell_type": "code",
      "source": [
        "random_forest_clf_b = RandomForestClassifier(\n",
        "    n_estimators = 25,\n",
        "    max_depth = 10,\n",
        "    random_state=0\n",
        ")\n",
        "random_forest_clf_b.fit(X_b, y_b)"
      ],
      "metadata": {
        "colab": {
          "base_uri": "https://localhost:8080/"
        },
        "id": "w3nSVUL8FB9w",
        "outputId": "ac1ee0be-1f1a-4c25-fd7b-0efaecf6679c"
      },
      "execution_count": null,
      "outputs": [
        {
          "output_type": "execute_result",
          "data": {
            "text/plain": [
              "RandomForestClassifier(max_depth=10, n_estimators=25, random_state=0)"
            ]
          },
          "metadata": {},
          "execution_count": 50
        }
      ]
    },
    {
      "cell_type": "code",
      "source": [
        "random_forest_clf_b.score(X_b, y_b)"
      ],
      "metadata": {
        "colab": {
          "base_uri": "https://localhost:8080/"
        },
        "outputId": "86dac8bd-e9c4-4bfd-8f70-fbe3348a9a63",
        "id": "4Ba2ZOTgFB9x"
      },
      "execution_count": null,
      "outputs": [
        {
          "output_type": "execute_result",
          "data": {
            "text/plain": [
              "0.8357953479647345"
            ]
          },
          "metadata": {},
          "execution_count": 51
        }
      ]
    },
    {
      "cell_type": "code",
      "source": [
        "plot_confusion_matrix(random_forest_clf_b, X_b, y_b)\n",
        "plt.savefig('/content/drive/Shareddrives/MSc Ciencia Datos/proyectointegrador/Images/matConf_rndForest_balanced_random.png')\n",
        "plt.show()"
      ],
      "metadata": {
        "colab": {
          "base_uri": "https://localhost:8080/",
          "height": 285
        },
        "outputId": "0b06fa6a-f3d3-4d16-b2d4-97685cb0ae5b",
        "id": "6mBHF-vMFB9x"
      },
      "execution_count": null,
      "outputs": [
        {
          "output_type": "display_data",
          "data": {
            "text/plain": [
              "<Figure size 432x288 with 2 Axes>"
            ],
            "image/png": "[encoded data removed]"
          },
          "metadata": {
            "needs_background": "light"
          }
        }
      ]
    },
    {
      "cell_type": "code",
      "source": [
        "print(classification_report(y_b, random_forest_clf_b.predict(X_b)))"
      ],
      "metadata": {
        "colab": {
          "base_uri": "https://localhost:8080/"
        },
        "outputId": "b86508e9-2107-49d3-8712-ef82de481643",
        "id": "vdaJnTdpFB9x"
      },
      "execution_count": null,
      "outputs": [
        {
          "output_type": "stream",
          "name": "stdout",
          "text": [
            "              precision    recall  f1-score   support\n",
            "\n",
            "         0.0       0.83      0.85      0.84     21766\n",
            "         1.0       0.84      0.82      0.83     20882\n",
            "\n",
            "    accuracy                           0.84     42648\n",
            "   macro avg       0.84      0.84      0.84     42648\n",
            "weighted avg       0.84      0.84      0.84     42648\n",
            "\n"
          ]
        }
      ]
    },
    {
      "cell_type": "code",
      "source": [
        "cv_scores = metrics_CV_classifier(model = random_forest_clf_b, X = X_b, y = y_b, cv = 5)"
      ],
      "metadata": {
        "colab": {
          "base_uri": "https://localhost:8080/",
          "height": 525
        },
        "outputId": "a17bc275-68ba-402d-9925-c19f38cff321",
        "id": "VkV9L9RJFB9x"
      },
      "execution_count": null,
      "outputs": [
        {
          "output_type": "stream",
          "name": "stdout",
          "text": [
            "F1 score medio en Train: 0.84\n",
            "F1 score medio en Test: 0.72\n",
            "Precision obtenido en train: 0.85\n",
            "Precision obtenido en test: 0.73\n"
          ]
        },
        {
          "output_type": "display_data",
          "data": {
            "text/plain": [
              "                                                                 0  \\\n",
              "fit_time                                                  6.683261   \n",
              "score_time                                                0.075105   \n",
              "estimator        (DecisionTreeClassifier(max_depth=10, max_feat...   \n",
              "test_accuracy                                             0.721805   \n",
              "train_accuracy                                            0.844129   \n",
              "test_f1                                                   0.712468   \n",
              "train_f1                                                  0.837896   \n",
              "test_precision                                            0.721118   \n",
              "train_precision                                           0.853665   \n",
              "test_recall                                               0.704023   \n",
              "train_recall                                              0.822698   \n",
              "\n",
              "                                                                 1  \\\n",
              "fit_time                                                   6.66662   \n",
              "score_time                                                0.075366   \n",
              "estimator        (DecisionTreeClassifier(max_depth=10, max_feat...   \n",
              "test_accuracy                                             0.729074   \n",
              "train_accuracy                                            0.843162   \n",
              "test_f1                                                   0.720522   \n",
              "train_f1                                                  0.837113   \n",
              "test_precision                                            0.728006   \n",
              "train_precision                                           0.851604   \n",
              "test_recall                                               0.713191   \n",
              "train_recall                                              0.823107   \n",
              "\n",
              "                                                                 2  \\\n",
              "fit_time                                                  6.380103   \n",
              "score_time                                                0.077082   \n",
              "estimator        (DecisionTreeClassifier(max_depth=10, max_feat...   \n",
              "test_accuracy                                             0.725674   \n",
              "train_accuracy                                             0.84539   \n",
              "test_f1                                                   0.716844   \n",
              "train_f1                                                  0.840446   \n",
              "test_precision                                            0.724737   \n",
              "train_precision                                           0.849413   \n",
              "test_recall                                               0.709121   \n",
              "train_recall                                              0.831667   \n",
              "\n",
              "                                                                 3  \\\n",
              "fit_time                                                  6.285881   \n",
              "score_time                                                0.076662   \n",
              "estimator        (DecisionTreeClassifier(max_depth=10, max_feat...   \n",
              "test_accuracy                                             0.731973   \n",
              "train_accuracy                                            0.842111   \n",
              "test_f1                                                    0.72311   \n",
              "train_f1                                                  0.836614   \n",
              "test_precision                                            0.731618   \n",
              "train_precision                                           0.847956   \n",
              "test_recall                                               0.714799   \n",
              "train_recall                                              0.825572   \n",
              "\n",
              "                                                                 4  \n",
              "fit_time                                                  4.756879  \n",
              "score_time                                                0.054921  \n",
              "estimator        (DecisionTreeClassifier(max_depth=10, max_feat...  \n",
              "test_accuracy                                             0.733966  \n",
              "train_accuracy                                             0.84173  \n",
              "test_f1                                                   0.727447  \n",
              "train_f1                                                  0.836185  \n",
              "test_precision                                            0.729814  \n",
              "train_precision                                           0.847706  \n",
              "test_recall                                               0.725096  \n",
              "train_recall                                              0.824973  "
            ],
            "text/html": [
              "\n",
              "  <div id=\"df-57644398-2a35-4898-a517-7ebb6ffa55b2\">\n",
              "    <div class=\"colab-df-container\">\n",
              "      <div>\n",
              "<style scoped>\n",
              "    .dataframe tbody tr th:only-of-type {\n",
              "        vertical-align: middle;\n",
              "    }\n",
              "\n",
              "    .dataframe tbody tr th {\n",
              "        vertical-align: top;\n",
              "    }\n",
              "\n",
              "    .dataframe thead th {\n",
              "        text-align: right;\n",
              "    }\n",
              "</style>\n",
              "<table border=\"1\" class=\"dataframe\">\n",
              "  <thead>\n",
              "    <tr style=\"text-align: right;\">\n",
              "      <th></th>\n",
              "      <th>0</th>\n",
              "      <th>1</th>\n",
              "      <th>2</th>\n",
              "      <th>3</th>\n",
              "      <th>4</th>\n",
              "    </tr>\n",
              "  </thead>\n",
              "  <tbody>\n",
              "    <tr>\n",
              "      <th>fit_time</th>\n",
              "      <td>6.683261</td>\n",
              "      <td>6.66662</td>\n",
              "      <td>6.380103</td>\n",
              "      <td>6.285881</td>\n",
              "      <td>4.756879</td>\n",
              "    </tr>\n",
              "    <tr>\n",
              "      <th>score_time</th>\n",
              "      <td>0.075105</td>\n",
              "      <td>0.075366</td>\n",
              "      <td>0.077082</td>\n",
              "      <td>0.076662</td>\n",
              "      <td>0.054921</td>\n",
              "    </tr>\n",
              "    <tr>\n",
              "      <th>estimator</th>\n",
              "      <td>(DecisionTreeClassifier(max_depth=10, max_feat...</td>\n",
              "      <td>(DecisionTreeClassifier(max_depth=10, max_feat...</td>\n",
              "      <td>(DecisionTreeClassifier(max_depth=10, max_feat...</td>\n",
              "      <td>(DecisionTreeClassifier(max_depth=10, max_feat...</td>\n",
              "      <td>(DecisionTreeClassifier(max_depth=10, max_feat...</td>\n",
              "    </tr>\n",
              "    <tr>\n",
              "      <th>test_accuracy</th>\n",
              "      <td>0.721805</td>\n",
              "      <td>0.729074</td>\n",
              "      <td>0.725674</td>\n",
              "      <td>0.731973</td>\n",
              "      <td>0.733966</td>\n",
              "    </tr>\n",
              "    <tr>\n",
              "      <th>train_accuracy</th>\n",
              "      <td>0.844129</td>\n",
              "      <td>0.843162</td>\n",
              "      <td>0.84539</td>\n",
              "      <td>0.842111</td>\n",
              "      <td>0.84173</td>\n",
              "    </tr>\n",
              "    <tr>\n",
              "      <th>test_f1</th>\n",
              "      <td>0.712468</td>\n",
              "      <td>0.720522</td>\n",
              "      <td>0.716844</td>\n",
              "      <td>0.72311</td>\n",
              "      <td>0.727447</td>\n",
              "    </tr>\n",
              "    <tr>\n",
              "      <th>train_f1</th>\n",
              "      <td>0.837896</td>\n",
              "      <td>0.837113</td>\n",
              "      <td>0.840446</td>\n",
              "      <td>0.836614</td>\n",
              "      <td>0.836185</td>\n",
              "    </tr>\n",
              "    <tr>\n",
              "      <th>test_precision</th>\n",
              "      <td>0.721118</td>\n",
              "      <td>0.728006</td>\n",
              "      <td>0.724737</td>\n",
              "      <td>0.731618</td>\n",
              "      <td>0.729814</td>\n",
              "    </tr>\n",
              "    <tr>\n",
              "      <th>train_precision</th>\n",
              "      <td>0.853665</td>\n",
              "      <td>0.851604</td>\n",
              "      <td>0.849413</td>\n",
              "      <td>0.847956</td>\n",
              "      <td>0.847706</td>\n",
              "    </tr>\n",
              "    <tr>\n",
              "      <th>test_recall</th>\n",
              "      <td>0.704023</td>\n",
              "      <td>0.713191</td>\n",
              "      <td>0.709121</td>\n",
              "      <td>0.714799</td>\n",
              "      <td>0.725096</td>\n",
              "    </tr>\n",
              "    <tr>\n",
              "      <th>train_recall</th>\n",
              "      <td>0.822698</td>\n",
              "      <td>0.823107</td>\n",
              "      <td>0.831667</td>\n",
              "      <td>0.825572</td>\n",
              "      <td>0.824973</td>\n",
              "    </tr>\n",
              "  </tbody>\n",
              "</table>\n",
              "</div>\n",
              "      <button class=\"colab-df-convert\" onclick=\"convertToInteractive('df-57644398-2a35-4898-a517-7ebb6ffa55b2')\"\n",
              "              title=\"Convert this dataframe to an interactive table.\"\n",
              "              style=\"display:none;\">\n",
              "        \n",
              "  <svg xmlns=\"http://www.w3.org/2000/svg\" height=\"24px\"viewBox=\"0 0 24 24\"\n",
              "       width=\"24px\">\n",
              "    <path d=\"M0 0h24v24H0V0z\" fill=\"none\"/>\n",
              "    <path d=\"M18.56 5.44l.94 2.06.94-2.06 2.06-.94-2.06-.94-.94-2.06-.94 2.06-2.06.94zm-11 1L8.5 8.5l.94-2.06 2.06-.94-2.06-.94L8.5 2.5l-.94 2.06-2.06.94zm10 10l.94 2.06.94-2.06 2.06-.94-2.06-.94-.94-2.06-.94 2.06-2.06.94z\"/><path d=\"M17.41 7.96l-1.37-1.37c-.4-.4-.92-.59-1.43-.59-.52 0-1.04.2-1.43.59L10.3 9.45l-7.72 7.72c-.78.78-.78 2.05 0 2.83L4 21.41c.39.39.9.59 1.41.59.51 0 1.02-.2 1.41-.59l7.78-7.78 2.81-2.81c.8-.78.8-2.07 0-2.86zM5.41 20L4 18.59l7.72-7.72 1.47 1.35L5.41 20z\"/>\n",
              "  </svg>\n",
              "      </button>\n",
              "      \n",
              "  <style>\n",
              "    .colab-df-container {\n",
              "      display:flex;\n",
              "      flex-wrap:wrap;\n",
              "      gap: 12px;\n",
              "    }\n",
              "\n",
              "    .colab-df-convert {\n",
              "      background-color: #E8F0FE;\n",
              "      border: none;\n",
              "      border-radius: 50%;\n",
              "      cursor: pointer;\n",
              "      display: none;\n",
              "      fill: #1967D2;\n",
              "      height: 32px;\n",
              "      padding: 0 0 0 0;\n",
              "      width: 32px;\n",
              "    }\n",
              "\n",
              "    .colab-df-convert:hover {\n",
              "      background-color: #E2EBFA;\n",
              "      box-shadow: 0px 1px 2px rgba(60, 64, 67, 0.3), 0px 1px 3px 1px rgba(60, 64, 67, 0.15);\n",
              "      fill: #174EA6;\n",
              "    }\n",
              "\n",
              "    [theme=dark] .colab-df-convert {\n",
              "      background-color: #3B4455;\n",
              "      fill: #D2E3FC;\n",
              "    }\n",
              "\n",
              "    [theme=dark] .colab-df-convert:hover {\n",
              "      background-color: #434B5C;\n",
              "      box-shadow: 0px 1px 3px 1px rgba(0, 0, 0, 0.15);\n",
              "      filter: drop-shadow(0px 1px 2px rgba(0, 0, 0, 0.3));\n",
              "      fill: #FFFFFF;\n",
              "    }\n",
              "  </style>\n",
              "\n",
              "      <script>\n",
              "        const buttonEl =\n",
              "          document.querySelector('#df-57644398-2a35-4898-a517-7ebb6ffa55b2 button.colab-df-convert');\n",
              "        buttonEl.style.display =\n",
              "          google.colab.kernel.accessAllowed ? 'block' : 'none';\n",
              "\n",
              "        async function convertToInteractive(key) {\n",
              "          const element = document.querySelector('#df-57644398-2a35-4898-a517-7ebb6ffa55b2');\n",
              "          const dataTable =\n",
              "            await google.colab.kernel.invokeFunction('convertToInteractive',\n",
              "                                                     [key], {});\n",
              "          if (!dataTable) return;\n",
              "\n",
              "          const docLinkHtml = 'Like what you see? Visit the ' +\n",
              "            '<a target=\"_blank\" href=https://colab.research.google.com/notebooks/data_table.ipynb>data table notebook</a>'\n",
              "            + ' to learn more about interactive tables.';\n",
              "          element.innerHTML = '';\n",
              "          dataTable['output_type'] = 'display_data';\n",
              "          await google.colab.output.renderOutput(dataTable, element);\n",
              "          const docLink = document.createElement('div');\n",
              "          docLink.innerHTML = docLinkHtml;\n",
              "          element.appendChild(docLink);\n",
              "        }\n",
              "      </script>\n",
              "    </div>\n",
              "  </div>\n",
              "  "
            ]
          },
          "metadata": {}
        }
      ]
    },
    {
      "cell_type": "markdown",
      "source": [
        "### Usando GridSearchCV para HPO"
      ],
      "metadata": {
        "id": "zZ_e2aS-JLCv"
      }
    },
    {
      "cell_type": "code",
      "source": [
        "parameters = {\n",
        "    'n_estimators': range(5, 51, 5),\n",
        "    'max_depth': range(8, 15, 2)\n",
        "}\n",
        "grid_search_clf = GridSearchCV(\n",
        "    estimator = random_forest_clf_b,\n",
        "    param_grid = parameters\n",
        ")\n",
        "grid_search_clf.fit(X_b, y_b)"
      ],
      "metadata": {
        "id": "Og7JbjpKJO5n"
      },
      "execution_count": null,
      "outputs": []
    },
    {
      "cell_type": "code",
      "source": [
        "pd.DataFrame.from_dict(grid_search_clf.cv_results_).head()"
      ],
      "metadata": {
        "id": "X-u4bNomJBs4"
      },
      "execution_count": null,
      "outputs": []
    },
    {
      "cell_type": "code",
      "source": [
        "grid_search_clf.best_estimator_"
      ],
      "metadata": {
        "colab": {
          "base_uri": "https://localhost:8080/"
        },
        "id": "Tr9FB1JpcCMv",
        "outputId": "d45fa919-7f0f-4155-cae2-04d16d496f74"
      },
      "execution_count": null,
      "outputs": [
        {
          "output_type": "execute_result",
          "data": {
            "text/plain": [
              "RandomForestClassifier(max_depth=14, n_estimators=50, random_state=0)"
            ]
          },
          "metadata": {},
          "execution_count": 54
        }
      ]
    },
    {
      "cell_type": "code",
      "source": [
        ""
      ],
      "metadata": {
        "id": "symzEZRnV5KX"
      },
      "execution_count": null,
      "outputs": []
    },
    {
      "cell_type": "code",
      "source": [
        "random_forest_clf_b = RandomForestClassifier(\n",
        "    n_estimators = 50,\n",
        "    max_depth = 10,\n",
        "    random_state=0\n",
        ")\n",
        "random_forest_clf_b.fit(X_b, y_b)"
      ],
      "metadata": {
        "colab": {
          "base_uri": "https://localhost:8080/"
        },
        "id": "wWWa6Mihb5zo",
        "outputId": "7064b18d-cca3-4fc2-f79a-b44e3bfba452"
      },
      "execution_count": null,
      "outputs": [
        {
          "output_type": "execute_result",
          "data": {
            "text/plain": [
              "RandomForestClassifier(max_depth=10, n_estimators=50, random_state=0)"
            ]
          },
          "metadata": {},
          "execution_count": 57
        }
      ]
    },
    {
      "cell_type": "code",
      "source": [
        "random_forest_clf_b.score(X_b, y_b)"
      ],
      "metadata": {
        "colab": {
          "base_uri": "https://localhost:8080/"
        },
        "outputId": "05c6e636-7d5b-4c29-869e-bba9f2f94ea9",
        "id": "IO1xqc8mcPGL"
      },
      "execution_count": null,
      "outputs": [
        {
          "output_type": "execute_result",
          "data": {
            "text/plain": [
              "0.8420793472144062"
            ]
          },
          "metadata": {},
          "execution_count": 58
        }
      ]
    },
    {
      "cell_type": "code",
      "source": [
        "plot_confusion_matrix(random_forest_clf_b, X_b, y_b)\n",
        "plt.savefig('/content/drive/Shareddrives/MSc Ciencia Datos/proyectointegrador/Images/matConf_rndForest_balanced_random.png')\n",
        "plt.show()"
      ],
      "metadata": {
        "colab": {
          "base_uri": "https://localhost:8080/",
          "height": 285
        },
        "outputId": "d53c52b0-1013-45d9-925e-df0bab1c1cc8",
        "id": "VGXdEYh1cPGM"
      },
      "execution_count": null,
      "outputs": [
        {
          "output_type": "display_data",
          "data": {
            "text/plain": [
              "<Figure size 432x288 with 2 Axes>"
            ],
            "image/png": "[encoded data removed]"
          },
          "metadata": {
            "needs_background": "light"
          }
        }
      ]
    },
    {
      "cell_type": "code",
      "source": [
        "print(classification_report(y_b, random_forest_clf_b.predict(X_b)))"
      ],
      "metadata": {
        "colab": {
          "base_uri": "https://localhost:8080/"
        },
        "outputId": "bfb52432-f757-48e2-a0f2-958a260cb7ca",
        "id": "YbQX2CYdcPGM"
      },
      "execution_count": null,
      "outputs": [
        {
          "output_type": "stream",
          "name": "stdout",
          "text": [
            "              precision    recall  f1-score   support\n",
            "\n",
            "         0.0       0.84      0.86      0.85     21766\n",
            "         1.0       0.85      0.83      0.84     20882\n",
            "\n",
            "    accuracy                           0.84     42648\n",
            "   macro avg       0.84      0.84      0.84     42648\n",
            "weighted avg       0.84      0.84      0.84     42648\n",
            "\n"
          ]
        }
      ]
    },
    {
      "cell_type": "code",
      "source": [
        "cv_scores = metrics_CV_classifier(model = random_forest_clf_b, X = X_b, y = y_b, cv = 5)"
      ],
      "metadata": {
        "colab": {
          "base_uri": "https://localhost:8080/",
          "height": 525
        },
        "outputId": "0764c65b-f4b0-4ee3-f4ef-8fef1c92105e",
        "id": "AQNPGyqXcPGM"
      },
      "execution_count": null,
      "outputs": [
        {
          "output_type": "stream",
          "name": "stdout",
          "text": [
            "F1 score medio en Train: 0.85\n",
            "F1 score medio en Test: 0.73\n",
            "Precision obtenido en train: 0.86\n",
            "Precision obtenido en test: 0.73\n"
          ]
        },
        {
          "output_type": "display_data",
          "data": {
            "text/plain": [
              "                                                                 0  \\\n",
              "fit_time                                                 12.937523   \n",
              "score_time                                                0.126841   \n",
              "estimator        (DecisionTreeClassifier(max_depth=10, max_feat...   \n",
              "test_accuracy                                             0.728957   \n",
              "train_accuracy                                            0.850402   \n",
              "test_f1                                                   0.719349   \n",
              "train_f1                                                  0.844646   \n",
              "test_precision                                            0.729444   \n",
              "train_precision                                            0.85924   \n",
              "test_recall                                               0.709531   \n",
              "train_recall                                               0.83054   \n",
              "\n",
              "                                                                 1  \\\n",
              "fit_time                                                 12.843906   \n",
              "score_time                                                0.126251   \n",
              "estimator        (DecisionTreeClassifier(max_depth=10, max_feat...   \n",
              "test_accuracy                                             0.736108   \n",
              "train_accuracy                                            0.851896   \n",
              "test_f1                                                   0.728828   \n",
              "train_f1                                                  0.846549   \n",
              "test_precision                                            0.733511   \n",
              "train_precision                                           0.859098   \n",
              "test_recall                                               0.724204   \n",
              "train_recall                                              0.834361   \n",
              "\n",
              "                                                                 2  \\\n",
              "fit_time                                                 12.826205   \n",
              "score_time                                                0.114648   \n",
              "estimator        (DecisionTreeClassifier(max_depth=10, max_feat...   \n",
              "test_accuracy                                             0.730832   \n",
              "train_accuracy                                            0.850577   \n",
              "test_f1                                                    0.72237   \n",
              "train_f1                                                   0.84574   \n",
              "test_precision                                            0.729783   \n",
              "train_precision                                           0.855106   \n",
              "test_recall                                               0.715107   \n",
              "train_recall                                              0.836576   \n",
              "\n",
              "                                                                 3  \\\n",
              "fit_time                                                 12.969653   \n",
              "score_time                                                0.117166   \n",
              "estimator        (DecisionTreeClassifier(max_depth=10, max_feat...   \n",
              "test_accuracy                                              0.73467   \n",
              "train_accuracy                                            0.850084   \n",
              "test_f1                                                   0.725597   \n",
              "train_f1                                                  0.844948   \n",
              "test_precision                                            0.734955   \n",
              "train_precision                                           0.855923   \n",
              "test_recall                                               0.716475   \n",
              "train_recall                                              0.834251   \n",
              "\n",
              "                                                                 4  \n",
              "fit_time                                                  9.176899  \n",
              "score_time                                                0.090034  \n",
              "estimator        (DecisionTreeClassifier(max_depth=10, max_feat...  \n",
              "test_accuracy                                             0.741119  \n",
              "train_accuracy                                            0.849468  \n",
              "test_f1                                                   0.734168  \n",
              "train_f1                                                   0.84408  \n",
              "test_precision                                            0.738257  \n",
              "train_precision                                           0.856351  \n",
              "test_recall                                               0.730125  \n",
              "train_recall                                              0.832156  "
            ],
            "text/html": [
              "\n",
              "  <div id=\"df-0af510e6-6588-4bda-916a-208e0243544d\">\n",
              "    <div class=\"colab-df-container\">\n",
              "      <div>\n",
              "<style scoped>\n",
              "    .dataframe tbody tr th:only-of-type {\n",
              "        vertical-align: middle;\n",
              "    }\n",
              "\n",
              "    .dataframe tbody tr th {\n",
              "        vertical-align: top;\n",
              "    }\n",
              "\n",
              "    .dataframe thead th {\n",
              "        text-align: right;\n",
              "    }\n",
              "</style>\n",
              "<table border=\"1\" class=\"dataframe\">\n",
              "  <thead>\n",
              "    <tr style=\"text-align: right;\">\n",
              "      <th></th>\n",
              "      <th>0</th>\n",
              "      <th>1</th>\n",
              "      <th>2</th>\n",
              "      <th>3</th>\n",
              "      <th>4</th>\n",
              "    </tr>\n",
              "  </thead>\n",
              "  <tbody>\n",
              "    <tr>\n",
              "      <th>fit_time</th>\n",
              "      <td>12.937523</td>\n",
              "      <td>12.843906</td>\n",
              "      <td>12.826205</td>\n",
              "      <td>12.969653</td>\n",
              "      <td>9.176899</td>\n",
              "    </tr>\n",
              "    <tr>\n",
              "      <th>score_time</th>\n",
              "      <td>0.126841</td>\n",
              "      <td>0.126251</td>\n",
              "      <td>0.114648</td>\n",
              "      <td>0.117166</td>\n",
              "      <td>0.090034</td>\n",
              "    </tr>\n",
              "    <tr>\n",
              "      <th>estimator</th>\n",
              "      <td>(DecisionTreeClassifier(max_depth=10, max_feat...</td>\n",
              "      <td>(DecisionTreeClassifier(max_depth=10, max_feat...</td>\n",
              "      <td>(DecisionTreeClassifier(max_depth=10, max_feat...</td>\n",
              "      <td>(DecisionTreeClassifier(max_depth=10, max_feat...</td>\n",
              "      <td>(DecisionTreeClassifier(max_depth=10, max_feat...</td>\n",
              "    </tr>\n",
              "    <tr>\n",
              "      <th>test_accuracy</th>\n",
              "      <td>0.728957</td>\n",
              "      <td>0.736108</td>\n",
              "      <td>0.730832</td>\n",
              "      <td>0.73467</td>\n",
              "      <td>0.741119</td>\n",
              "    </tr>\n",
              "    <tr>\n",
              "      <th>train_accuracy</th>\n",
              "      <td>0.850402</td>\n",
              "      <td>0.851896</td>\n",
              "      <td>0.850577</td>\n",
              "      <td>0.850084</td>\n",
              "      <td>0.849468</td>\n",
              "    </tr>\n",
              "    <tr>\n",
              "      <th>test_f1</th>\n",
              "      <td>0.719349</td>\n",
              "      <td>0.728828</td>\n",
              "      <td>0.72237</td>\n",
              "      <td>0.725597</td>\n",
              "      <td>0.734168</td>\n",
              "    </tr>\n",
              "    <tr>\n",
              "      <th>train_f1</th>\n",
              "      <td>0.844646</td>\n",
              "      <td>0.846549</td>\n",
              "      <td>0.84574</td>\n",
              "      <td>0.844948</td>\n",
              "      <td>0.84408</td>\n",
              "    </tr>\n",
              "    <tr>\n",
              "      <th>test_precision</th>\n",
              "      <td>0.729444</td>\n",
              "      <td>0.733511</td>\n",
              "      <td>0.729783</td>\n",
              "      <td>0.734955</td>\n",
              "      <td>0.738257</td>\n",
              "    </tr>\n",
              "    <tr>\n",
              "      <th>train_precision</th>\n",
              "      <td>0.85924</td>\n",
              "      <td>0.859098</td>\n",
              "      <td>0.855106</td>\n",
              "      <td>0.855923</td>\n",
              "      <td>0.856351</td>\n",
              "    </tr>\n",
              "    <tr>\n",
              "      <th>test_recall</th>\n",
              "      <td>0.709531</td>\n",
              "      <td>0.724204</td>\n",
              "      <td>0.715107</td>\n",
              "      <td>0.716475</td>\n",
              "      <td>0.730125</td>\n",
              "    </tr>\n",
              "    <tr>\n",
              "      <th>train_recall</th>\n",
              "      <td>0.83054</td>\n",
              "      <td>0.834361</td>\n",
              "      <td>0.836576</td>\n",
              "      <td>0.834251</td>\n",
              "      <td>0.832156</td>\n",
              "    </tr>\n",
              "  </tbody>\n",
              "</table>\n",
              "</div>\n",
              "      <button class=\"colab-df-convert\" onclick=\"convertToInteractive('df-0af510e6-6588-4bda-916a-208e0243544d')\"\n",
              "              title=\"Convert this dataframe to an interactive table.\"\n",
              "              style=\"display:none;\">\n",
              "        \n",
              "  <svg xmlns=\"http://www.w3.org/2000/svg\" height=\"24px\"viewBox=\"0 0 24 24\"\n",
              "       width=\"24px\">\n",
              "    <path d=\"M0 0h24v24H0V0z\" fill=\"none\"/>\n",
              "    <path d=\"M18.56 5.44l.94 2.06.94-2.06 2.06-.94-2.06-.94-.94-2.06-.94 2.06-2.06.94zm-11 1L8.5 8.5l.94-2.06 2.06-.94-2.06-.94L8.5 2.5l-.94 2.06-2.06.94zm10 10l.94 2.06.94-2.06 2.06-.94-2.06-.94-.94-2.06-.94 2.06-2.06.94z\"/><path d=\"M17.41 7.96l-1.37-1.37c-.4-.4-.92-.59-1.43-.59-.52 0-1.04.2-1.43.59L10.3 9.45l-7.72 7.72c-.78.78-.78 2.05 0 2.83L4 21.41c.39.39.9.59 1.41.59.51 0 1.02-.2 1.41-.59l7.78-7.78 2.81-2.81c.8-.78.8-2.07 0-2.86zM5.41 20L4 18.59l7.72-7.72 1.47 1.35L5.41 20z\"/>\n",
              "  </svg>\n",
              "      </button>\n",
              "      \n",
              "  <style>\n",
              "    .colab-df-container {\n",
              "      display:flex;\n",
              "      flex-wrap:wrap;\n",
              "      gap: 12px;\n",
              "    }\n",
              "\n",
              "    .colab-df-convert {\n",
              "      background-color: #E8F0FE;\n",
              "      border: none;\n",
              "      border-radius: 50%;\n",
              "      cursor: pointer;\n",
              "      display: none;\n",
              "      fill: #1967D2;\n",
              "      height: 32px;\n",
              "      padding: 0 0 0 0;\n",
              "      width: 32px;\n",
              "    }\n",
              "\n",
              "    .colab-df-convert:hover {\n",
              "      background-color: #E2EBFA;\n",
              "      box-shadow: 0px 1px 2px rgba(60, 64, 67, 0.3), 0px 1px 3px 1px rgba(60, 64, 67, 0.15);\n",
              "      fill: #174EA6;\n",
              "    }\n",
              "\n",
              "    [theme=dark] .colab-df-convert {\n",
              "      background-color: #3B4455;\n",
              "      fill: #D2E3FC;\n",
              "    }\n",
              "\n",
              "    [theme=dark] .colab-df-convert:hover {\n",
              "      background-color: #434B5C;\n",
              "      box-shadow: 0px 1px 3px 1px rgba(0, 0, 0, 0.15);\n",
              "      filter: drop-shadow(0px 1px 2px rgba(0, 0, 0, 0.3));\n",
              "      fill: #FFFFFF;\n",
              "    }\n",
              "  </style>\n",
              "\n",
              "      <script>\n",
              "        const buttonEl =\n",
              "          document.querySelector('#df-0af510e6-6588-4bda-916a-208e0243544d button.colab-df-convert');\n",
              "        buttonEl.style.display =\n",
              "          google.colab.kernel.accessAllowed ? 'block' : 'none';\n",
              "\n",
              "        async function convertToInteractive(key) {\n",
              "          const element = document.querySelector('#df-0af510e6-6588-4bda-916a-208e0243544d');\n",
              "          const dataTable =\n",
              "            await google.colab.kernel.invokeFunction('convertToInteractive',\n",
              "                                                     [key], {});\n",
              "          if (!dataTable) return;\n",
              "\n",
              "          const docLinkHtml = 'Like what you see? Visit the ' +\n",
              "            '<a target=\"_blank\" href=https://colab.research.google.com/notebooks/data_table.ipynb>data table notebook</a>'\n",
              "            + ' to learn more about interactive tables.';\n",
              "          element.innerHTML = '';\n",
              "          dataTable['output_type'] = 'display_data';\n",
              "          await google.colab.output.renderOutput(dataTable, element);\n",
              "          const docLink = document.createElement('div');\n",
              "          docLink.innerHTML = docLinkHtml;\n",
              "          element.appendChild(docLink);\n",
              "        }\n",
              "      </script>\n",
              "    </div>\n",
              "  </div>\n",
              "  "
            ]
          },
          "metadata": {}
        }
      ]
    },
    {
      "cell_type": "markdown",
      "source": [
        "## **Usando la curva ROC para comparar:**"
      ],
      "metadata": {
        "id": "i-tMox1pVS-D"
      }
    },
    {
      "cell_type": "markdown",
      "source": [
        "- Árbol de decisiones"
      ],
      "metadata": {
        "id": "Csxbh5MDXFgi"
      }
    },
    {
      "cell_type": "code",
      "source": [
        "tree_classifier = DecisionTreeClassifier(max_depth = 10, random_state = 0)\n",
        "X_train, X_test, y_train, y_test = train_test_split(\n",
        "    X_b, y_b, test_size = 0.25, random_state = 0\n",
        ")\n",
        "\n",
        "tree_classifier.fit(X_train, y_train)\n",
        "y_test_prob = tree_classifier.predict_proba(X_test)\n",
        "y_test_pred = tree_classifier.predict(X_test)"
      ],
      "metadata": {
        "id": "ZsRAgSwjVX2g"
      },
      "execution_count": null,
      "outputs": []
    },
    {
      "cell_type": "markdown",
      "source": [
        " - Regresión Logística"
      ],
      "metadata": {
        "id": "Z6pTln4qEtKv"
      }
    },
    {
      "cell_type": "code",
      "source": [
        "log_reg_clf = LogisticRegression(random_state=0)\n",
        "log_reg_clf.fit(X_train, y_train)\n",
        "y_test_log_reg_prob = log_reg_clf.predict_proba(X_test)\n",
        "y_test_log_reg_pred = log_reg_clf.predict(X_test)"
      ],
      "metadata": {
        "id": "ZwIw6JUYZHwJ"
      },
      "execution_count": null,
      "outputs": []
    },
    {
      "cell_type": "markdown",
      "source": [
        "- Random Forest"
      ],
      "metadata": {
        "id": "TOOR236FLJXS"
      }
    },
    {
      "cell_type": "code",
      "source": [
        "random_forest_clf_best = RandomForestClassifier(\n",
        "    n_estimators = 50,\n",
        "    max_depth = 10,\n",
        "    random_state=0\n",
        ")\n",
        "\n",
        "random_forest_clf_best.fit(X_train, y_train)\n",
        "y_test_rnd_prob = random_forest_clf_best.predict_proba(X_test)\n",
        "y_test_rnd_pred = random_forest_clf_best.predict(X_test)"
      ],
      "metadata": {
        "id": "smDbzOVdLLPa"
      },
      "execution_count": null,
      "outputs": []
    },
    {
      "cell_type": "code",
      "source": [
        "fpr, tpr, thresholds = roc_curve(y_test, y_test_prob[:, 1])\n",
        "roc_auc = auc(fpr, tpr)\n",
        "display_roc = RocCurveDisplay(fpr=fpr, tpr=tpr, roc_auc=roc_auc,\n",
        "                                  estimator_name='Tree Classifer depth = 10')\n",
        "\n",
        "fpr_reg_log, tpr_reg_log, thresholds_reg_log = roc_curve(y_test, y_test_log_reg_prob[:, 1])\n",
        "roc_auc_reg_log = auc(fpr_reg_log, tpr_reg_log)\n",
        "display_reg_log = RocCurveDisplay(fpr=fpr_reg_log, tpr=tpr_reg_log, roc_auc=roc_auc_reg_log,\n",
        "                                  estimator_name='Logistic Regression')\n",
        "\n",
        "fpr_rnd_frst, tpr_rnd_frst, thresholds_rnd_frst = roc_curve(y_test, y_test_rnd_prob[:, 1])\n",
        "roc_auc_rnd = auc(fpr_rnd_frst, tpr_rnd_frst)\n",
        "display_reg_rnd = RocCurveDisplay(fpr=fpr_rnd_frst, tpr=tpr_rnd_frst, roc_auc=roc_auc_rnd,\n",
        "                                  estimator_name='Random forest n_est = 50, depth = 10')\n",
        "\n",
        "fig, ax = plt.subplots(figsize = (8, 8))\n",
        "display_roc.plot(color = 'green', ax = ax)\n",
        "display_reg_log.plot(color = 'orange', ax = ax)\n",
        "display_reg_rnd.plot(color = 'darkblue', ax = ax)\n",
        "plt.plot(np.linspace(0, 1, 10), np.linspace(0, 1, 10), linestyle = '--', color = 'black')\n",
        "plt.savefig('/content/drive/Shareddrives/MSc Ciencia Datos/proyectointegrador/Images/ROCcurve_comparision.png')\n",
        "plt.show()"
      ],
      "metadata": {
        "colab": {
          "base_uri": "https://localhost:8080/",
          "height": 502
        },
        "id": "kdvtJb2-Xlf6",
        "outputId": "ff2ee56d-fe04-4d46-c2f8-e83856f18dfc"
      },
      "execution_count": null,
      "outputs": [
        {
          "output_type": "display_data",
          "data": {
            "text/plain": [
              "<Figure size 576x576 with 1 Axes>"
            ],
            "image/png": "[encoded data removed]"
          },
          "metadata": {
            "needs_background": "light"
          }
        }
      ]
    },
    {
      "cell_type": "markdown",
      "source": [
        "## **Coeficiente de correlación de Mathews:**"
      ],
      "metadata": {
        "id": "R-fs7vzTbVo-"
      }
    },
    {
      "cell_type": "code",
      "source": [
        "d_t_clf_mathew_coef = matthews_corrcoef(y_test, y_test_pred)\n",
        "l_r_clf_mathew_coef = matthews_corrcoef(y_test, y_test_log_reg_pred)\n",
        "r_f_clf_mathew_coef = matthews_corrcoef(y_test, y_test_rnd_pred)\n",
        "\n",
        "print(\n",
        "    f'Coeficiente de correlación de Mathews para el árbol de decisiones: {d_t_clf_mathew_coef:.4f}\\n'\n",
        "    f'Coeficiente de correlación de Mathews para la regresión logística: {l_r_clf_mathew_coef:.4f}\\n'\n",
        "    f'Coeficiente de correlación de Mathews para random forest: {r_f_clf_mathew_coef:.4f}'\n",
        ")"
      ],
      "metadata": {
        "colab": {
          "base_uri": "https://localhost:8080/"
        },
        "id": "zH4ZNEUyba22",
        "outputId": "20231710-bf01-4498-c2b6-fb1c9d87df48"
      },
      "execution_count": null,
      "outputs": [
        {
          "output_type": "stream",
          "name": "stdout",
          "text": [
            "Coeficiente de correlación de Mathews para el árbol de decisiones: 0.3279\n",
            "Coeficiente de correlación de Mathews para la regresión logística: 0.4099\n",
            "Coeficiente de correlación de Mathews para random forest: 0.4555\n"
          ]
        }
      ]
    },
    {
      "cell_type": "markdown",
      "source": [
        "## **Preguntar:** ¿Vale la pena optimizar hiperparámetros dado los coeficientes de correlación de Mathews obtenidos? ¿Cómo sería el riesgo de overfitting?"
      ],
      "metadata": {
        "id": "ykAwb4VGdDK1"
      }
    },
    {
      "cell_type": "markdown",
      "source": [
        "## **Exporte del modelo:**"
      ],
      "metadata": {
        "id": "sIeVzD4ydlYd"
      }
    },
    {
      "cell_type": "code",
      "source": [
        "filename = '/content/drive/Shareddrives/MSc Ciencia Datos/proyectointegrador/data lake/Logistic_Regression_clf.sav'\n",
        "pickle.dump(log_reg_clf, open(filename, 'wb'))\n",
        "\n",
        "upload_file_to_S3(\n",
        "    file_name = filename,\n",
        "    bucket = BUCKET_NAME,\n",
        "    folder = 'SANDBOX'\n",
        ")"
      ],
      "metadata": {
        "id": "DaVSbUXNdn7N",
        "colab": {
          "base_uri": "https://localhost:8080/"
        },
        "outputId": "31d47e14-a3ea-4d03-aec2-80e2b95e3252"
      },
      "execution_count": null,
      "outputs": [
        {
          "output_type": "execute_result",
          "data": {
            "text/plain": [
              "True"
            ]
          },
          "metadata": {},
          "execution_count": 67
        }
      ]
    },
    {
      "cell_type": "code",
      "source": [
        "filename_tree = '/content/drive/Shareddrives/MSc Ciencia Datos/proyectointegrador/data lake/Decision_tree_clf.sav'\n",
        "pickle.dump(log_reg_clf, open(filename_tree, 'wb'))\n",
        "\n",
        "upload_file_to_S3(\n",
        "    file_name = filename_tree,\n",
        "    bucket = BUCKET_NAME,\n",
        "    folder = 'SANDBOX'\n",
        ")"
      ],
      "metadata": {
        "id": "7Cmt-m7NdjGC",
        "colab": {
          "base_uri": "https://localhost:8080/"
        },
        "outputId": "6f051ae0-7943-4429-c62c-ed12a21fa2bd"
      },
      "execution_count": null,
      "outputs": [
        {
          "output_type": "execute_result",
          "data": {
            "text/plain": [
              "True"
            ]
          },
          "metadata": {},
          "execution_count": 68
        }
      ]
    },
    {
      "cell_type": "code",
      "source": [
        "filename_pca = '/content/drive/Shareddrives/MSc Ciencia Datos/proyectointegrador/data lake/PCA_transformer.sav'\n",
        "pickle.dump(pca_model, open(filename_pca, 'wb'))\n",
        "\n",
        "upload_file_to_S3(\n",
        "    file_name = filename_pca,\n",
        "    bucket = BUCKET_NAME,\n",
        "    folder = 'SANDBOX'\n",
        ")"
      ],
      "metadata": {
        "id": "iAaBMex7jXF6",
        "colab": {
          "base_uri": "https://localhost:8080/"
        },
        "outputId": "c4e75f8c-7f74-47ea-e1ca-581d7f9d30b3"
      },
      "execution_count": null,
      "outputs": [
        {
          "output_type": "execute_result",
          "data": {
            "text/plain": [
              "True"
            ]
          },
          "metadata": {},
          "execution_count": 69
        }
      ]
    },
    {
      "cell_type": "code",
      "source": [
        "filename_rnd = '/content/drive/Shareddrives/MSc Ciencia Datos/proyectointegrador/data lake/Random_Forest_clf.sav'\n",
        "pickle.dump(random_forest_clf_best, open(filename_rnd, 'wb'))\n",
        "\n",
        "upload_file_to_S3(\n",
        "    file_name = filename_rnd,\n",
        "    bucket = BUCKET_NAME,\n",
        "    folder = 'SANDBOX'\n",
        ")"
      ],
      "metadata": {
        "id": "lPYFfTgwdovB",
        "colab": {
          "base_uri": "https://localhost:8080/"
        },
        "outputId": "df5efbe2-762a-435e-8a8b-5cc2f38cb94a"
      },
      "execution_count": null,
      "outputs": [
        {
          "output_type": "execute_result",
          "data": {
            "text/plain": [
              "True"
            ]
          },
          "metadata": {},
          "execution_count": 70
        }
      ]
    },
    {
      "cell_type": "markdown",
      "source": [
        "Test:"
      ],
      "metadata": {
        "id": "iUEjIXXcfJ6r"
      }
    },
    {
      "cell_type": "code",
      "source": [
        "log_reg_loaded = pickle.load(open(filename, 'rb'))\n",
        "log_reg_loaded.score(X_test, y_test)"
      ],
      "metadata": {
        "colab": {
          "base_uri": "https://localhost:8080/"
        },
        "id": "inYgrosIfOgb",
        "outputId": "28e425b8-b013-460a-8ba3-b716cab156ca"
      },
      "execution_count": null,
      "outputs": [
        {
          "output_type": "execute_result",
          "data": {
            "text/plain": [
              "0.7051209904333146"
            ]
          },
          "metadata": {},
          "execution_count": 85
        }
      ]
    },
    {
      "cell_type": "code",
      "source": [
        "log_reg_clf.score(X_test, y_test)"
      ],
      "metadata": {
        "colab": {
          "base_uri": "https://localhost:8080/"
        },
        "id": "POCI-agtiy_K",
        "outputId": "64e6e30c-5534-4b4d-98f9-bc52afb1710f"
      },
      "execution_count": null,
      "outputs": [
        {
          "output_type": "execute_result",
          "data": {
            "text/plain": [
              "0.7051209904333146"
            ]
          },
          "metadata": {},
          "execution_count": 86
        }
      ]
    },
    {
      "cell_type": "markdown",
      "metadata": {
        "id": "Yzp8bNKCf7w-"
      },
      "source": [
        "\n",
        "## **Observaciones Retroalimentación:**    \n",
        "- Detallar y expandir más la metodología. Desde la propuesta se debería haber aplicado\n",
        "- Sugerencia: Para algunas partes del proyecto, usar Apache Spark. Mencionar la tecnología directamente, en el caso de colab (boto3).\n",
        "- No meternos por catalogación (Glue, Athena...)\n",
        "- Máx de faltantes un 20%\n",
        "- Mirar la correlación con respecto a las variable de respuesta, coeficiente de Mathews, ANOVA's\n",
        "- Impacto de la variable de respuesta sobre las variables cuantitivas\n",
        "- Analizar variables que hacen parte del modelo socioeconómico\n",
        "- Detección de atípicos, que generan perturbaciones en la modelación multivariante\n",
        "- Modelo de clasificación: Se calibrar con el punto de corte de la función sigmoide de la regresión logística (ejemplo medicina). Para la muestra desbalanceada, se toman datos que equilibran la muestra (mín TARGET) muestreo aleatorio sin reempazo"
      ]
    }
  ]
}